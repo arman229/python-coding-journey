{
 "cells": [
  {
   "cell_type": "markdown",
   "metadata": {},
   "source": [
    "10-1. Learning Python: Open a blank file in your text editor and write a few lines\n",
    "summarizing what you’ve learned about Python so far. Start each line with the\n",
    "phrase In Python you can. . . . Save the file as learning_python.txt in the same\n",
    "directory as your exercises from this chapter. Write a program that reads the file\n",
    "and prints what you wrote two times: print the contents once by reading in the\n",
    "entire file, and once by storing the lines in a list and then looping over each line."
   ]
  },
  {
   "cell_type": "code",
   "execution_count": 20,
   "metadata": {},
   "outputs": [
    {
     "name": "stdout",
     "output_type": "stream",
     "text": [
      "Learning Python\n",
      "This is the second line of the file.\n",
      "This is the third line of the file.\n",
      "==================\n",
      "Learning Python\n",
      "This is the second line of the file.\n",
      "This is the third line of the file.\n"
     ]
    }
   ],
   "source": [
    "with open('learning_python.txt') as lp:\n",
    "    reads = lp.read()\n",
    "    print(reads)\n",
    "    print(\"==================\")\n",
    "    print(reads)\n",
    "    reads = lp.readlines()\n",
    "    for reads_line in list(reads):\n",
    "        print(reads_line)"
   ]
  },
  {
   "cell_type": "code",
   "execution_count": 21,
   "metadata": {},
   "outputs": [
    {
     "name": "stdout",
     "output_type": "stream",
     "text": [
      "Learning Python\n",
      "This is the second line of the file.\n",
      "This is the third line of the file.\n",
      "++++++++++++++++++++++++++++\n",
      "Learning Python\n",
      "This is the second line of the file.\n",
      "This is the third line of the file.\n"
     ]
    }
   ],
   "source": [
    "from pathlib import Path\n",
    "path = Path('learning_python.txt')\n",
    "\n",
    "print(path.read_text())\n",
    "print('++++++++++++++++++++++++++++')\n",
    "contents = path.read_text()\n",
    "lines = contents.splitlines()\n",
    "for line in lines:\n",
    " print(line)"
   ]
  },
  {
   "cell_type": "markdown",
   "metadata": {},
   "source": [
    "10-2. Learning C: You can use the replace() method to replace any word in a\n",
    "string with a different word. Here’s a quick example showing how to replace\n",
    "'dog' with 'cat' in a sentence:\n",
    "\n",
    "\n",
    "     >>> message = \"I really like dogs.\"\n",
    "     >>> message.replace('dog', 'cat')\n",
    "     'I really like cats.'\n",
    "     \n",
    "Read in each line from the file you just created, learning_python.txt, and\n",
    "replace the word Python with the name of another language, such as C. Print\n",
    "each modified line to the screen"
   ]
  },
  {
   "cell_type": "code",
   "execution_count": 31,
   "metadata": {},
   "outputs": [
    {
     "name": "stdout",
     "output_type": "stream",
     "text": [
      "Learning Python\n",
      "This is the second line of the file.\n",
      "This is the third line of the file.\n",
      "Learning C\n",
      "This is the second line of the file.\n",
      "This is the third line of the file.\n"
     ]
    }
   ],
   "source": [
    "from matplotlib import Path\n",
    "path=Path('learning_python.txt')\n",
    "reads = path.read_text()\n",
    "print(reads)\n",
    "linebyline = reads.splitlines()\n",
    "for i in linebyline:\n",
    "    print(i.replace('Python', 'C'))\n"
   ]
  },
  {
   "cell_type": "code",
   "execution_count": 19,
   "metadata": {},
   "outputs": [
    {
     "name": "stdout",
     "output_type": "stream",
     "text": [
      "Learning Python\n",
      "This is the second line of the file.\n",
      "This is the third line of the file.\n",
      "==================\n",
      "Learning C\n",
      "This is the second line of the file.\n",
      "This is the third line of the file.\n"
     ]
    }
   ],
   "source": [
    "with open('learning_python.txt') as lp:\n",
    "    reads=lp.read()\n",
    "    replace=reads.replace('Python','C')\n",
    "    print(reads)\n",
    "    print(\"==================\")\n",
    "    print(replace)"
   ]
  },
  {
   "cell_type": "markdown",
   "metadata": {},
   "source": [
    "10-3. Simpler Code: The program file_reader.py in this section uses a temporary\n",
    "variable, lines, to show how splitlines() works. You can skip the temporary\n",
    "variable and loop directly over the list that splitlines() returns:\n",
    "\n",
    "     for line in contents.splitlines():\n",
    "\n",
    "Remove the temporary variable from each of the programs in this section,\n",
    "to make them more concise."
   ]
  },
  {
   "cell_type": "code",
   "execution_count": 32,
   "metadata": {},
   "outputs": [
    {
     "name": "stdout",
     "output_type": "stream",
     "text": [
      "Learning Python\n",
      "This is the second line of the file.\n",
      "This is the third line of the file.\n"
     ]
    }
   ],
   "source": [
    "filename = 'learning_python.txt'\n",
    "\n",
    "with open(filename) as file_object:\n",
    "    for line in file_object.read().splitlines():\n",
    "        print(line)\n"
   ]
  },
  {
   "cell_type": "markdown",
   "metadata": {},
   "source": [
    "10-4. Guest: Write a program that prompts the user for their name. When they\n",
    "respond, write their name to a file called guest.txt."
   ]
  },
  {
   "cell_type": "code",
   "execution_count": 36,
   "metadata": {},
   "outputs": [
    {
     "data": {
      "text/plain": [
       "12"
      ]
     },
     "execution_count": 36,
     "metadata": {},
     "output_type": "execute_result"
    }
   ],
   "source": [
    "\n",
    "from matplotlib import  Path\n",
    "user_name:str =input(\"Please enter your Name\")\n",
    "path=Path('guest.txt')\n",
    "path.write_text(user_name)"
   ]
  },
  {
   "cell_type": "markdown",
   "metadata": {},
   "source": [
    "10-5. Guest Book: Write a while loop that prompts users for their name. Collect\n",
    "all the names that are entered, and then write these names to a file called\n",
    "guest_book.txt. Make sure each entry appears on a new line in the file."
   ]
  },
  {
   "cell_type": "code",
   "execution_count": 3,
   "metadata": {},
   "outputs": [
    {
     "name": "stdout",
     "output_type": "stream",
     "text": [
      "We are adding a to the guest list\n",
      "We are adding a to the guest list\n",
      "We are adding ag to the guest list\n",
      "We are adding ff to the guest list\n",
      "We are adding ggg to the guest list\n",
      "We are adding q to the guest list\n",
      "We are adding d to the guest list\n",
      "We are adding  to the guest list\n",
      "We are adding  to the guest list\n",
      "We are adding  to the guest list\n",
      "We are adding dd to the guest list\n",
      "a\n",
      "a\n",
      "ag\n",
      "ff\n",
      "ggg\n",
      "q\n",
      "d\n",
      "\n",
      "\n",
      "\n",
      "dd\n"
     ]
    }
   ],
   "source": [
    "from matplotlib import Path\n",
    "prompt ='Please enter your name\\n'\n",
    "prompt +='\\nEnter quite if this are is no more names'\n",
    " \n",
    "\n",
    "guest_list:list[str]=[]\n",
    "while True:\n",
    "    user_name:str =input(prompt)\n",
    "    if user_name!='quite':\n",
    "        guest_list.append(user_name)\n",
    "        print(f'We are adding {user_name} to the guest list')\n",
    "    else:\n",
    "        break\n",
    "for guest in guest_list:\n",
    "        print(guest)\n",
    "    \n"
   ]
  }
 ],
 "metadata": {
  "kernelspec": {
   "display_name": "Python 3",
   "language": "python",
   "name": "python3"
  },
  "language_info": {
   "codemirror_mode": {
    "name": "ipython",
    "version": 3
   },
   "file_extension": ".py",
   "mimetype": "text/x-python",
   "name": "python",
   "nbconvert_exporter": "python",
   "pygments_lexer": "ipython3",
   "version": "3.12.1"
  }
 },
 "nbformat": 4,
 "nbformat_minor": 2
}
