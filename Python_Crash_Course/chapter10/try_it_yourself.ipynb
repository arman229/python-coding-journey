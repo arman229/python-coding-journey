{
 "cells": [
  {
   "cell_type": "markdown",
   "metadata": {},
   "source": [
    "10-1. Learning Python: Open a blank file in your text editor and write a few lines\n",
    "summarizing what you’ve learned about Python so far. Start each line with the\n",
    "phrase In Python you can. . . . Save the file as learning_python.txt in the same\n",
    "directory as your exercises from this chapter. Write a program that reads the file\n",
    "and prints what you wrote two times: print the contents once by reading in the\n",
    "entire file, and once by storing the lines in a list and then looping over each line."
   ]
  },
  {
   "cell_type": "code",
   "execution_count": 1,
   "metadata": {},
   "outputs": [
    {
     "name": "stdout",
     "output_type": "stream",
     "text": [
      "Learning Python\n",
      "This is the second line of the file.\n",
      "This is the third line of the file.\n",
      "==================\n",
      "Learning Python\n",
      "This is the second line of the file.\n",
      "This is the third line of the file.\n"
     ]
    }
   ],
   "source": [
    "with open('learning_python.txt') as lp:\n",
    "    reads = lp.read()\n",
    "    print(reads)\n",
    "    print(\"==================\")\n",
    "    print(reads)\n",
    "    reads = lp.readlines()\n",
    "    for reads_line in list(reads):\n",
    "        print(reads_line)\n",
    "# OR\n",
    "from pathlib import Path\n",
    "path = Path('learning_python.txt')\n",
    "\n",
    "print(path.read_text())\n",
    "print('++++++++++++++++++++++++++++')\n",
    "contents = path.read_text()\n",
    "lines = contents.splitlines()\n",
    "for line in lines:\n",
    " print(line)        "
   ]
  },
  {
   "cell_type": "markdown",
   "metadata": {},
   "source": [
    "10-2. Learning C: You can use the replace() method to replace any word in a\n",
    "string with a different word. Here’s a quick example showing how to replace\n",
    "'dog' with 'cat' in a sentence:\n",
    "\n",
    "\n",
    "     >>> message = \"I really like dogs.\"\n",
    "     >>> message.replace('dog', 'cat')\n",
    "     'I really like cats.'\n",
    "     \n",
    "Read in each line from the file you just created, learning_python.txt, and\n",
    "replace the word Python with the name of another language, such as C. Print\n",
    "each modified line to the screen"
   ]
  },
  {
   "cell_type": "code",
   "execution_count": 31,
   "metadata": {},
   "outputs": [
    {
     "name": "stdout",
     "output_type": "stream",
     "text": [
      "Learning Python\n",
      "This is the second line of the file.\n",
      "This is the third line of the file.\n",
      "Learning C\n",
      "This is the second line of the file.\n",
      "This is the third line of the file.\n"
     ]
    }
   ],
   "source": [
    "from pathlib import Path\n",
    "path=Path('learning_python.txt')\n",
    "reads = path.read_text()\n",
    "print(reads)\n",
    "linebyline = reads.splitlines()\n",
    "for i in linebyline:\n",
    "    print(i.replace('Python', 'C'))\n",
    "# OR \n",
    "with open('learning_python.txt') as lp:\n",
    "    reads=lp.read()\n",
    "    replace=reads.replace('Python','C')\n",
    "    print(reads)\n",
    "    print(\"==================\")\n",
    "    print(replace)    \n"
   ]
  },
  {
   "cell_type": "markdown",
   "metadata": {},
   "source": [
    "10-3. Simpler Code: The program file_reader.py in this section uses a temporary\n",
    "variable, lines, to show how splitlines() works. You can skip the temporary\n",
    "variable and loop directly over the list that splitlines() returns:\n",
    "\n",
    "     for line in contents.splitlines():\n",
    "\n",
    "Remove the temporary variable from each of the programs in this section,\n",
    "to make them more concise."
   ]
  },
  {
   "cell_type": "code",
   "execution_count": 32,
   "metadata": {},
   "outputs": [
    {
     "name": "stdout",
     "output_type": "stream",
     "text": [
      "Learning Python\n",
      "This is the second line of the file.\n",
      "This is the third line of the file.\n"
     ]
    }
   ],
   "source": [
    "filename = 'learning_python.txt'\n",
    "\n",
    "with open(filename) as file_object:\n",
    "    for line in file_object.read().splitlines():\n",
    "        print(line)\n"
   ]
  },
  {
   "cell_type": "markdown",
   "metadata": {},
   "source": [
    "10-4. Guest: Write a program that prompts the user for their name. When they\n",
    "respond, write their name to a file called guest.txt."
   ]
  },
  {
   "cell_type": "code",
   "execution_count": 9,
   "metadata": {},
   "outputs": [
    {
     "data": {
      "text/plain": [
       "5"
      ]
     },
     "execution_count": 9,
     "metadata": {},
     "output_type": "execute_result"
    }
   ],
   "source": [
    "\n",
    "from pathlib import  Path\n",
    "user_name:str =input(\"Please enter your Name\")\n",
    "path=Path('guest.txt')\n",
    "path.write_text(user_name)"
   ]
  },
  {
   "cell_type": "markdown",
   "metadata": {},
   "source": [
    "10-5. Guest Book: Write a while loop that prompts users for their name. Collect\n",
    "all the names that are entered, and then write these names to a file called\n",
    "guest_book.txt. Make sure each entry appears on a new line in the file."
   ]
  },
  {
   "cell_type": "code",
   "execution_count": 15,
   "metadata": {},
   "outputs": [
    {
     "name": "stdout",
     "output_type": "stream",
     "text": [
      "We are adding arman to the guest list\n",
      "We are adding ashraf to the guest list\n",
      "We are adding quite to the guest list\n"
     ]
    }
   ],
   "source": [
    "prompt ='Please enter your name\\n'\n",
    "prompt +='\\nEnter quite if this are is no more names'\n",
    " \n",
    "\n",
    "guest_list:list[str]=[]\n",
    "while True:\n",
    "    user_name:str =input(prompt)\n",
    "    if user_name.lower() !='quit':\n",
    "        guest_list.append(user_name)\n",
    "        print(f'We are adding {user_name} to the guest list')\n",
    "    else:\n",
    "        break\n",
    " \n",
    "with open('guest_book.txt','w') as file:\n",
    "    for guest in guest_list:\n",
    "        file.write(guest+'\\n')        \n",
    "        \n",
    "    \n"
   ]
  },
  {
   "cell_type": "markdown",
   "metadata": {},
   "source": [
    "10-6. Addition: One common problem when prompting for numerical input\n",
    "occurs when people provide text instead of numbers. When you try to convert\n",
    "the input to an int, you’ll get a ValueError. Write a program that prompts for\n",
    "two numbers. Add them together and print the result. Catch the ValueError if\n",
    "either input value is not a number, and print a friendly error message. Test your\n",
    "program by entering two numbers and then by entering some text instead of a\n",
    "number."
   ]
  },
  {
   "cell_type": "code",
   "execution_count": 17,
   "metadata": {},
   "outputs": [
    {
     "name": "stdout",
     "output_type": "stream",
     "text": [
      "Please enter a number\n"
     ]
    }
   ],
   "source": [
    "\n",
    "try:\n",
    "    num1:int = int(input('Please Enter the first number')) \n",
    "    num2:int = int(input('Please Enter the second number')) \n",
    "except ValueError:\n",
    "     print('Please enter a number')    \n",
    "else:\n",
    "    print(num1+num2)     "
   ]
  },
  {
   "cell_type": "markdown",
   "metadata": {},
   "source": [
    "10-7. Addition Calculator: Wrap your code from Exercise 10-5 in a while loop\n",
    "so the user can continue entering numbers, even if they make a mistake and\n",
    "enter text instead of a number."
   ]
  },
  {
   "cell_type": "code",
   "execution_count": 3,
   "metadata": {},
   "outputs": [
    {
     "name": "stdout",
     "output_type": "stream",
     "text": [
      "Please enter valid numbers or \"quit\" to exit.\n",
      "7\n",
      "Please enter valid numbers or \"quit\" to exit.\n",
      "Please enter valid numbers or \"quit\" to exit.\n",
      "10\n",
      "10\n",
      "8\n",
      "Please enter valid numbers or \"quit\" to exit.\n",
      "Program is finished.\n"
     ]
    }
   ],
   "source": [
    "while True:\n",
    "    try:\n",
    "        num_one:str = input('Please Enter the first number: ')\n",
    "        if num_one.lower() == 'quit':\n",
    "            print('Program is finished.')\n",
    "            break\n",
    "        num1:int = int(num_one)\n",
    "        \n",
    "        num_two:str = input('Please Enter the second number: ')\n",
    "        if num_two.lower == 'quit':\n",
    "            print('Program is finished.')\n",
    "            break\n",
    "        num2:int = int(num_two)\n",
    "        \n",
    "        print(num1 + num2)\n",
    "    except ValueError:\n",
    "        print('Please enter valid numbers or \"quit\" to exit.')\n",
    "    \n"
   ]
  },
  {
   "cell_type": "markdown",
   "metadata": {},
   "source": [
    "10-8. Cats and Dogs: Make two files, cats.txt and dogs.txt. Store at least three\n",
    "names of cats in the first file and three names of dogs in the second file. Write\n",
    "a program that tries to read these files and print the contents of the file to the\n",
    "screen. Wrap your code in a try-except block to catch the FileNotFound error,\n",
    "and print a friendly message if a file is missing. Move one of the files to a different location on your system, and make sure the code in the except block\n",
    "executes properly"
   ]
  },
  {
   "cell_type": "code",
   "execution_count": 18,
   "metadata": {},
   "outputs": [
    {
     "name": "stdout",
     "output_type": "stream",
     "text": [
      "Contents of cats.txt:\n",
      "cat1\n",
      "cat2\n",
      "cat3\n",
      "\n",
      "\n",
      "Contents of dogs.txt:\n",
      "dog1\n",
      "dog2\n",
      "dog3\n",
      "\n"
     ]
    }
   ],
   "source": [
    "try:\n",
    "    with open('cats.txt') as cats:\n",
    "        print(\"Contents of cats.txt:\")\n",
    "        print(cats.read())\n",
    "except FileNotFoundError as e:\n",
    "    print(f\"Error: {e.filename} not found.\")\n",
    "\n",
    "try:\n",
    "    with open('dogs.txt') as dogs:\n",
    "        print(\"\\nContents of dogs.txt:\")\n",
    "        print(dogs.read())\n",
    "except FileNotFoundError as e:\n",
    "    print(f\"Error: {e.filename} not found.\")\n"
   ]
  },
  {
   "cell_type": "markdown",
   "metadata": {},
   "source": [
    "10-9. Silent Cats and Dogs: Modify your except block in Exercise 10-7 to fail\n",
    "silently if either file is missing."
   ]
  },
  {
   "cell_type": "code",
   "execution_count": 19,
   "metadata": {},
   "outputs": [
    {
     "name": "stdout",
     "output_type": "stream",
     "text": [
      "Error: cats.tdxt not found.\n",
      "\n",
      "Contents of dogs.txt:\n",
      "dog1\n",
      "dog2\n",
      "dog3\n",
      "\n"
     ]
    }
   ],
   "source": [
    "try:\n",
    "    with open('cats.tdxt') as cats:\n",
    "        print(\"Contents of cats.txt:\")\n",
    "        print(cats.read())\n",
    "except FileNotFoundError as e:\n",
    "    print(f\"Error: {e.filename} not found.\")\n",
    "\n",
    "try:\n",
    "    with open('dogs.txt') as dogs:\n",
    "        print(\"\\nContents of dogs.txt:\")\n",
    "        print(dogs.read())\n",
    "except FileNotFoundError as e:\n",
    "    print(f\"Error: {e.filename} not found.\")\n"
   ]
  },
  {
   "cell_type": "markdown",
   "metadata": {},
   "source": [
    "10-10. Common Words: Visit Project Gutenberg (https://gutenberg.org) and find\n",
    "a few texts you’d like to analyze. Download the text files for these works, or\n",
    "copy the raw text from your browser into a text file on your computer.\n",
    "You can use the count() method to find out how many times a word or\n",
    "phrase appears in a string. For example, the following code counts the number\n",
    "of times 'row' appears in a string:\n",
    "\n",
    "        >>> line = \"Row, row, row your boat\"\n",
    "        >>> line.count('row')\n",
    "        2\n",
    "        >>> line.lower().count('row')\n",
    "        3\n",
    "Notice that converting the string to lowercase using lower() catches all\n",
    "appearances of the word you’re looking for, regardless of how it’s formatted.\n",
    "Write a program that reads the files you found at Project Gutenberg and\n",
    "determines how many times the word 'the' appears in each text. This will be\n",
    "an approximation because it will also count words such as 'then' and 'there'.\n",
    "Try counting 'the ', with a space in the string, and see how much lower your\n",
    "count is."
   ]
  },
  {
   "cell_type": "code",
   "execution_count": 23,
   "metadata": {},
   "outputs": [
    {
     "name": "stdout",
     "output_type": "stream",
     "text": [
      "The word 'thse' was not found in the file 'gutenberg_file.txt'.\n"
     ]
    }
   ],
   "source": [
    "def count_common_words(filename, word):\n",
    "    try:\n",
    "        total_words = filename.read().lower().count(word)\n",
    "        if total_words > 0:\n",
    "            print(f\"The word '{word}' appears in the file '{filename.name}' about {total_words} times.\")\n",
    "        else:\n",
    "            print(f\"The word '{word}' was not found in the file '{filename.name}'.\")   \n",
    "        \n",
    "    except Exception as e:\n",
    "        print(f\"An error occurred: {e}\")\n",
    "   \n",
    "\n",
    "with open('gutenberg_file.txt', 'r') as gbfile:\n",
    "    count_common_words(gbfile, 'thse')\n"
   ]
  },
  {
   "cell_type": "markdown",
   "metadata": {},
   "source": [
    "10-11. Favorite Number: Write a program that prompts for the user’s favorite\n",
    "number. Use json.dumps() to store this number in a file. Write a separate program that reads in this value and prints the message “I know your favorite\n",
    "number! It’s _____.”"
   ]
  },
  {
   "cell_type": "code",
   "execution_count": 24,
   "metadata": {},
   "outputs": [
    {
     "name": "stdout",
     "output_type": "stream",
     "text": [
      "I know your favorite number! It’s 333.\n"
     ]
    }
   ],
   "source": [
    "import json\n",
    "# suppose this is favorite_number_writer.py file\n",
    "user_favorite_number:int=int(input('Please enter your favorite number'))\n",
    "user_store=json.dumps(user_favorite_number)\n",
    "with open('json_data.txt','w') as jsonfile:\n",
    "    jsonfile.write(user_store)\n",
    "# suppose this is favorite_number_reader.py file    \n",
    "with open('json_data.txt','r') as jsonreadfile:\n",
    "    user_favorite_number=json.loads(jsonreadfile.read())\n",
    "    print(f\"I know your favorite number! It’s {user_favorite_number}.\")"
   ]
  },
  {
   "cell_type": "markdown",
   "metadata": {},
   "source": [
    "10-12. Favorite Number Remembered: Combine the two programs you wrote in\n",
    "Exercise 10-11 into one file. If the number is already stored, report the favorite\n",
    "number to the user. If not, prompt for the user’s favorite number and store it in a\n",
    "file. Run the program twice to see that it works."
   ]
  },
  {
   "cell_type": "code",
   "execution_count": 42,
   "metadata": {},
   "outputs": [
    {
     "name": "stdout",
     "output_type": "stream",
     "text": [
      "Your favorite number is 4555.\n",
      "Welcome back!\n",
      "Your favorite number is 4555.\n"
     ]
    }
   ],
   "source": [
    "import json\n",
    "def get_favorite_number(filename:str)->int|None:\n",
    "    try:\n",
    "        with open(filename, 'r') as file:\n",
    "            favorite_number = json.load(file)\n",
    "            print(f\"Your favorite number is {favorite_number}.\")\n",
    "            return favorite_number\n",
    "    except FileNotFoundError:\n",
    "        print(f\"{filename} not found.\")\n",
    "        return None\n",
    "    except json.JSONDecodeError:\n",
    "        print(f\"Error decoding {filename}.\")\n",
    "        return None\n",
    "\n",
    "def store_favorite_number(filename:str)->int|None:\n",
    "    try:\n",
    "        favorite_number = int(input(\"What is your favorite number? \"))\n",
    "        with open(filename, 'w') as file:\n",
    "            json.dump(favorite_number, file)\n",
    "        print(\"Favorite number stored successfully!\")\n",
    "    except ValueError:\n",
    "        print(\"Please enter a valid number.\")\n",
    "    except Exception as e:\n",
    "        print(f\"An error occurred: {e}\")\n",
    "\n",
    "def main():\n",
    "    filename = 'favorite_number.json'\n",
    "    favorite_number = get_favorite_number(filename)\n",
    "    if favorite_number is None:\n",
    "        store_favorite_number(filename)\n",
    "    else:\n",
    "        print(\"Welcome back!\")\n",
    "        print(f\"Your favorite number is {favorite_number}.\")\n",
    "\n",
    " \n",
    "main()\n"
   ]
  },
  {
   "cell_type": "markdown",
   "metadata": {},
   "source": [
    "10-13. User Dictionary: The remember_me.py example only stores one piece of\n",
    "information, the username. Expand this example by asking for two more pieces\n",
    "of information about the user, then store all the information you collect in a\n",
    "dictionary. Write this dictionary to a file using json.dumps(), and read it back\n",
    "in using json.loads(). Print a summary showing exactly what your program\n",
    "remembers about the user."
   ]
  },
  {
   "cell_type": "code",
   "execution_count": 47,
   "metadata": {},
   "outputs": [
    {
     "name": "stdout",
     "output_type": "stream",
     "text": [
      "User information found:\n",
      "Username: arman\n",
      "Age: 22\n",
      "Email: arman\n"
     ]
    }
   ],
   "source": [
    "import json\n",
    "from typing import Dict\n",
    "\n",
    "def get_user_info()->Dict[str,str|int]:\n",
    "    username:str = input(\"Enter your username: \")\n",
    "    age:int = int(input(\"Enter your age: \"))\n",
    "    email:str = input(\"Enter your email: \")\n",
    "    return {\"username\": username, \"age\": age, \"email\": email}\n",
    "\n",
    "def store_user_info(user_info, filename)->None:\n",
    "    with open(filename, 'w') as file:\n",
    "        json.dump(user_info, file)\n",
    "    print(\"User information stored successfully!\")\n",
    "\n",
    "def read_user_info(filename):\n",
    "    try:\n",
    "        with open(filename, 'r') as file:\n",
    "            user_info = json.load(file)\n",
    "        return user_info\n",
    "    except FileNotFoundError:\n",
    "        print(f\"File '{filename}' not found.\")\n",
    "        return None\n",
    "    except json.JSONDecodeError:\n",
    "        print(f\"Error decoding JSON from '{filename}'.\")\n",
    "        return None\n",
    "\n",
    "def main():\n",
    "    filename = 'user_info.json'\n",
    "    user_info = read_user_info(filename)\n",
    "    if user_info is None:\n",
    "        print(\"No user information found.\")\n",
    "        user_info = get_user_info()\n",
    "        store_user_info(user_info, filename)\n",
    "    else:\n",
    "        print(\"User information found:\")\n",
    "        print(f\"Username: {user_info['username']}\")\n",
    "        print(f\"Age: {user_info['age']}\")\n",
    "        print(f\"Email: {user_info['email']}\")\n",
    "\n",
    "main()\n"
   ]
  },
  {
   "cell_type": "markdown",
   "metadata": {},
   "source": [
    "10-14. Verify User: The final listing for remember_me.py assumes either that the\n",
    "user has already entered their username or that the program is running for the\n",
    "first time. We should modify it in case the current user is not the person who last\n",
    "used the program.\n",
    "Before printing a welcome back message in greet_user(), ask the user if\n",
    "this is the correct username. If it’s not, call get_new_username() to get the correct\n",
    "username."
   ]
  },
  {
   "cell_type": "code",
   "execution_count": null,
   "metadata": {},
   "outputs": [],
   "source": [
    "import json\n",
    "\n",
    "def get_stored_username(filename:str)->str|None:\n",
    "    try:\n",
    "        with open(filename, 'r') as file:\n",
    "            user_info = json.load(file)\n",
    "        return user_info[\"username\"]\n",
    "    except FileNotFoundError:\n",
    "        return None\n",
    "    except json.JSONDecodeError:\n",
    "        print(f\"Error decoding JSON from '{filename}'.\")\n",
    "        return None\n",
    "\n",
    "def get_new_username()->str:\n",
    "    username:str = input(\"Enter your username: \")\n",
    "    return username\n",
    "\n",
    "def greet_user(filename)->None:\n",
    "    stored_username = get_stored_username(filename)\n",
    "    if stored_username:\n",
    "        print(f\"Welcome back, {stored_username}!\")\n",
    "        confirm_username = input(\"Is this the correct username? (yes/no): \")\n",
    "        if confirm_username.lower() != \"yes\":\n",
    "            stored_username = get_new_username()\n",
    "            with open(filename, 'w') as file:\n",
    "                json.dump({\"username\": stored_username}, file)\n",
    "            print(f\"Your username has been updated to {stored_username}.\")\n",
    "        else:\n",
    "            print(\"Enjoy your session!\")\n",
    "    else:\n",
    "        username = get_new_username()\n",
    "        with open(filename, 'w') as file:\n",
    "            json.dump({\"username\": username}, file)\n",
    "        print(f\"We'll remember you when you come back, {username}!\")\n",
    "\n",
    "def main():\n",
    "    filename = 'username.json'\n",
    "    greet_user(filename)\n",
    "\n",
    "main()\n"
   ]
  }
 ],
 "metadata": {
  "kernelspec": {
   "display_name": "Python 3",
   "language": "python",
   "name": "python3"
  },
  "language_info": {
   "codemirror_mode": {
    "name": "ipython",
    "version": 3
   },
   "file_extension": ".py",
   "mimetype": "text/x-python",
   "name": "python",
   "nbconvert_exporter": "python",
   "pygments_lexer": "ipython3",
   "version": "3.12.1"
  }
 },
 "nbformat": 4,
 "nbformat_minor": 2
}
