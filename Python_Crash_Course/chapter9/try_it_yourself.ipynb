{
 "cells": [
  {
   "cell_type": "markdown",
   "metadata": {},
   "source": [
    "9-1. Restaurant: Make a class called Restaurant. The __init__() method for\n",
    "Restaurant should store two attributes: a restaurant_name and a cuisine_type.\n",
    "Make a method called describe_restaurant() that prints these two pieces of\n",
    "information, and a method called open_restaurant() that prints a message indicating that the restaurant is open.\n",
    "Make an instance called restaurant from your class. Print the two attributes individually, and then call both methods."
   ]
  },
  {
   "cell_type": "code",
   "execution_count": 15,
   "metadata": {},
   "outputs": [
    {
     "name": "stdout",
     "output_type": "stream",
     "text": [
      "ali\n",
      "pizza\n",
      "Restaurant Name: ali\n",
      "Cuisine Type: pizza\n",
      "ali is open\n"
     ]
    }
   ],
   "source": [
    "class Restaurant:\n",
    "    def __init__(self, restaurant_name: str, cuisine_type: str) -> None:\n",
    "        self.restaurant = restaurant_name\n",
    "        self.cuisine = cuisine_type\n",
    "\n",
    "    def describe_restaurant(self) -> None:\n",
    "        print(f'Restaurant Name: {self.restaurant}')\n",
    "        print(f'Cuisine Type: {self.cuisine}')\n",
    "\n",
    "    def open_restaurant(self) -> None:\n",
    "        print(f'{self.restaurant} is open')\n",
    "\n",
    "restaurant = Restaurant('ali', 'pizza')       \n",
    "print(restaurant.restaurant)  \n",
    "print(restaurant.cuisine)    \n",
    "restaurant.describe_restaurant()\n",
    "restaurant.open_restaurant()      \n"
   ]
  },
  {
   "cell_type": "markdown",
   "metadata": {},
   "source": [
    "9-2. Three Restaurants: Start with your class from Exercise 9-1. Create three\n",
    "different instances from the class, and call describe_restaurant() for each\n",
    "instance"
   ]
  },
  {
   "cell_type": "code",
   "execution_count": 26,
   "metadata": {},
   "outputs": [
    {
     "name": "stdout",
     "output_type": "stream",
     "text": [
      "Restaurant Name: ali\n",
      "Cuisine Type: pizza\n",
      "============================================\n",
      "Restaurant Name: asad\n",
      "Cuisine Type: pizza\n",
      "============================================\n",
      "Restaurant Name: usman\n",
      "Cuisine Type: pizza\n"
     ]
    }
   ],
   "source": [
    "class Restaurant:\n",
    "    def __init__(self, restaurant_name: str, cuisine_type: str) -> None:\n",
    "        self.restaurant = restaurant_name\n",
    "        self.cuisine = cuisine_type\n",
    "\n",
    "    def describe_restaurant(self) -> None:\n",
    "        print(f'Restaurant Name: {self.restaurant}')\n",
    "        print(f'Cuisine Type: {self.cuisine}')\n",
    "\n",
    "    def open_restaurant(self) -> None:\n",
    "        print(f'{self.restaurant} is open')\n",
    "\n",
    "restaurant1 = Restaurant('ali', 'pizza')\n",
    "restaurant1.describe_restaurant()   \n",
    "print('============================================')\n",
    "restaurant2 = Restaurant('asad', 'pizza')\n",
    "restaurant2.describe_restaurant()   \n",
    "print('============================================')\n",
    "restaurant3 = Restaurant('usman', 'pizza')\n",
    "restaurant3.describe_restaurant()   "
   ]
  },
  {
   "cell_type": "markdown",
   "metadata": {},
   "source": [
    "9-3. Users: Make a class called User. Create two attributes called first_name\n",
    "and last_name, and then create several other attributes that are typically stored\n",
    "in a user profile. Make a method called describe_user() that prints a summary\n",
    "of the user’s information. Make another method called greet_user() that prints\n",
    "a personalized greeting to the user.\n",
    "Create several instances representing different users, and call both methods for each user."
   ]
  },
  {
   "cell_type": "code",
   "execution_count": 40,
   "metadata": {},
   "outputs": [
    {
     "name": "stdout",
     "output_type": "stream",
     "text": [
      "My name is ArmanAshraf. I am 22 old. and my height is 5.11\n",
      "Welcome back Arman\n",
      "+++++++++++++++\n",
      "My name is AliAshraf. I am 32 old. and my height is 5.11\n",
      "Welcome back Ali\n",
      "+++++++++++++++\n",
      "My name is ArmanAshraf. I am 22 old. and my height is 5.11\n",
      "Welcome back Arman\n"
     ]
    }
   ],
   "source": [
    "class User:\n",
    "    def __init__(self,first_name:str,last_name:str,age:int,height:float) -> None:\n",
    "        self.firstName=first_name\n",
    "        self.lastName=last_name\n",
    "        self.age=age\n",
    "        self.height=height\n",
    "    def describe_user(self):\n",
    "        print(f'My name is {self.firstName}{self.lastName}. I am {self.age} old. and my height is {self.height}') \n",
    "    def greet_user(self):\n",
    "        print(f'Welcome back {self.firstName}')\n",
    "first_user=User('Arman','Ashraf',22,5.11)\n",
    "first_user.describe_user()\n",
    "first_user.greet_user()   \n",
    "print('+++++++++++++++')                \n",
    "first_user=User('Ali','Ashraf',32,5.11)\n",
    "first_user.describe_user()\n",
    "first_user.greet_user()\n",
    "print('+++++++++++++++')\n",
    "first_user=User('Arman','Ashraf',22,5.11)\n",
    "first_user.describe_user()\n",
    "first_user.greet_user()"
   ]
  },
  {
   "cell_type": "markdown",
   "metadata": {},
   "source": [
    "9-4. Number Served: Start with your program from Exercise 9-1 (page 162).\n",
    "Add an attribute called number_served with a default value of 0. Create an\n",
    "instance called restaurant from this class. Print the number of customers the\n",
    "restaurant has served, and then change this value and print it again\n",
    "Add a method called set_number_served() that lets you set the number of\n",
    "customers that have been served. Call this method with a new number and print\n",
    "the value again.\n",
    "Add a method called increment_number_served() that lets you increment\n",
    "the number of customers who’ve been served. Call this method with any number\n",
    "you like that could represent how many customers were served in, say, a day of\n",
    "business"
   ]
  },
  {
   "cell_type": "code",
   "execution_count": 46,
   "metadata": {},
   "outputs": [
    {
     "name": "stdout",
     "output_type": "stream",
     "text": [
      "0\n",
      "10\n",
      "20\n"
     ]
    }
   ],
   "source": [
    "class Restaurant:\n",
    "    def __init__(self, restaurant_name: str, cuisine_type: str) -> None:\n",
    "        self.restaurant = restaurant_name\n",
    "        self.cuisine = cuisine_type\n",
    "        self.number_served=0\n",
    "    def describe_restaurant(self) -> None:\n",
    "        print(f'Restaurant Name: {self.restaurant}')\n",
    "        print(f'Cuisine Type: {self.cuisine}')\n",
    "    def open_restaurant(self) -> None:\n",
    "        print(f'{self.restaurant} is open')\n",
    "    def set_number_served(self, number_served: int) -> None:\n",
    "        self.number_served = number_served\n",
    "\n",
    "    def increment_number_served(self, increment: int) -> None:\n",
    "        self.number_served += increment    \n",
    "\n",
    "restaurant = Restaurant('ali', 'pizza')       \n",
    "print(restaurant.number_served)  \n",
    "restaurant.set_number_served(10)\n",
    "print(restaurant.number_served)  \n",
    "restaurant.increment_number_served(10)\n",
    "print(restaurant.number_served)  \n",
    "\n",
    "\n",
    "  \n"
   ]
  },
  {
   "cell_type": "markdown",
   "metadata": {},
   "source": [
    "9-5. Login Attempts: Add an attribute called login_attempts to your User class\n",
    "from Exercise 9-3 (page 162). Write a method called increment_login_attempts()\n",
    "that increments the value of login_attempts by 1. Write another method called\n",
    "reset_login_attempts() that resets the value of login_attempts to 0.\n",
    "Make an instance of the User class and call increment_login_attempts()\n",
    "several times. Print the value of login_attempts to make sure it was incremented\n",
    "properly, and then call reset_login_attempts(). Print login_attempts again to\n",
    "make sure it was reset to 0."
   ]
  },
  {
   "cell_type": "code",
   "execution_count": 49,
   "metadata": {},
   "outputs": [
    {
     "name": "stdout",
     "output_type": "stream",
     "text": [
      "3 times user login\n",
      "1\n",
      "2\n",
      "3\n",
      "3 times user login\n",
      "+++++++++++++++\n",
      "reset 0\n"
     ]
    }
   ],
   "source": [
    "class User:\n",
    "    def __init__(self,first_name:str,last_name:str,age:int,height:float) -> None:\n",
    "        self.firstName=first_name\n",
    "        self.lastName=last_name\n",
    "        self.age=age\n",
    "        self.height=height\n",
    "        self.login=0\n",
    "    def describe_user(self):\n",
    "        print(f'My name is {self.firstName}{self.lastName}. I am {self.age} old. and my height is {self.height} and login value is {self.login}') \n",
    "    def greet_user(self):\n",
    "        print(f'Welcome back {self.firstName}')\n",
    "    def increment_login_attempts(self):\n",
    "        self.login+=1\n",
    "        print(self.login)   \n",
    "    def reset_login_attempts(self):\n",
    "        self.login=0     \n",
    "first_user=User('Arman','Ashraf',22,5.11)\n",
    "print(f'3 times user login')\n",
    "first_user.increment_login_attempts()\n",
    "first_user.increment_login_attempts()\n",
    "first_user.increment_login_attempts()\n",
    "print(f'{first_user.login} times user login')\n",
    "print('+++++++++++++++')                \n",
    "first_user.reset_login_attempts()\n",
    "print(f'reset {first_user.login}')"
   ]
  }
 ],
 "metadata": {
  "kernelspec": {
   "display_name": "Python 3",
   "language": "python",
   "name": "python3"
  },
  "language_info": {
   "codemirror_mode": {
    "name": "ipython",
    "version": 3
   },
   "file_extension": ".py",
   "mimetype": "text/x-python",
   "name": "python",
   "nbconvert_exporter": "python",
   "pygments_lexer": "ipython3",
   "version": "3.12.1"
  }
 },
 "nbformat": 4,
 "nbformat_minor": 2
}
