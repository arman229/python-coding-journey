{
 "cells": [
  {
   "cell_type": "markdown",
   "metadata": {},
   "source": [
    "9-1. Restaurant: Make a class called Restaurant. The __init__() method for\n",
    "Restaurant should store two attributes: a restaurant_name and a cuisine_type.\n",
    "Make a method called describe_restaurant() that prints these two pieces of\n",
    "information, and a method called open_restaurant() that prints a message indicating that the restaurant is open.\n",
    "Make an instance called restaurant from your class. Print the two attributes individually, and then call both methods."
   ]
  },
  {
   "cell_type": "code",
   "execution_count": 1,
   "metadata": {},
   "outputs": [
    {
     "name": "stdout",
     "output_type": "stream",
     "text": [
      "ali\n",
      "pizza\n",
      "Restaurant Name: ali\n",
      "Cuisine Type: pizza\n",
      "ali is open\n"
     ]
    }
   ],
   "source": [
    "class Restaurant:\n",
    "    def __init__(self, restaurant_name: str, cuisine_type: str) -> None:\n",
    "        self.restaurant = restaurant_name\n",
    "        self.cuisine = cuisine_type\n",
    "\n",
    "    def describe_restaurant(self) -> None:\n",
    "        print(f'Restaurant Name: {self.restaurant}')\n",
    "        print(f'Cuisine Type: {self.cuisine}')\n",
    "\n",
    "    def open_restaurant(self) -> None:\n",
    "        print(f'{self.restaurant} is open')\n",
    "\n",
    "restaurant = Restaurant('ali', 'pizza')       \n",
    "print(restaurant.restaurant)  \n",
    "print(restaurant.cuisine)    \n",
    "restaurant.describe_restaurant()\n",
    "restaurant.open_restaurant()      \n"
   ]
  },
  {
   "cell_type": "markdown",
   "metadata": {},
   "source": [
    "9-2. Three Restaurants: Start with your class from Exercise 9-1. Create three\n",
    "different instances from the class, and call describe_restaurant() for each\n",
    "instance"
   ]
  },
  {
   "cell_type": "code",
   "execution_count": 26,
   "metadata": {},
   "outputs": [
    {
     "name": "stdout",
     "output_type": "stream",
     "text": [
      "Restaurant Name: ali\n",
      "Cuisine Type: pizza\n",
      "============================================\n",
      "Restaurant Name: asad\n",
      "Cuisine Type: pizza\n",
      "============================================\n",
      "Restaurant Name: usman\n",
      "Cuisine Type: pizza\n"
     ]
    }
   ],
   "source": [
    "class Restaurant:\n",
    "    def __init__(self, restaurant_name: str, cuisine_type: str) -> None:\n",
    "        self.restaurant = restaurant_name\n",
    "        self.cuisine = cuisine_type\n",
    "\n",
    "    def describe_restaurant(self) -> None:\n",
    "        print(f'Restaurant Name: {self.restaurant}')\n",
    "        print(f'Cuisine Type: {self.cuisine}')\n",
    "\n",
    "    def open_restaurant(self) -> None:\n",
    "        print(f'{self.restaurant} is open')\n",
    "\n",
    "restaurant1 = Restaurant('ali', 'pizza')\n",
    "restaurant1.describe_restaurant()   \n",
    "print('============================================')\n",
    "restaurant2 = Restaurant('asad', 'pizza')\n",
    "restaurant2.describe_restaurant()   \n",
    "print('============================================')\n",
    "restaurant3 = Restaurant('usman', 'pizza')\n",
    "restaurant3.describe_restaurant()   "
   ]
  },
  {
   "cell_type": "markdown",
   "metadata": {},
   "source": [
    "9-3. Users: Make a class called User. Create two attributes called first_name\n",
    "and last_name, and then create several other attributes that are typically stored\n",
    "in a user profile. Make a method called describe_user() that prints a summary\n",
    "of the user’s information. Make another method called greet_user() that prints\n",
    "a personalized greeting to the user.\n",
    "Create several instances representing different users, and call both methods for each user."
   ]
  },
  {
   "cell_type": "code",
   "execution_count": 2,
   "metadata": {},
   "outputs": [
    {
     "name": "stdout",
     "output_type": "stream",
     "text": [
      "My name is Arman Ashraf. I am 22 old. and my height is 5.11\n",
      "Welcome back Arman\n",
      "+++++++++++++++\n",
      "My name is Ali Ashraf. I am 32 old. and my height is 5.11\n",
      "Welcome back Ali\n",
      "+++++++++++++++\n",
      "My name is Arman Ashraf. I am 22 old. and my height is 5.11\n",
      "Welcome back Arman\n"
     ]
    }
   ],
   "source": [
    "class User:\n",
    "    def __init__(self,first_name:str,last_name:str,age:int,height:float) -> None:\n",
    "        self.firstName=first_name\n",
    "        self.lastName=last_name\n",
    "        self.age=age\n",
    "        self.height=height\n",
    "    def describe_user(self):\n",
    "        print(f'My name is {self.firstName} {self.lastName}. I am {self.age} old. and my height is {self.height}') \n",
    "    def greet_user(self):\n",
    "        print(f'Welcome back {self.firstName}')\n",
    "first_user=User('Arman','Ashraf',22,5.11)\n",
    "first_user.describe_user()\n",
    "first_user.greet_user()   \n",
    "print('+++++++++++++++')                \n",
    "first_user=User('Ali','Ashraf',32,5.11)\n",
    "first_user.describe_user()\n",
    "first_user.greet_user()\n",
    "print('+++++++++++++++')\n",
    "first_user=User('Arman','Ashraf',22,5.11)\n",
    "first_user.describe_user()\n",
    "first_user.greet_user()"
   ]
  },
  {
   "cell_type": "markdown",
   "metadata": {},
   "source": [
    "9-4. Number Served: Start with your program from Exercise 9-1 (page 162).\n",
    "Add an attribute called number_served with a default value of 0. Create an\n",
    "instance called restaurant from this class. Print the number of customers the\n",
    "restaurant has served, and then change this value and print it again\n",
    "Add a method called set_number_served() that lets you set the number of\n",
    "customers that have been served. Call this method with a new number and print\n",
    "the value again.\n",
    "Add a method called increment_number_served() that lets you increment\n",
    "the number of customers who’ve been served. Call this method with any number\n",
    "you like that could represent how many customers were served in, say, a day of\n",
    "business"
   ]
  },
  {
   "cell_type": "code",
   "execution_count": 46,
   "metadata": {},
   "outputs": [
    {
     "name": "stdout",
     "output_type": "stream",
     "text": [
      "0\n",
      "10\n",
      "20\n"
     ]
    }
   ],
   "source": [
    "class Restaurant:\n",
    "    def __init__(self, restaurant_name: str, cuisine_type: str) -> None:\n",
    "        self.restaurant = restaurant_name\n",
    "        self.cuisine = cuisine_type\n",
    "        self.number_served=0\n",
    "    def describe_restaurant(self) -> None:\n",
    "        print(f'Restaurant Name: {self.restaurant}')\n",
    "        print(f'Cuisine Type: {self.cuisine}')\n",
    "    def open_restaurant(self) -> None:\n",
    "        print(f'{self.restaurant} is open')\n",
    "    def set_number_served(self, number_served: int) -> None:\n",
    "        self.number_served = number_served\n",
    "\n",
    "    def increment_number_served(self, increment: int) -> None:\n",
    "        self.number_served += increment    \n",
    "\n",
    "restaurant = Restaurant('ali', 'pizza')       \n",
    "print(restaurant.number_served)  \n",
    "restaurant.set_number_served(10)\n",
    "print(restaurant.number_served)  \n",
    "restaurant.increment_number_served(10)\n",
    "print(restaurant.number_served)  \n",
    "\n",
    "\n",
    "  \n"
   ]
  },
  {
   "cell_type": "markdown",
   "metadata": {},
   "source": [
    "9-5. Login Attempts: Add an attribute called login_attempts to your User class\n",
    "from Exercise 9-3 (page 162). Write a method called increment_login_attempts()\n",
    "that increments the value of login_attempts by 1. Write another method called\n",
    "reset_login_attempts() that resets the value of login_attempts to 0.\n",
    "Make an instance of the User class and call increment_login_attempts()\n",
    "several times. Print the value of login_attempts to make sure it was incremented\n",
    "properly, and then call reset_login_attempts(). Print login_attempts again to\n",
    "make sure it was reset to 0."
   ]
  },
  {
   "cell_type": "code",
   "execution_count": 1,
   "metadata": {},
   "outputs": [
    {
     "name": "stdout",
     "output_type": "stream",
     "text": [
      "3 times user login\n",
      "1\n",
      "2\n",
      "3\n",
      "3 times user login\n",
      "+++++++++++++++\n",
      "reset 0\n"
     ]
    }
   ],
   "source": [
    "class User:\n",
    "    def __init__(self,first_name:str,last_name:str,age:int,height:float) -> None:\n",
    "        self.firstName=first_name\n",
    "        self.lastName=last_name\n",
    "        self.age=age\n",
    "        self.height=height\n",
    "        self.login=0\n",
    "    def describe_user(self):\n",
    "        print(f'My name is {self.firstName}{self.lastName}. I am {self.age} old. and my height is {self.height} and login value is {self.login}') \n",
    "    def greet_user(self):\n",
    "        print(f'Welcome back {self.firstName}')\n",
    "    def increment_login_attempts(self):\n",
    "        self.login+=1\n",
    "        print(self.login)   \n",
    "    def reset_login_attempts(self):\n",
    "        self.login=0     \n",
    "first_user=User('Arman','Ashraf',22,5.11)\n",
    "print(f'3 times user login')\n",
    "first_user.increment_login_attempts()\n",
    "first_user.increment_login_attempts()\n",
    "first_user.increment_login_attempts()\n",
    "print(f'{first_user.login} times user login')\n",
    "print('+++++++++++++++')                \n",
    "first_user.reset_login_attempts()\n",
    "print(f'reset {first_user.login}')"
   ]
  },
  {
   "cell_type": "markdown",
   "metadata": {},
   "source": [
    "9-6. Ice Cream Stand: An ice cream stand is a specific kind of restaurant. Write\n",
    "a class called IceCreamStand that inherits from the Restaurant class you wrote in\n",
    "Exercise 9-1 (page 162) or Exercise 9-4 (page 166). Either version of the class\n",
    "will work; just pick the one you like better. Add an attribute called flavors that\n",
    "stores a list of ice cream flavors. Write a method that displays these flavors.\n",
    "Create an instance of IceCreamStand, and call this method."
   ]
  },
  {
   "cell_type": "code",
   "execution_count": 2,
   "metadata": {},
   "outputs": [
    {
     "name": "stdout",
     "output_type": "stream",
     "text": [
      "very nice\n",
      "Available Ice Cream Flavors:\n",
      "Chocolate\n",
      "Vanilla\n",
      "Strawberry\n",
      "Mint\n",
      "Cookie Dough\n"
     ]
    }
   ],
   "source": [
    "from typing import Optional\n",
    "class Restaurant:\n",
    "    def __init__(self, restaurant_name: str, cuisine_type: str) -> None:\n",
    "        self.restaurant:str = restaurant_name\n",
    "        self.cuisine:str = cuisine_type\n",
    "    \n",
    "\n",
    "    def describe_restaurant(self) -> None:\n",
    "        print(f'Restaurant Name: {self.restaurant}')\n",
    "        print(f'Cuisine Type: {self.cuisine}')\n",
    "\n",
    "    def open_restaurant(self) -> None:\n",
    "        print(f'{self.restaurant} is open')\n",
    " \n",
    "class IceCreamStand(Restaurant):\n",
    "    def __init__(self,restaurant_name:str,cuisine_type:str,suggestion:str ):\n",
    "        super().__init__(restaurant_name, cuisine_type)\n",
    "        self.suggestion=suggestion\n",
    "        self.flavors:list[Optional[str]]=[]\n",
    "    def display_flavors(self) -> None:\n",
    "        print(\"Available Ice Cream Flavors:\")\n",
    "        for flavor in self.flavors:\n",
    "            print(flavor)    \n",
    "ice_cream_stand = IceCreamStand(\"Ice Cream Paradise\", \"Ice Cream\",'very nice')\n",
    "ice_cream_stand.flavors = [\"Chocolate\", \"Vanilla\", \"Strawberry\", \"Mint\", \"Cookie Dough\"]\n",
    "print(ice_cream_stand.suggestion)\n",
    "ice_cream_stand.display_flavors()    \n",
    "     "
   ]
  },
  {
   "cell_type": "markdown",
   "metadata": {},
   "source": [
    "9-7. Admin: An administrator is a special kind of user. Write a class called\n",
    "Admin that inherits from the User class you wrote in Exercise 9-3 (page 162)\n",
    "or Exercise 9-5 (page 167). Add an attribute, privileges, that stores a list of\n",
    "strings like \"can add post\", \"can delete post\", \"can ban user\", and so on.\n",
    "Write a method called show_privileges() that lists the administrator’s set of\n",
    "privileges. Create an instance of Admin, and call your method"
   ]
  },
  {
   "cell_type": "code",
   "execution_count": 17,
   "metadata": {},
   "outputs": [
    {
     "name": "stdout",
     "output_type": "stream",
     "text": [
      "list of privileges can reset passwords\n",
      "list of privileges can moderate discussions\n",
      "list of privileges can suspend accounts\n"
     ]
    }
   ],
   "source": [
    "class User:\n",
    "    def __init__(self,first_name:str,last_name:str,age:int,height:float) -> None:\n",
    "        self.firstName=first_name\n",
    "        self.lastName=last_name\n",
    "        self.age=age\n",
    "        self.height=height\n",
    "        self.login=0\n",
    "    def describe_user(self):\n",
    "        print(f'My name is {self.firstName}{self.lastName}. I am {self.age} old. and my height is {self.height} and login value is {self.login}') \n",
    "    def greet_user(self):\n",
    "        print(f'Welcome back {self.firstName}')\n",
    "    def increment_login_attempts(self):\n",
    "        self.login+=1\n",
    "        print(self.login)   \n",
    "    def reset_login_attempts(self):\n",
    "        self.login=0     \n",
    "class Admin(User):\n",
    "    def __init__(self,first_name:str,last_name:str,age:int,height:float)->None:\n",
    "        super().__init__(first_name,last_name,age,height)\n",
    "        self.privileges:list[str]=[] \n",
    "    def show_privileges(self):\n",
    "        for pre in self.privileges:\n",
    "            print(f'list of privileges {pre}')\n",
    "first_user=Admin('Arman','Ashraf',22,5.11)\n",
    " \n",
    "first_user.show_privileges()                    \n",
    " \n",
    "first_user.privileges = [\n",
    "    'can reset passwords',\n",
    "    'can moderate discussions',\n",
    "    'can suspend accounts',\n",
    "    ]\n",
    "\n",
    "first_user.show_privileges()"
   ]
  },
  {
   "cell_type": "markdown",
   "metadata": {},
   "source": [
    "9-8. Privileges: Write a separate Privileges class. The class should have one\n",
    "attribute, privileges, that stores a list of strings as described in Exercise 9-7.\n",
    "Move the show_privileges() method to this class. Make a Privileges instance\n",
    "as an attribute in the Admin class. Create a new instance of Admin and use your\n",
    "method to show its privileges"
   ]
  },
  {
   "cell_type": "code",
   "execution_count": 8,
   "metadata": {},
   "outputs": [
    {
     "name": "stdout",
     "output_type": "stream",
     "text": [
      "3\n",
      "My name is aliahmad. I am 3 old. and my height is 3.3 and login value is 0\n",
      "reset passwords\n",
      "change password\n",
      "facebook server down\n"
     ]
    }
   ],
   "source": [
    "\n",
    "class User:\n",
    "    def __init__(self,first_name:str,last_name:str,age:int,height:float) -> None:\n",
    "        self.firstName=first_name\n",
    "        self.lastName=last_name\n",
    "        self.age=age\n",
    "        self.height=height\n",
    "        self.login=0\n",
    "    def describe_user(self)->str:\n",
    "       return f'My name is {self.firstName}{self.lastName}. I am {self.age} old. and my height is {self.height} and login value is {self.login}'\n",
    "    def greet_user(self)->None:\n",
    "        print(f'Welcome back {self.firstName}')\n",
    "    def increment_login_attempts(self)->None:\n",
    "        self.login+=1\n",
    "        print(self.login)   \n",
    "    def reset_login_attempts(self)->None:\n",
    "        self.login=0     \n",
    "class Admin(User):\n",
    "    def __init__(self,first_name:str,last_name:str,age:int,height:float)->None:\n",
    "        super().__init__(first_name,last_name,age,height)\n",
    "        self.privileges=Privileges()\n",
    "class Privileges():\n",
    "    def __init__(self,privileges=[]) -> None:\n",
    "        self.privileges=privileges\n",
    "    def show_privileges(self):\n",
    "        if self.privileges:\n",
    "            for pre in self.privileges:\n",
    "                print(pre)\n",
    "        else:\n",
    "            print('there is no priviliges')        \n",
    "        \n",
    "newadmin:Admin =  Admin('ali','ahmad',3,3.3) \n",
    "print(newadmin.age)    \n",
    "print(newadmin.describe_user()) \n",
    "newadmin.privileges.privileges=['reset passwords','change password','facebook server down']\n",
    "newadmin.privileges.show_privileges() \n"
   ]
  },
  {
   "cell_type": "markdown",
   "metadata": {},
   "source": [
    "9-9. Battery Upgrade: Use the final version of electric_car.py from this section.\n",
    "Add a method to the Battery class called upgrade_battery(). This method\n",
    "should check the battery size and set the capacity to 65 if it isn’t already. Make\n",
    "an electric car with a default battery size, call get_range() once, and then\n",
    "call get_range() a second time after upgrading the battery. You should see an\n",
    "increase in the car’s range."
   ]
  },
  {
   "cell_type": "code",
   "execution_count": 169,
   "metadata": {},
   "outputs": [
    {
     "name": "stdout",
     "output_type": "stream",
     "text": [
      "Make an electric car, and check the battery:\n",
      "This car has a 60-kWh battery.\n",
      "\n",
      "Upgrade the battery, and check it again:\n",
      "Upgrading battery size to 65\n",
      "This car has a 65-kWh battery.\n",
      "\n",
      "Try upgrading the battery a second time.\n",
      "Battery is full!\n",
      "This car has a 65-kWh battery.\n"
     ]
    }
   ],
   "source": [
    "class Car:\n",
    "    \"\"\"A simple attempt to represent a car.\"\"\"\n",
    "    def __init__(self, make, model, year):\n",
    "\n",
    "        self.make = make\n",
    "        self.model = model\n",
    "        self.year = year\n",
    "        self.odometer_reading = 0\n",
    "    def get_descriptive_name(self):\n",
    "        long_name = f\"{self.year} {self.make} {self.model}\"\n",
    "        return long_name.title()\n",
    "    def read_odometer(self):\n",
    "        print(f\"This car has {self.odometer_reading} miles on it.\")\n",
    "    def update_odometer(self, mileage):\n",
    "        if mileage >= self.odometer_reading:\n",
    "            self.odometer_reading = mileage\n",
    "        else:\n",
    "            print(\"You can't roll back an odometer!\")\n",
    "    def increment_odometer(self, miles):\n",
    "       self.odometer_reading += miles\n",
    "class ElectricCar(Car): \n",
    "    def __init__(self, make, model, year):\n",
    "        super().__init__(make, model, year)\n",
    "        self.battery = Battery()       \n",
    "class Battery:\n",
    "    def __init__(self, battery_size=60):\n",
    "        self.battery_size = battery_size\n",
    "\n",
    "    def describe_battery(self):\n",
    "        print(f\"This car has a {self.battery_size}-kWh battery.\")\n",
    "\n",
    "    def upgrade_battery(self):\n",
    "        if self.battery_size == 60:\n",
    "            self.battery_size = 65\n",
    "            print(f\"Upgrading battery size to {self.battery_size}\")\n",
    "        else:\n",
    "            print(\"Battery is full!\")\n",
    "\n",
    "    def get_range(self):\n",
    "        if self.battery_size == 60:\n",
    "            range = 260\n",
    "        elif self.battery_size == 100:\n",
    "            range = 315\n",
    "        else:\n",
    "            range = 0\n",
    "        print(f\"This car can go approximately {range} miles on a full charge.\")\n",
    "  \n",
    "print(\"Make an electric car, and check the battery:\")\n",
    "my_tesla = ElectricCar('tesla', 'model\\' s', 2024)\n",
    "my_tesla.battery.describe_battery()\n",
    " \n",
    "print(\"\\nUpgrade the battery, and check it again:\")\n",
    "my_tesla.battery.upgrade_battery()\n",
    "my_tesla.battery.describe_battery()\n",
    "\n",
    "print(\"\\nTry upgrading the battery a second time.\")\n",
    "my_tesla.battery.upgrade_battery()\n",
    "my_tesla.battery.describe_battery()                   "
   ]
  },
  {
   "cell_type": "code",
   "execution_count": null,
   "metadata": {},
   "outputs": [],
   "source": [
    "class Car:\n",
    "    \"\"\"A simple attempt to represent a car.\"\"\"\n",
    "    def __init__(self, make, model, year):\n",
    "\n",
    "        self.make = make\n",
    "        self.model = model\n",
    "        self.year = year\n",
    "        self.odometer_reading = 0\n",
    "    def get_descriptive_name(self):\n",
    "        long_name = f\"{self.year} {self.make} {self.model}\"\n",
    "        return long_name.title()\n",
    "    def read_odometer(self):\n",
    "        print(f\"This car has {self.odometer_reading} miles on it.\")\n",
    "    def update_odometer(self, mileage):\n",
    "        if mileage >= self.odometer_reading:\n",
    "            self.odometer_reading = mileage\n",
    "        else:\n",
    "            print(\"You can't roll back an odometer!\")\n",
    "    def increment_odometer(self, miles):\n",
    "       self.odometer_reading += miles\n",
    "       \n",
    "class Battery:\n",
    "    def __init__(self, battery_size=75):\n",
    "        self.battery_size = battery_size\n",
    "\n",
    "    def describe_battery(self):\n",
    "        print(f\"This car has a {self.battery_size}-kWh battery.\")\n",
    "\n",
    "    def get_range(self):\n",
    "        if self.battery_size == 75:\n",
    "            range = 260\n",
    "        elif self.battery_size == 100:\n",
    "            range = 315\n",
    "        else:\n",
    "            range = 0   \n",
    "        print(f\"This car can go approximately {range} miles on a full charge.\")\n",
    "\n",
    "    def upgrade_battery(self):\n",
    "        if self.battery_size != 100:\n",
    "            self.battery_size = 100\n",
    "            print(\"Battery upgraded to 100 kWh.\")\n",
    "        else:\n",
    "            print(\"Battery is already at maximum capacity.\")\n",
    "\n",
    "\n",
    "class ElectricCar:\n",
    "    def __init__(self, make, model, year):\n",
    "        self.make = make\n",
    "        self.model = model\n",
    "        self.year = year\n",
    "        self.battery = Battery()\n",
    "\n",
    "    def get_descriptive_name(self):\n",
    "        long_name = f\"{self.year} {self.make} {self.model}\"\n",
    "        return long_name \n",
    "my_electric_car = ElectricCar('Tesla', 'Model S', 2023) \n",
    "print(\"Before upgrading the battery:\")\n",
    "my_electric_car.battery.get_range() \n",
    "my_electric_car.battery.upgrade_battery()\n",
    " \n",
    "print(\"\\nAfter upgrading the battery:\")\n",
    "my_electric_car.battery.get_range()\n",
    " "
   ]
  },
  {
   "cell_type": "markdown",
   "metadata": {},
   "source": [
    "9-10. Imported Restaurant: Using your latest Restaurant class, store it in a module. Make a separate file that imports Restaurant. Make a Restaurant instance,\n",
    "and call one of Restaurant’s methods to show that the import statement is working properly"
   ]
  },
  {
   "cell_type": "code",
   "execution_count": 23,
   "metadata": {},
   "outputs": [
    {
     "name": "stdout",
     "output_type": "stream",
     "text": [
      "Restaurant Name: Aone pizza shop\n",
      "Cuisine Type: pizza\n",
      "Aone pizza shop is open\n"
     ]
    }
   ],
   "source": [
    "from restaurant.restaurant import Restaurant\n",
    "restaurant = Restaurant('Aone pizza shop', 'pizza')       \n",
    "restaurant.describe_restaurant()\n",
    "restaurant.open_restaurant()"
   ]
  },
  {
   "cell_type": "markdown",
   "metadata": {},
   "source": [
    "9-11. Imported Admin: Start with your work from Exercise 9-8 (page 173). Store\n",
    "the classes User, Privileges, and Admin in one module. Create a separate file,\n",
    "make an Admin instance, and call show_privileges() to show that everything is\n",
    "working correctly."
   ]
  },
  {
   "cell_type": "code",
   "execution_count": 12,
   "metadata": {},
   "outputs": [
    {
     "name": "stdout",
     "output_type": "stream",
     "text": [
      "3\n",
      "My name is aliahmad. I am 3 old. and my height is 3.3 and login value is 0\n",
      "reset passwords\n",
      "change password\n",
      "facebook server down\n",
      "3\n"
     ]
    }
   ],
   "source": [
    "from myadmin.myadmin import Admin\n",
    "        \n",
    "newadmin:Admin =  Admin('ali','ahmad',3,3.3) \n",
    "print(newadmin.age)    \n",
    "newadmin.describe_user() \n",
    "newadmin.privileges.privileges=['reset passwords','change password','facebook server down']\n",
    "newadmin.privileges.show_privileges()\n",
    "print(newadmin.age)  "
   ]
  },
  {
   "cell_type": "markdown",
   "metadata": {},
   "source": [
    "9-12. Multiple Modules: Store the User class in one module, and store the\n",
    "Privileges and Admin classes in a separate module. In a separate file, create\n",
    "an Admin instance and call show_privileges() to show that everything is still\n",
    "working correctly"
   ]
  },
  {
   "cell_type": "code",
   "execution_count": 14,
   "metadata": {},
   "outputs": [
    {
     "name": "stdout",
     "output_type": "stream",
     "text": [
      "3\n",
      "My name is alidahmad. I am 3 old. and my height is 3.3 and login value is 0\n",
      "None\n",
      "reset passwords\n",
      "change password\n",
      "facebook server down\n"
     ]
    }
   ],
   "source": [
    "newadmin:Admin =  Admin('alid','ahmad',3,3.3) \n",
    "print(newadmin.age)    \n",
    "print(newadmin.describe_user()) \n",
    "newadmin.privileges.privileges=['reset passwords','change password','facebook server down']\n",
    "newadmin.privileges.show_privileges() "
   ]
  },
  {
   "cell_type": "markdown",
   "metadata": {},
   "source": [
    "9-13. Dice: Make a class Die with one attribute called sides, which has a\n",
    "default value of 6. Write a method called roll_die() that prints a random number between 1 and the number of sides the die has. Make a 6-sided die and\n",
    "roll it 10 times.\n",
    "Make a 10-sided die and a 20-sided die. Roll each die 10 times."
   ]
  },
  {
   "cell_type": "code",
   "execution_count": 29,
   "metadata": {},
   "outputs": [
    {
     "name": "stdout",
     "output_type": "stream",
     "text": [
      "10 rolls of a 6-sided die:\n",
      "[4, 2, 5, 6, 3, 1, 2, 3, 1, 2]\n",
      "10 rolls of a 10-sided die:\n",
      "[3, 1, 1, 2, 2, 6, 4, 4, 3, 1]\n",
      "10 rolls of a 20-sided die:\n",
      "[2, 18, 12, 11, 18, 1, 12, 9, 11, 13]\n"
     ]
    }
   ],
   "source": [
    "from random import randint\n",
    "class Die:\n",
    "    def __init__(self,sides:int=6) -> None:\n",
    "        self.sides=sides\n",
    "    def roll_die(self)->int:\n",
    "        return randint(1,self.sides)\n",
    "    \n",
    "die6:Die = Die()\n",
    "data:list[int] = []\n",
    "for item in range(10):\n",
    "    result=die6.roll_die()\n",
    "    data.append(result)\n",
    "print(\"10 rolls of a 6-sided die:\")    \n",
    "print(data)   \n",
    "\n",
    "die10:Die = Die()\n",
    "data:list[int] = []\n",
    "for item in range(10):\n",
    "    result=die10.roll_die()\n",
    "    data.append(result)\n",
    "print(\"10 rolls of a 10-sided die:\")    \n",
    "print(data)    \n",
    "         \n",
    "die20:Die = Die(20)\n",
    "data:list[int] = []\n",
    "for item in range(10):\n",
    "    result=die20.roll_die()\n",
    "    data.append(result)\n",
    "print(\"10 rolls of a 20-sided die:\")    \n",
    "print(data)    \n",
    "          \n",
    "         "
   ]
  },
  {
   "cell_type": "markdown",
   "metadata": {},
   "source": [
    "9-14. Lottery: Make a list or tuple containing a series of 10 numbers and 5 letters.\n",
    "Randomly select 4 numbers or letters from the list and print a message saying that\n",
    "any ticket matching these 4 numbers or letters wins a prize."
   ]
  },
  {
   "cell_type": "code",
   "execution_count": 15,
   "metadata": {},
   "outputs": [
    {
     "name": "stdout",
     "output_type": "stream",
     "text": [
      "We see a list of winning tickets\n",
      "The final winnig ticket is [5, 'e', 10, 7]\n"
     ]
    }
   ],
   "source": [
    "from random import choice\n",
    "from typing import Optional \n",
    "\n",
    "print('We see a list of winning tickets')\n",
    "winning_list:list[str|int]=[]\n",
    "list_of_numbers_letters:list[int|str]=[1,2,3,4,5,6,7,8,9,10,'a','b','c','d','e']\n",
    "\n",
    "while len(winning_list) < 4:\n",
    "    current_choice=choice(list_of_numbers_letters)\n",
    "    if current_choice not in winning_list: \n",
    "        winning_list.append(current_choice)\n",
    " \n",
    "print(f'The final winnig ticket is {winning_list}')           \n"
   ]
  },
  {
   "cell_type": "markdown",
   "metadata": {},
   "source": [
    "\n",
    "9-15. Lottery Analysis: You can use a loop to see how hard it might be to win\n",
    "the kind of lottery you just modeled. Make a list or tuple called my_ticket. Write\n",
    "a loop that keeps pulling numbers until your ticket wins. Print a message reporting how many times the loop had to run to give you a winning ticket."
   ]
  },
  {
   "cell_type": "code",
   "execution_count": 164,
   "metadata": {},
   "outputs": [
    {
     "name": "stdout",
     "output_type": "stream",
     "text": [
      "Congratulations! You have a winning ticket!\n",
      "Your ticket numbers: ['e', 4, 8, 'd']\n",
      "Winning ticket numbers: [8, 'd', 'e', 4]\n",
      "It took you only 2915 attempts to win!\n"
     ]
    }
   ],
   "source": [
    "from random import choice\n",
    "def get_winning_ticket(no_of_possibilities:list[str|int])->list[str|int]:\n",
    "    winning_ticket_list:list[int|str] = [] \n",
    "    while len(winning_ticket_list) < 4:\n",
    "        selected_item:str|int = choice(no_of_possibilities) \n",
    "        if selected_item not in winning_ticket_list:\n",
    "            winning_ticket_list.append(selected_item)\n",
    "\n",
    "    return winning_ticket_list\n",
    "def make_random_ticket(no_of_possibilities:list[int|str])->list[str|int]: \n",
    "   make_randam_ticket:list[int|str] = [] \n",
    "   while len(make_randam_ticket) < 4:\n",
    "        selected_item = choice(no_of_possibilities)  \n",
    "        if selected_item not in make_randam_ticket:\n",
    "            make_randam_ticket.append(selected_item)\n",
    "\n",
    "   return make_randam_ticket\n",
    "\n",
    "\n",
    "def check_ticket(new_make_random_ticket:list[int|str], winning_ticket_list:list[int|str])->bool: \n",
    "    for element in new_make_random_ticket:\n",
    "        if element not in winning_ticket_list:\n",
    "            return False \n",
    "    return True\n",
    "\n",
    "\n",
    "no_of_possibilities = [1, 2, 3, 4, 5, 6, 7, 8, 9, 10, 'a', 'b', 'c', 'd', 'e']\n",
    "new_winning_ticket_list = get_winning_ticket(no_of_possibilities)\n",
    "\n",
    "plays = 0\n",
    "won = False \n",
    "max_tries = 1000333\n",
    "\n",
    "while not won and plays < max_tries:\n",
    "   new_make_random_ticket = make_random_ticket(no_of_possibilities)\n",
    "   won = check_ticket(new_make_random_ticket, new_winning_ticket_list)\n",
    "   plays += 1\n",
    "\n",
    "if won:\n",
    "    print(\"Congratulations! You have a winning ticket!\")\n",
    "    print(f\"Your ticket numbers: {new_make_random_ticket}\")\n",
    "    print(f\"Winning ticket numbers: {new_winning_ticket_list}\")\n",
    "    print(f\"It took you only {plays} attempts to win!\")\n",
    "else:\n",
    "    print(f\"After {plays} attempts, unfortunately, no winning ticket was drawn.\")\n",
    "    print(f\"Your ticket numbers: {new_make_random_ticket}\")\n",
    "    print(f\"Winning ticket numbers: {new_winning_ticket_list}\")\n",
    "\n"
   ]
  },
  {
   "cell_type": "code",
   "execution_count": 27,
   "metadata": {},
   "outputs": [
    {
     "name": "stdout",
     "output_type": "stream",
     "text": [
      "We have a winning ticket!\n",
      "Your ticket: [2, 4, 'b', 8]\n",
      "Winning ticket: [8, 2, 'b', 4]\n",
      "It only took 619 tries to win!\n"
     ]
    }
   ],
   "source": [
    "from random import choice\n",
    "def get_winning_ticket(possibilities):\n",
    "    winning_ticket = []\n",
    "    while len(winning_ticket) < 4:\n",
    "        pulled_item = choice(possibilities)\n",
    "        if pulled_item not in winning_ticket:\n",
    "            winning_ticket.append(pulled_item)\n",
    "    return winning_ticket\n",
    "def check_ticket(played_ticket, winning_ticket):\n",
    "    for element in played_ticket:\n",
    "        if element not in winning_ticket:\n",
    "            return False\n",
    "    return True\n",
    "\n",
    "def make_random_ticket(possibilities):\n",
    "    ticket = []\n",
    "    while len(ticket) < 4:\n",
    "        pulled_item = choice(possibilities)\n",
    "        if pulled_item not in ticket:\n",
    "            ticket.append(pulled_item)\n",
    "    return ticket\n",
    "possibilities = [1, 2, 3, 4, 5, 6, 7, 8, 9, 10, 'a', 'b', 'c', 'd', 'e']\n",
    "winning_ticket = get_winning_ticket(possibilities)\n",
    "\n",
    "plays = 0\n",
    "won = False\n",
    "max_tries = 1000000\n",
    "\n",
    "while not won:\n",
    "    new_ticket = make_random_ticket(possibilities)\n",
    "    won = check_ticket(new_ticket, winning_ticket)\n",
    "    plays += 1\n",
    "    if plays >= max_tries:\n",
    "        break\n",
    "\n",
    "if won:\n",
    "    print(\"We have a winning ticket!\")\n",
    "    print(f\"Your ticket: {new_ticket}\")\n",
    "    print(f\"Winning ticket: {winning_ticket}\")\n",
    "    print(f\"It only took {plays} tries to win!\")\n",
    "else:\n",
    "    print(f\"Tried {plays} times, without pulling a winner. :(\")\n",
    "    print(f\"Your ticket: {new_ticket}\")\n",
    "    print(f\"Winning ticket: {winning_ticket}\")"
   ]
  },
  {
   "cell_type": "markdown",
   "metadata": {},
   "source": [
    "9-16. Python Module of the Week: One excellent resource for exploring the\n",
    "Python standard library is a site called Python Module of the Week. Go to\n",
    "https://pymotw.com and look at the table of contents. Find a module that looks\n",
    "interesting to you and read about it, perhaps starting with the random module"
   ]
  },
  {
   "cell_type": "code",
   "execution_count": 58,
   "metadata": {},
   "outputs": [
    {
     "name": "stdout",
     "output_type": "stream",
     "text": [
      "3.141592653589793\n"
     ]
    }
   ],
   "source": [
    "import math\n",
    "\n",
    "print(math.pi)"
   ]
  }
 ],
 "metadata": {
  "kernelspec": {
   "display_name": "Python 3",
   "language": "python",
   "name": "python3"
  },
  "language_info": {
   "codemirror_mode": {
    "name": "ipython",
    "version": 3
   },
   "file_extension": ".py",
   "mimetype": "text/x-python",
   "name": "python",
   "nbconvert_exporter": "python",
   "pygments_lexer": "ipython3",
   "version": "3.12.1"
  }
 },
 "nbformat": 4,
 "nbformat_minor": 2
}
