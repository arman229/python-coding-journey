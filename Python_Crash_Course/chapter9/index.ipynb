{
 "cells": [
  {
   "cell_type": "markdown",
   "metadata": {},
   "source": [
    "# Making an object from a class is called instantiation"
   ]
  },
  {
   "cell_type": "code",
   "execution_count": 8,
   "metadata": {},
   "outputs": [
    {
     "name": "stdout",
     "output_type": "stream",
     "text": [
      "1\n",
      "Dog is very beautiful\n"
     ]
    }
   ],
   "source": [
    "# Creating the Dog Class\n",
    "# The name of the class must be in capitalized for PIP rule.\n",
    "# The __init__ method is a special method called a constructor, which is called when \n",
    "#a new instance of the class is created. It initializes the object with the provided name and age.\n",
    "# sit are methods of the DogClass\n",
    "# we create a instance of the DogClass \n",
    "class DogClass():\n",
    "    def __init__(self,dname,dage) ->None:\n",
    "        self.name:str = dname\n",
    "        self.age:int = dage\n",
    "    def sit(self,beaut:str)->None:\n",
    "        print(f'{self.name} is very {beaut}')  \n",
    "        \n",
    "first_obj=DogClass('Dog',1)\n",
    "print(first_obj.age)    \n",
    "first_obj.sit('beautiful')          "
   ]
  },
  {
   "cell_type": "markdown",
   "metadata": {},
   "source": [
    "Classes, Methods, and Attributes\n",
    "Class: A blueprint for creating objects.\n",
    "Method: A function defined inside a class.\n",
    "Attribute: A variable that belongs to an object."
   ]
  },
  {
   "cell_type": "code",
   "execution_count": 1,
   "metadata": {},
   "outputs": [
    {
     "name": "stdout",
     "output_type": "stream",
     "text": [
      "['__class__', '__delattr__', '__dict__', '__dir__', '__doc__', '__eq__', '__format__', '__ge__', '__getattribute__', '__getstate__', '__gt__', '__hash__', '__init__', '__init_subclass__', '__le__', '__lt__', '__module__', '__ne__', '__new__', '__reduce__', '__reduce_ex__', '__repr__', '__setattr__', '__sizeof__', '__str__', '__subclasshook__', '__weakref__', 'age', 'bark', 'name', 'species']\n"
     ]
    }
   ],
   "source": [
    "# Class attributes are shared among all instances of the class.    \n",
    "\n",
    "class Dog:\n",
    "    species = \"Canis familiaris\"  \n",
    "    def __init__(self, name, age):\n",
    "        self.name = name\n",
    "        self.age = age   # Instance attribute\n",
    "dog=Dog('ali','2')\n",
    "print(dog.species)\n",
    "print(dog.name)\n",
    "        "
   ]
  },
  {
   "cell_type": "markdown",
   "metadata": {},
   "source": [
    "# inheritance in Python\n",
    "Inheritance in Python Object-Oriented Programming (OOP) is a mechanism that allows a new class (subclass or child class) to acquire and extend the properties and behaviors (methods) of an existing class (superclass or parent class).\n"
   ]
  },
  {
   "cell_type": "code",
   "execution_count": 17,
   "metadata": {},
   "outputs": [
    {
     "name": "stdout",
     "output_type": "stream",
     "text": [
      "Arman\n",
      "Child Arman: I have completed Bachelor's degree in Mathematics\n",
      "Child: Arman, Title: I have completed Bachelor's degree in Mathematics\n"
     ]
    }
   ],
   "source": [
    "class Father:\n",
    "    age: int = 60\n",
    "    \n",
    "    def __init__(self, name: str) -> None:\n",
    "        self.name = name\n",
    "        print(self.name)\n",
    "        \n",
    "    def height(self, height: int) -> None:\n",
    "        print(f'Father {self.name} has a height of {height} feet')\n",
    "\n",
    "\n",
    "class Child(Father):\n",
    "    def __init__(self, name: str, title: str) -> None:\n",
    "        super().__init__(name)\n",
    "        self.title = title\n",
    "        print(f'Child {self.name}: {self.title}')\n",
    "        \n",
    "    def __str__(self) -> str:\n",
    "        return f'Child: {self.name}, Title: {self.title}'\n",
    "\n",
    "child = Child('Arman', \"I have completed Bachelor's degree in Mathematics\")\n",
    "\n",
    "print(child)   \n"
   ]
  },
  {
   "cell_type": "code",
   "execution_count": 6,
   "metadata": {},
   "outputs": [
    {
     "name": "stdout",
     "output_type": "stream",
     "text": [
      "Parking fees of cycle is 10 Rupees\n",
      "all teacher age are more than 20 year old and my favorite teacher is  m ali\n",
      "all teacher age are more than 20 year old and my favorite teacher is ali\n"
     ]
    }
   ],
   "source": [
    "class Teacher:\n",
    "    def __init__(self,name:str):\n",
    "        self.Name=name\n",
    "    def teacherage(self):\n",
    "        print(f'all teacher age are more than 20 year old and my favorite teacher is {self.Name}')\n",
    "class School(Teacher):\n",
    "    def __init__(self,name:str): # it overrides the default teacherage\n",
    "        self.Name=' m ali'\n",
    "        self.newName='my teacher'\n",
    "    def cyclStand(self):\n",
    "        print('Parking fees of cycle is 10 Rupees')\n",
    "        \n",
    "school=School('ali')\n",
    "school.cyclStand()\n",
    "school.teacherage()\n",
    "school.newName\n",
    "teacher=Teacher('ali')\n",
    "teacher.teacherage()\n",
    "\n",
    "                "
   ]
  },
  {
   "cell_type": "code",
   "execution_count": 8,
   "metadata": {},
   "outputs": [
    {
     "name": "stdout",
     "output_type": "stream",
     "text": [
      "dog1\n",
      "dog2\n",
      "dog3\n",
      "dog4\n"
     ]
    }
   ],
   "source": [
    "class Animal:\n",
    "    def __init__(self, species, sound):\n",
    "        self.species = species\n",
    "        self.sound = sound\n",
    "\n",
    "     \n",
    "\n",
    "class Dog(Animal):\n",
    "    def __init__(self, breed, name,species, sound):\n",
    "        super().__init__(species, sound)\n",
    "        self.breed = breed\n",
    "        self.name = name\n",
    " \n",
    "dog=Dog('dog1','dog2','dog3','dog4')\n",
    "print(dog.breed)\n",
    "print(dog.name)\n",
    "print(dog.species)\n",
    "print(dog.sound)"
   ]
  },
  {
   "cell_type": "markdown",
   "metadata": {},
   "source": [
    "## polymorphism\n",
    " same thing behaviour differently in different circumstance."
   ]
  },
  {
   "cell_type": "code",
   "execution_count": 13,
   "metadata": {},
   "outputs": [
    {
     "name": "stdout",
     "output_type": "stream",
     "text": [
      "6\n",
      "6.0\n",
      "Hello World\n",
      "[1, 2, 3, 4, 5, 6]\n"
     ]
    },
    {
     "ename": "TypeError",
     "evalue": "Unsupported operand types",
     "output_type": "error",
     "traceback": [
      "\u001b[1;31m---------------------------------------------------------------------------\u001b[0m",
      "\u001b[1;31mTypeError\u001b[0m                                 Traceback (most recent call last)",
      "Cell \u001b[1;32mIn[13], line 42\u001b[0m\n\u001b[0;32m     40\u001b[0m a_list \u001b[38;5;241m=\u001b[39m add([\u001b[38;5;241m1\u001b[39m, \u001b[38;5;241m2\u001b[39m, \u001b[38;5;241m3\u001b[39m], [\u001b[38;5;241m4\u001b[39m, \u001b[38;5;241m5\u001b[39m, \u001b[38;5;241m6\u001b[39m])\n\u001b[0;32m     41\u001b[0m \u001b[38;5;28mprint\u001b[39m(a_list)  \u001b[38;5;66;03m# Output: [1, 2, 3, 4, 5, 6]\u001b[39;00m\n\u001b[1;32m---> 42\u001b[0m \u001b[38;5;28mprint\u001b[39m(\u001b[43madd\u001b[49m\u001b[43m(\u001b[49m\u001b[38;5;241;43m3\u001b[39;49m\u001b[43m,\u001b[49m\u001b[38;5;124;43m'\u001b[39;49m\u001b[38;5;124;43m3\u001b[39;49m\u001b[38;5;124;43m'\u001b[39;49m\u001b[43m)\u001b[49m ) \u001b[38;5;66;03m# Error message\u001b[39;00m\n",
      "Cell \u001b[1;32mIn[13], line 28\u001b[0m, in \u001b[0;36madd\u001b[1;34m(x, y)\u001b[0m\n\u001b[0;32m     26\u001b[0m     \u001b[38;5;28;01mreturn\u001b[39;00m x \u001b[38;5;241m+\u001b[39m y\n\u001b[0;32m     27\u001b[0m \u001b[38;5;28;01melse\u001b[39;00m:\n\u001b[1;32m---> 28\u001b[0m     \u001b[38;5;28;01mraise\u001b[39;00m \u001b[38;5;167;01mTypeError\u001b[39;00m(\u001b[38;5;124m\"\u001b[39m\u001b[38;5;124mUnsupported operand types\u001b[39m\u001b[38;5;124m\"\u001b[39m)\n",
      "\u001b[1;31mTypeError\u001b[0m: Unsupported operand types"
     ]
    }
   ],
   "source": [
    "# Function Overloading\n",
    "from typing import overload ,Union\n",
    "@overload\n",
    "def add(x: int, y: int) -> int:\n",
    "    ...\n",
    "@overload\n",
    "def add(x: float, y: float) -> float:\n",
    "    ...    \n",
    "# concatenate two strings\n",
    "@overload\n",
    "def add(x: str, y: str) ->str:\n",
    "    ...\n",
    "# Extend the list    \n",
    "@overload\n",
    "def add(x: list[int],y: list[int]) ->list[int]:\n",
    "    ...\n",
    "     \n",
    "def add(x:str|int|float|list[int],y:str|int|float|list[int])->int|list[int]|str|float|None:\n",
    "    if isinstance(x, int) and isinstance(y, int):\n",
    "        return x + y\n",
    "    elif isinstance(x, float) and isinstance(y, float):\n",
    "        return x + y\n",
    "    elif isinstance(x, str) and isinstance(y, str):\n",
    "        return x + y\n",
    "    elif isinstance(x, list) and isinstance(y, list):\n",
    "        return x + y\n",
    "    else:\n",
    "        raise TypeError(\"Unsupported operand types\")\n",
    "\n",
    "# Test cases\n",
    "a_int = add(3, 3)\n",
    "print(a_int)  # Output: 6\n",
    "\n",
    "a_float = add(3.5, 2.5)\n",
    "print(a_float)  # Output: 6.0\n",
    "\n",
    "a_str = add(\"Hello\", \" World\")\n",
    "print(a_str)  # Output: Hello World\n",
    "\n",
    "a_list = add([1, 2, 3], [4, 5, 6])\n",
    "print(a_list)  # Output: [1, 2, 3, 4, 5, 6]\n",
    "#print(add(3,'3') ) # Error message"
   ]
  },
  {
   "cell_type": "markdown",
   "metadata": {},
   "source": [
    "# Method Overriding\n",
    "# Whenever we write method name with same signature in parant and child class called method overriding."
   ]
  },
  {
   "cell_type": "code",
   "execution_count": null,
   "metadata": {},
   "outputs": [],
   "source": [
    "class Animal:\n",
    "    def speak(self):\n",
    "        return \"Animal speaks\"\n",
    "\n",
    "class Dog(Animal):\n",
    "    def speak(self):\n",
    "        return \"Woof!\"\n",
    "\n",
    "class Cat(Animal):\n",
    "    def speak(self):\n",
    "        return \"Meow!\"\n",
    "\n",
    "dog = Dog()\n",
    "cat = Cat()\n",
    "\n",
    "print(dog.speak())  # Output: Woof!\n",
    "print(cat.speak())  # Output: Meow!\n"
   ]
  },
  {
   "cell_type": "markdown",
   "metadata": {},
   "source": [
    "# Method overloading\n",
    "# When a class contains two or more methods with the same name but different behaviour is called as method overloading."
   ]
  },
  {
   "cell_type": "code",
   "execution_count": 17,
   "metadata": {},
   "outputs": [
    {
     "name": "stdout",
     "output_type": "stream",
     "text": [
      "6\n",
      "6.0\n",
      "Hello World\n",
      "[1, 2, 3, 4, 5, 6]\n"
     ]
    }
   ],
   "source": [
    "# Method Overloading\n",
    "from typing import overload ,Union\n",
    "class Addition:\n",
    "    @overload\n",
    "    def add(self,x: int, y: int) -> int:\n",
    "        ...\n",
    "    @overload\n",
    "    def add(self,x: float, y: float) -> float:\n",
    "        ...    \n",
    "    # concatenate two strings\n",
    "    @overload\n",
    "    def add(self,x: str, y: str) ->str:\n",
    "        ...\n",
    "    # Extend the list    \n",
    "    @overload\n",
    "    def add(self,x: list[int],y: list[int]) ->list[int]:\n",
    "        ...\n",
    "        \n",
    "    def add(self,x:str|int|float|list[int],y:str|int|float|list[int])->int|list[int]|str|float|None:\n",
    "        if isinstance(x, int) and isinstance(y, int):\n",
    "            return x + y\n",
    "        elif isinstance(x, float) and isinstance(y, float):\n",
    "            return x + y\n",
    "        elif isinstance(x, str) and isinstance(y, str):\n",
    "            return x + y\n",
    "        elif isinstance(x, list) and isinstance(y, list):\n",
    "            return x + y\n",
    "        else:\n",
    "            raise TypeError(\"Unsupported operand types\")\n",
    "\n",
    "# Test cases\n",
    "funcall =Addition()\n",
    "a_int =funcall.add(3,3)\n",
    "print(a_int)  # Output: 6\n",
    "\n",
    "a_float = funcall.add(3.5, 2.5)\n",
    "print(a_float)  # Output: 6.0\n",
    "\n",
    "a_str = add(\"Hello\", \" World\")\n",
    "print(a_str)  # Output: Hello World\n",
    "\n",
    "a_list = add([1, 2, 3], [4, 5, 6])\n",
    "print(a_list)  # Output: [1, 2, 3, 4, 5, 6]\n",
    "#print(add(3,'3') ) # Error message"
   ]
  },
  {
   "cell_type": "markdown",
   "metadata": {},
   "source": [
    "# Operator overloading \n",
    "Operator overloading is a programming concept that allows developers to redefine the behavior of operators, such as addition (+), subtraction (-), multiplication (*), and division (/), for user-defined types or classes."
   ]
  },
  {
   "cell_type": "code",
   "execution_count": 16,
   "metadata": {},
   "outputs": [
    {
     "name": "stdout",
     "output_type": "stream",
     "text": [
      "Vector sum: 4 8 12\n",
      "<class '__main__.Vector'>\n"
     ]
    }
   ],
   "source": [
    "# we have a three vectors and we want to add them together \n",
    "# In python there is no way how we can add a vectors so we can add them by using the operator overloading \n",
    "class Vector:\n",
    "    def __init__(self, x: int, y: int, z: int) -> None:\n",
    "        self.x = x\n",
    "        self.y = y\n",
    "        self.z = z\n",
    "    \n",
    "    def __add__(self, other: 'Vector') -> 'Vector':\n",
    "        if isinstance(other, Vector):\n",
    "            return Vector(self.x + other.x, self.y + other.y, self.z + other.z)\n",
    "        else:\n",
    "            raise TypeError(\"Unsupported operand type for +: 'Vector' and '{}'\".format(type(other).__name__))\n",
    "\n",
    "    \n",
    "vector1 = Vector(1, 2, 3)\n",
    "vector2 = Vector(1, 2, 3)\n",
    "vector3 = Vector(1, 2, 3)\n",
    "vector4 = Vector(1, 2, 3)\n",
    "\n",
    "vector_sum = vector1 + vector2 + vector3 + vector4\n",
    "print(\"Vector sum:\", vector_sum.x , vector_sum.y, vector_sum.z)\n",
    "print(type(vector_sum))\n"
   ]
  },
  {
   "cell_type": "code",
   "execution_count": 15,
   "metadata": {},
   "outputs": [
    {
     "name": "stdout",
     "output_type": "stream",
     "text": [
      "Vector sum: 4 8 12\n",
      "<class '__main__.Vector'>\n"
     ]
    }
   ],
   "source": [
    "class Vector:\n",
    "    def __init__(self, x: int, y: int, z: int) -> None:\n",
    "        self.x = x\n",
    "        self.y = y\n",
    "        self.z = z\n",
    "    \n",
    "    def __add__(self, other: 'Vector') -> 'Vector':\n",
    "        if isinstance(other, Vector):\n",
    "            return Vector(self.x + other.x, self.y + other.y, self.z + other.z)\n",
    "        else:\n",
    "            raise TypeError(\"Unsupported operand type for +: 'Vector' and '{}'\".format(type(other).__name__))\n",
    "\n",
    "    \n",
    "vector1 = Vector(1, 2, 3)\n",
    "vector2 = Vector(1, 2, 3)\n",
    "vector3 = Vector(1, 2, 3)\n",
    "vector4 = Vector(1, 2, 3)\n",
    "\n",
    "vector_sum = vector1 + vector2 + vector3 + vector4\n",
    "print(\"Vector sum:\", vector_sum.x , vector_sum.y, vector_sum.z)\n",
    "print(type(vector_sum))\n"
   ]
  },
  {
   "cell_type": "code",
   "execution_count": null,
   "metadata": {},
   "outputs": [],
   "source": [
    "class MyClass:  # This implicitly inherits from object\n",
    "    pass\n",
    "\n",
    "\n",
    "# The object class provides a set of default behaviors and methods that are inherited by \n",
    "# all other classes. Some of the commonly used methods provided by the object class include:\n",
    "\n",
    "# __init__(): The constructor method that initializes a new instance of the class.\n",
    "# __str__(): Returns a string representation of the object when str() or print() is called.\n",
    "# __repr__(): Returns a string representation of the object for debugging purposes.\n",
    "# __eq__(): Defines the behavior of the equality operator (==) for objects of the class.\n",
    "# __hash__(): Returns a hash value of the object, used for hashing in dictionaries and sets.\n",
    "# __getattr__(), __setattr__(), __delattr__(): Methods for handling attribute access and modification.\n",
    "\n",
    "                             # Equivalent to:\n",
    "class MyClass(object):  # This explicitly inherits from object\n",
    "    pass\n"
   ]
  },
  {
   "cell_type": "code",
   "execution_count": 26,
   "metadata": {},
   "outputs": [
    {
     "data": {
      "text/plain": [
       "['__class__',\n",
       " '__delattr__',\n",
       " '__dict__',\n",
       " '__dir__',\n",
       " '__doc__',\n",
       " '__eq__',\n",
       " '__format__',\n",
       " '__ge__',\n",
       " '__getattribute__',\n",
       " '__getstate__',\n",
       " '__gt__',\n",
       " '__hash__',\n",
       " '__init__',\n",
       " '__init_subclass__',\n",
       " '__le__',\n",
       " '__lt__',\n",
       " '__module__',\n",
       " '__ne__',\n",
       " '__new__',\n",
       " '__reduce__',\n",
       " '__reduce_ex__',\n",
       " '__repr__',\n",
       " '__setattr__',\n",
       " '__sizeof__',\n",
       " '__str__',\n",
       " '__subclasshook__',\n",
       " '__weakref__']"
      ]
     },
     "execution_count": 26,
     "metadata": {},
     "output_type": "execute_result"
    }
   ],
   "source": [
    "class MyClass:  # This implicitly inherits from object\n",
    "    pass\n",
    "dir(MyClass)"
   ]
  },
  {
   "cell_type": "code",
   "execution_count": 31,
   "metadata": {},
   "outputs": [
    {
     "data": {
      "text/plain": [
       "['__class__',\n",
       " '__delattr__',\n",
       " '__dict__',\n",
       " '__dir__',\n",
       " '__doc__',\n",
       " '__eq__',\n",
       " '__format__',\n",
       " '__ge__',\n",
       " '__getattribute__',\n",
       " '__getstate__',\n",
       " '__gt__',\n",
       " '__hash__',\n",
       " '__init__',\n",
       " '__init_subclass__',\n",
       " '__le__',\n",
       " '__lt__',\n",
       " '__module__',\n",
       " '__ne__',\n",
       " '__new__',\n",
       " '__reduce__',\n",
       " '__reduce_ex__',\n",
       " '__repr__',\n",
       " '__setattr__',\n",
       " '__sizeof__',\n",
       " '__str__',\n",
       " '__subclasshook__',\n",
       " '__weakref__']"
      ]
     },
     "execution_count": 31,
     "metadata": {},
     "output_type": "execute_result"
    }
   ],
   "source": [
    "class MyClass():  # This implicitly inherits from object\n",
    "    pass\n",
    "dir(MyClass)"
   ]
  },
  {
   "cell_type": "code",
   "execution_count": 28,
   "metadata": {},
   "outputs": [
    {
     "data": {
      "text/plain": [
       "['__class__',\n",
       " '__delattr__',\n",
       " '__dict__',\n",
       " '__dir__',\n",
       " '__doc__',\n",
       " '__eq__',\n",
       " '__format__',\n",
       " '__ge__',\n",
       " '__getattribute__',\n",
       " '__getstate__',\n",
       " '__gt__',\n",
       " '__hash__',\n",
       " '__init__',\n",
       " '__init_subclass__',\n",
       " '__le__',\n",
       " '__lt__',\n",
       " '__module__',\n",
       " '__ne__',\n",
       " '__new__',\n",
       " '__reduce__',\n",
       " '__reduce_ex__',\n",
       " '__repr__',\n",
       " '__setattr__',\n",
       " '__sizeof__',\n",
       " '__str__',\n",
       " '__subclasshook__',\n",
       " '__weakref__']"
      ]
     },
     "execution_count": 28,
     "metadata": {},
     "output_type": "execute_result"
    }
   ],
   "source": [
    "class MyClass(object):  \n",
    "    pass\n",
    "dir(MyClass())"
   ]
  },
  {
   "cell_type": "markdown",
   "metadata": {},
   "source": [
    "# Using __call__()\n",
    "The __call__() method allows an object to be called like a function."
   ]
  },
  {
   "cell_type": "code",
   "execution_count": 6,
   "metadata": {},
   "outputs": [
    {
     "name": "stdout",
     "output_type": "stream",
     "text": [
      "12\n"
     ]
    },
    {
     "data": {
      "text/plain": [
       "<bound method Multiplier.add of <__main__.Multiplier object at 0x00000266E2795D00>>"
      ]
     },
     "execution_count": 6,
     "metadata": {},
     "output_type": "execute_result"
    }
   ],
   "source": [
    "class Multiplier:\n",
    "    def __call__(self, x: int, y: int) -> int:\n",
    "        return x * y\n",
    "    def add(self, x)->None:\n",
    "        print(x)    \n",
    "\n",
    "multiply = Multiplier()\n",
    "print(multiply(3, 4))\n",
    "multiply.add(3)"
   ]
  },
  {
   "cell_type": "markdown",
   "metadata": {},
   "source": [
    "# Multiple inheritance\n"
   ]
  },
  {
   "cell_type": "code",
   "execution_count": 24,
   "metadata": {},
   "outputs": [
    {
     "name": "stdout",
     "output_type": "stream",
     "text": [
      "father name is Ashraf\n",
      "Mother name is Safia\n",
      "father name is ashraf\n",
      "Mother name is safia\n",
      "Child name is Arman\n",
      "Father height is father 6\n",
      "Mother height is Mother 5\n",
      "Child height is father 4\n"
     ]
    }
   ],
   "source": [
    "class Father:\n",
    "    def __init__(self, fname: str,) -> None:\n",
    "        self.name = fname\n",
    "        print(f'father name is {self.name}')\n",
    "    def height(self,height: int) -> str:\n",
    "        return f'father {height}'    \n",
    "class Mother:\n",
    "    def __init__(self, mname: str) -> None:\n",
    "        self.name = mname\n",
    "        print(f'Mother name is {self.name}')\n",
    "    def height(self,height: int) -> str:\n",
    "      return f'Mother {height}'  \n",
    "class Child(Father, Mother):\n",
    "    def __init__(self, fname: str,mname:str,cname:str) -> None:\n",
    "        Father.__init__(self,fname)\n",
    "        Mother.__init__(self,mname)\n",
    "        self.name = cname\n",
    "        print(f'Child name is {self.name}')\n",
    "    # def height(self,height: int) -> int:\n",
    "    #   return height       \n",
    "father:Father = Father('Ashraf')  \n",
    "mother:Mother = Mother('Safia')     \n",
    "child:Child = Child('ashraf','safia','Arman')\n",
    "father.name\n",
    "mother.name\n",
    "child.name\n",
    "print(f'Father height is {father.height(6)}')\n",
    "print(f'Mother height is {mother.height(5)}')\n",
    "print(f'Child height is {child.height(4)}')"
   ]
  },
  {
   "cell_type": "code",
   "execution_count": 25,
   "metadata": {},
   "outputs": [
    {
     "name": "stdout",
     "output_type": "stream",
     "text": [
      "father name is Ashraf\n",
      "Mother name is Safia\n",
      "father name is ashraf\n",
      "Mother name is safia\n",
      "Child name is Arman\n",
      "Father height is father 6\n",
      "Mother height is Mother 5\n",
      "Child height is Mother 4\n"
     ]
    }
   ],
   "source": [
    "class Father:\n",
    "    def __init__(self, fname: str,) -> None:\n",
    "        self.name = fname\n",
    "        print(f'father name is {self.name}')\n",
    "    def height(self,height: int) -> str:\n",
    "        return f'father {height}'    \n",
    "class Mother:\n",
    "    def __init__(self, mname: str) -> None:\n",
    "        self.name = mname\n",
    "        print(f'Mother name is {self.name}')\n",
    "    def height(self,height: int) -> str:\n",
    "      return f'Mother {height}'  \n",
    "class Child(Mother,Father):\n",
    "    def __init__(self, fname: str,mname:str,cname:str) -> None:\n",
    "        Father.__init__(self,fname)\n",
    "        Mother.__init__(self,mname)\n",
    "        self.name = cname\n",
    "        print(f'Child name is {self.name}')\n",
    "    # def height(self,height: int) -> int:\n",
    "    #   return height       \n",
    "father:Father = Father('Ashraf')  \n",
    "mother:Mother = Mother('Safia')     \n",
    "child:Child = Child('ashraf','safia','Arman')\n",
    "father.name\n",
    "mother.name\n",
    "child.name\n",
    "print(f'Father height is {father.height(6)}')\n",
    "print(f'Mother height is {mother.height(5)}')\n",
    "print(f'Child height is {child.height(4)}')"
   ]
  },
  {
   "cell_type": "code",
   "execution_count": 34,
   "metadata": {},
   "outputs": [
    {
     "name": "stdout",
     "output_type": "stream",
     "text": [
      "Animal is eating grass\n",
      "Bird is eating grass\n"
     ]
    }
   ],
   "source": [
    "class Animal():\n",
    "    def eating(self,food : str )->str:  \n",
    "        return f\"Animal is eating {food}\"\n",
    "\n",
    "\n",
    "class Bird(Animal):\n",
    "    def eating(self, food: str) -> str:\n",
    "        return f\"Bird is eating {food}\"\n",
    "\n",
    "\n",
    "bird : Bird = Bird()\n",
    "bird.eating(\"bread\")\n",
    "\n",
    "animal : Animal = Animal()\n",
    "print(animal.eating(\"grass\"))\n",
    "animal : Animal = Bird()# run time it will decide which object method it will be run\n",
    "print(animal.eating(\"grass\"))"
   ]
  },
  {
   "cell_type": "markdown",
   "metadata": {},
   "source": [
    "# Static Method and Static Variable\n",
    "The main reson to define a static method because we can call it without calling the object .\n"
   ]
  },
  {
   "cell_type": "code",
   "execution_count": 36,
   "metadata": {},
   "outputs": [
    {
     "name": "stdout",
     "output_type": "stream",
     "text": [
      "36\n",
      "30\n",
      "99\n",
      "9\n"
     ]
    }
   ],
   "source": [
    "# In this example we call the methods without calling the object like add=mathematicalOperations()\n",
    "class MathematicalOperations:\n",
    "    my_name:str='Arman ' # This is we define static variable\n",
    "     \n",
    "    @staticmethod \n",
    "    def add(x: int,y:int)->int:\n",
    "        return x+y\n",
    "    @staticmethod\n",
    "    def sub(x: int,y:int)->int:\n",
    "        return x-y\n",
    "    @staticmethod\n",
    "    def mult(x: int,y:int)->int:\n",
    "        return x*y\n",
    "    @staticmethod\n",
    "    def sqrt(x: int,y:int)->int:\n",
    "        return x**y\n",
    "print(MathematicalOperations.add(33,3))    \n",
    "print(MathematicalOperations.sub(33,3))    \n",
    "print(MathematicalOperations.mult(33,3))    \n",
    "print(MathematicalOperations.sqrt(3,2))    "
   ]
  },
  {
   "cell_type": "code",
   "execution_count": 11,
   "metadata": {},
   "outputs": [
    {
     "name": "stdout",
     "output_type": "stream",
     "text": [
      "square_numbers() took 0.0039 ms\n"
     ]
    },
    {
     "data": {
      "text/plain": [
       "[0, 1, 4, 9, 16, 25, 36, 49, 64, 81]"
      ]
     },
     "execution_count": 11,
     "metadata": {},
     "output_type": "execute_result"
    }
   ],
   "source": [
    "import time\n",
    "\n",
    "class ExecutionTimer:\n",
    "    def __init__(self, func):\n",
    "        self.func = func\n",
    "\n",
    "    def __call__(self, *args ):\n",
    "        start = time.perf_counter()\n",
    "        result = self.func(*args )\n",
    "        end = time.perf_counter()\n",
    "        print(f\"{self.func.__name__}() took {(end - start) * 1000:.4f} ms\")\n",
    "        return result\n",
    "\n",
    "@ExecutionTimer    \n",
    "def square_numbers(numbers):\n",
    "    return [number ** 2 for number in numbers]\n",
    "\n",
    "\n",
    "square_numbers(list(range(10)))"
   ]
  },
  {
   "cell_type": "code",
   "execution_count": 15,
   "metadata": {},
   "outputs": [
    {
     "name": "stdout",
     "output_type": "stream",
     "text": [
      "Calling MyCallable instance with argument: 10\n"
     ]
    }
   ],
   "source": [
    "# In Python, a callable object is any object that can be called like a function.\n",
    "# In Python, __call__ is a special method that can be defined within a class. \n",
    "#When this method is implemented, it allows instances of the class to be called as if they were functions.\n",
    "\n",
    "class MyCallable:\n",
    "    def __call__(self, x:int)->None  :\n",
    "        print(\"Calling MyCallable instance with argument:\", x)\n",
    "\n",
    "my_obj:MyCallable = MyCallable()  # Create an instance of MyCallable\n",
    "my_obj(10)  # This calls the __call__ method of my_obj\n"
   ]
  },
  {
   "cell_type": "code",
   "execution_count": 20,
   "metadata": {},
   "outputs": [
    {
     "name": "stdout",
     "output_type": "stream",
     "text": [
      "Prime numbers less than or equal to 110 are: [2, 3, 5, 7, 11, 13, 17, 19, 23, 29, 31, 37, 41, 43, 47, 53, 59, 61, 67, 71, 73, 79, 83, 89, 97, 101, 103, 107, 109]\n"
     ]
    }
   ],
   "source": [
    "def primes(n):\n",
    "    prime_list = []\n",
    "    for num in range(2, n + 1):  # Start from 2 since 1 is not a prime number\n",
    "        is_prime = True\n",
    "        for i in range(2, int(num ** 0.5) + 1):  # Check divisibility up to square root of num\n",
    "            if num % i == 0:\n",
    "                is_prime = False\n",
    "                break\n",
    "        if is_prime:\n",
    "            prime_list.append(num)\n",
    "    return prime_list\n",
    "\n",
    "# Example usage:\n",
    "n = 110\n",
    "prime_numbers = primes(n)\n",
    "print(\"Prime numbers less than or equal to\", n, \"are:\", prime_numbers)\n"
   ]
  },
  {
   "cell_type": "code",
   "execution_count": 21,
   "metadata": {},
   "outputs": [
    {
     "name": "stdout",
     "output_type": "stream",
     "text": [
      "1.7320508075688772\n"
     ]
    }
   ],
   "source": [
    "print(3**0.5)"
   ]
  },
  {
   "cell_type": "code",
   "execution_count": 9,
   "metadata": {},
   "outputs": [
    {
     "name": "stdout",
     "output_type": "stream",
     "text": [
      "arman\n",
      "22\n"
     ]
    }
   ],
   "source": [
    "# public private and protected methods in the class\n",
    "class MyBioDat:\n",
    "    def __init__(self):\n",
    "        self.name='arman' # public name\n",
    "        self._personal_detail='I am from pakistan' # procted \n",
    "        self.__age=22 # private dat we can access the private information below the example which explains \n",
    "        \n",
    "my_object = MyBioDat()\n",
    "print(my_object.name) \n",
    "# print(my_obj.personal_detail)   \n",
    "# print(my_obj.__age)    \n",
    "print(my_object._MyBioDat__age)\n",
    "        \n",
    "        "
   ]
  },
  {
   "cell_type": "code",
   "execution_count": 10,
   "metadata": {},
   "outputs": [
    {
     "name": "stdout",
     "output_type": "stream",
     "text": [
      "This is a public attribute\n",
      "This is a protected attribute\n",
      "This is a private attribute\n",
      "Modified private attribute\n"
     ]
    }
   ],
   "source": [
    "class MyClass:\n",
    "    def __init__(self):\n",
    "        # Public attribute\n",
    "        self.public_attribute = \"This is a public attribute\"\n",
    "\n",
    "        # Protected attribute (by convention, using a single underscore)\n",
    "        self._protected_attribute = \"This is a protected attribute\"\n",
    "\n",
    "        # Private attribute (by convention, using double underscore)\n",
    "        self.__private_attribute = \"This is a private attribute\"\n",
    "\n",
    "    def get_private_attribute(self):\n",
    "        return self.__private_attribute\n",
    "\n",
    "    def set_private_attribute(self, value):\n",
    "        self.__private_attribute = value\n",
    "\n",
    "\n",
    "# Creating an object of MyClass\n",
    "obj = MyClass()\n",
    "\n",
    "# Accessing public attribute\n",
    "print(obj.public_attribute)\n",
    "\n",
    "# Accessing protected attribute (can be accessed but should be avoided)\n",
    "print(obj._protected_attribute)\n",
    "\n",
    "# Accessing private attribute (will result in AttributeError)\n",
    "# print(obj.__private_attribute)  # This will raise an AttributeError\n",
    "\n",
    "# Accessing private attribute using getter method\n",
    "print(obj.get_private_attribute())\n",
    "\n",
    "# Modifying private attribute using setter method\n",
    "obj.set_private_attribute(\"Modified private attribute\")\n",
    "print(obj.get_private_attribute())\n"
   ]
  }
 ],
 "metadata": {
  "kernelspec": {
   "display_name": "Python 3",
   "language": "python",
   "name": "python3"
  },
  "language_info": {
   "codemirror_mode": {
    "name": "ipython",
    "version": 3
   },
   "file_extension": ".py",
   "mimetype": "text/x-python",
   "name": "python",
   "nbconvert_exporter": "python",
   "pygments_lexer": "ipython3",
   "version": "3.12.1"
  }
 },
 "nbformat": 4,
 "nbformat_minor": 2
}
