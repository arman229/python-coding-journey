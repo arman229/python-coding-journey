{
 "cells": [
  {
   "cell_type": "markdown",
   "metadata": {},
   "source": [
    "# Making an object from a class is called instantiation"
   ]
  },
  {
   "cell_type": "code",
   "execution_count": 8,
   "metadata": {},
   "outputs": [
    {
     "name": "stdout",
     "output_type": "stream",
     "text": [
      "1\n",
      "Dog is very beautiful\n"
     ]
    }
   ],
   "source": [
    "# Creating the Dog Class\n",
    "# The name of the class must be in capitalized for PIP rule.\n",
    "# The __init__ method is a special method called a constructor, which is called when \n",
    "#a new instance of the class is created. It initializes the object with the provided name and age.\n",
    "# sit are methods of the DogClass\n",
    "# we create a instance of the DogClass \n",
    "class DogClass():\n",
    "    def __init__(self,dname,dage) ->None:\n",
    "        self.name:str = dname\n",
    "        self.age:int = dage\n",
    "    def sit(self,beaut:str)->None:\n",
    "        print(f'{self.name} is very {beaut}')  \n",
    "        \n",
    "first_obj=DogClass('Dog',1)\n",
    "print(first_obj.age)    \n",
    "first_obj.sit('beautiful')          "
   ]
  },
  {
   "cell_type": "markdown",
   "metadata": {},
   "source": [
    "Classes, Methods, and Attributes\n",
    "Class: A blueprint for creating objects.\n",
    "Method: A function defined inside a class.\n",
    "Attribute: A variable that belongs to an object."
   ]
  },
  {
   "cell_type": "code",
   "execution_count": 1,
   "metadata": {},
   "outputs": [
    {
     "name": "stdout",
     "output_type": "stream",
     "text": [
      "['__class__', '__delattr__', '__dict__', '__dir__', '__doc__', '__eq__', '__format__', '__ge__', '__getattribute__', '__getstate__', '__gt__', '__hash__', '__init__', '__init_subclass__', '__le__', '__lt__', '__module__', '__ne__', '__new__', '__reduce__', '__reduce_ex__', '__repr__', '__setattr__', '__sizeof__', '__str__', '__subclasshook__', '__weakref__', 'age', 'bark', 'name', 'species']\n"
     ]
    }
   ],
   "source": [
    "# Class attributes are shared among all instances of the class.    \n",
    "\n",
    "class Dog:\n",
    "    species = \"Canis familiaris\"  \n",
    "    def __init__(self, name, age):\n",
    "        self.name = name\n",
    "        self.age = age   # Instance attribute\n",
    "dog=Dog('ali','2')\n",
    "print(dog.species)\n",
    "print(dog.name)\n",
    "        "
   ]
  },
  {
   "cell_type": "markdown",
   "metadata": {},
   "source": [
    "# inheritance in Python\n",
    "Inheritance in Python Object-Oriented Programming (OOP) is a mechanism that allows a new class (subclass or child class) to acquire and extend the properties and behaviors (methods) of an existing class (superclass or parent class).\n"
   ]
  },
  {
   "cell_type": "code",
   "execution_count": 17,
   "metadata": {},
   "outputs": [
    {
     "name": "stdout",
     "output_type": "stream",
     "text": [
      "Arman\n",
      "Child Arman: I have completed Bachelor's degree in Mathematics\n",
      "Child: Arman, Title: I have completed Bachelor's degree in Mathematics\n"
     ]
    }
   ],
   "source": [
    "class Father:\n",
    "    age: int = 60\n",
    "    \n",
    "    def __init__(self, name: str) -> None:\n",
    "        self.name = name\n",
    "        print(self.name)\n",
    "        \n",
    "    def height(self, height: int) -> None:\n",
    "        print(f'Father {self.name} has a height of {height} feet')\n",
    "\n",
    "\n",
    "class Child(Father):\n",
    "    def __init__(self, name: str, title: str) -> None:\n",
    "        super().__init__(name)\n",
    "        self.title = title\n",
    "        print(f'Child {self.name}: {self.title}')\n",
    "        \n",
    "    def __str__(self) -> str:\n",
    "        return f'Child: {self.name}, Title: {self.title}'\n",
    "\n",
    "child = Child('Arman', \"I have completed Bachelor's degree in Mathematics\")\n",
    "\n",
    "print(child)   \n"
   ]
  },
  {
   "cell_type": "code",
   "execution_count": 6,
   "metadata": {},
   "outputs": [
    {
     "name": "stdout",
     "output_type": "stream",
     "text": [
      "Parking fees of cycle is 10 Rupees\n",
      "all teacher age are more than 20 year old and my favorite teacher is  m ali\n",
      "all teacher age are more than 20 year old and my favorite teacher is ali\n"
     ]
    }
   ],
   "source": [
    "class Teacher:\n",
    "    def __init__(self,name:str):\n",
    "        self.Name=name\n",
    "    def teacherage(self):\n",
    "        print(f'all teacher age are more than 20 year old and my favorite teacher is {self.Name}')\n",
    "class School(Teacher):\n",
    "    def __init__(self,name:str): # it overrides the default teacherage\n",
    "        self.Name=' m ali'\n",
    "        self.newName='my teacher'\n",
    "    def cyclStand(self):\n",
    "        print('Parking fees of cycle is 10 Rupees')\n",
    "        \n",
    "school=School('ali')\n",
    "school.cyclStand()\n",
    "school.teacherage()\n",
    "school.newName\n",
    "teacher=Teacher('ali')\n",
    "teacher.teacherage()\n",
    "\n",
    "                "
   ]
  },
  {
   "cell_type": "code",
   "execution_count": 8,
   "metadata": {},
   "outputs": [
    {
     "name": "stdout",
     "output_type": "stream",
     "text": [
      "dog1\n",
      "dog2\n",
      "dog3\n",
      "dog4\n"
     ]
    }
   ],
   "source": [
    "class Animal:\n",
    "    def __init__(self, species, sound):\n",
    "        self.species = species\n",
    "        self.sound = sound\n",
    "\n",
    "     \n",
    "\n",
    "class Dog(Animal):\n",
    "    def __init__(self, breed, name,species, sound):\n",
    "        super().__init__(species, sound)\n",
    "        self.breed = breed\n",
    "        self.name = name\n",
    " \n",
    "dog=Dog('dog1','dog2','dog3','dog4')\n",
    "print(dog.breed)\n",
    "print(dog.name)\n",
    "print(dog.species)\n",
    "print(dog.sound)"
   ]
  },
  {
   "cell_type": "markdown",
   "metadata": {},
   "source": [
    "## polymorphism\n",
    " same thing behaviour differently in different circumstance."
   ]
  },
  {
   "cell_type": "code",
   "execution_count": 13,
   "metadata": {},
   "outputs": [
    {
     "name": "stdout",
     "output_type": "stream",
     "text": [
      "6\n",
      "6.0\n",
      "Hello World\n",
      "[1, 2, 3, 4, 5, 6]\n"
     ]
    },
    {
     "ename": "TypeError",
     "evalue": "Unsupported operand types",
     "output_type": "error",
     "traceback": [
      "\u001b[1;31m---------------------------------------------------------------------------\u001b[0m",
      "\u001b[1;31mTypeError\u001b[0m                                 Traceback (most recent call last)",
      "Cell \u001b[1;32mIn[13], line 42\u001b[0m\n\u001b[0;32m     40\u001b[0m a_list \u001b[38;5;241m=\u001b[39m add([\u001b[38;5;241m1\u001b[39m, \u001b[38;5;241m2\u001b[39m, \u001b[38;5;241m3\u001b[39m], [\u001b[38;5;241m4\u001b[39m, \u001b[38;5;241m5\u001b[39m, \u001b[38;5;241m6\u001b[39m])\n\u001b[0;32m     41\u001b[0m \u001b[38;5;28mprint\u001b[39m(a_list)  \u001b[38;5;66;03m# Output: [1, 2, 3, 4, 5, 6]\u001b[39;00m\n\u001b[1;32m---> 42\u001b[0m \u001b[38;5;28mprint\u001b[39m(\u001b[43madd\u001b[49m\u001b[43m(\u001b[49m\u001b[38;5;241;43m3\u001b[39;49m\u001b[43m,\u001b[49m\u001b[38;5;124;43m'\u001b[39;49m\u001b[38;5;124;43m3\u001b[39;49m\u001b[38;5;124;43m'\u001b[39;49m\u001b[43m)\u001b[49m ) \u001b[38;5;66;03m# Error message\u001b[39;00m\n",
      "Cell \u001b[1;32mIn[13], line 28\u001b[0m, in \u001b[0;36madd\u001b[1;34m(x, y)\u001b[0m\n\u001b[0;32m     26\u001b[0m     \u001b[38;5;28;01mreturn\u001b[39;00m x \u001b[38;5;241m+\u001b[39m y\n\u001b[0;32m     27\u001b[0m \u001b[38;5;28;01melse\u001b[39;00m:\n\u001b[1;32m---> 28\u001b[0m     \u001b[38;5;28;01mraise\u001b[39;00m \u001b[38;5;167;01mTypeError\u001b[39;00m(\u001b[38;5;124m\"\u001b[39m\u001b[38;5;124mUnsupported operand types\u001b[39m\u001b[38;5;124m\"\u001b[39m)\n",
      "\u001b[1;31mTypeError\u001b[0m: Unsupported operand types"
     ]
    }
   ],
   "source": [
    "# Function Overloading\n",
    "from typing import overload ,Union\n",
    "@overload\n",
    "def add(x: int, y: int) -> int:\n",
    "    ...\n",
    "@overload\n",
    "def add(x: float, y: float) -> float:\n",
    "    ...    \n",
    "# concatenate two strings\n",
    "@overload\n",
    "def add(x: str, y: str) ->str:\n",
    "    ...\n",
    "# Extend the list    \n",
    "@overload\n",
    "def add(x: list[int],y: list[int]) ->list[int]:\n",
    "    ...\n",
    "     \n",
    "def add(x:str|int|float|list[int],y:str|int|float|list[int])->int|list[int]|str|float|None:\n",
    "    if isinstance(x, int) and isinstance(y, int):\n",
    "        return x + y\n",
    "    elif isinstance(x, float) and isinstance(y, float):\n",
    "        return x + y\n",
    "    elif isinstance(x, str) and isinstance(y, str):\n",
    "        return x + y\n",
    "    elif isinstance(x, list) and isinstance(y, list):\n",
    "        return x + y\n",
    "    else:\n",
    "        raise TypeError(\"Unsupported operand types\")\n",
    "\n",
    "# Test cases\n",
    "a_int = add(3, 3)\n",
    "print(a_int)  # Output: 6\n",
    "\n",
    "a_float = add(3.5, 2.5)\n",
    "print(a_float)  # Output: 6.0\n",
    "\n",
    "a_str = add(\"Hello\", \" World\")\n",
    "print(a_str)  # Output: Hello World\n",
    "\n",
    "a_list = add([1, 2, 3], [4, 5, 6])\n",
    "print(a_list)  # Output: [1, 2, 3, 4, 5, 6]\n",
    "#print(add(3,'3') ) # Error message"
   ]
  },
  {
   "cell_type": "markdown",
   "metadata": {},
   "source": [
    "# Method Overriding\n",
    "# Whenever we write method name with same signature in parant and child class called method overriding."
   ]
  },
  {
   "cell_type": "code",
   "execution_count": null,
   "metadata": {},
   "outputs": [],
   "source": [
    "class Animal:\n",
    "    def speak(self):\n",
    "        return \"Animal speaks\"\n",
    "\n",
    "class Dog(Animal):\n",
    "    def speak(self):\n",
    "        return \"Woof!\"\n",
    "\n",
    "class Cat(Animal):\n",
    "    def speak(self):\n",
    "        return \"Meow!\"\n",
    "\n",
    "dog = Dog()\n",
    "cat = Cat()\n",
    "\n",
    "print(dog.speak())  # Output: Woof!\n",
    "print(cat.speak())  # Output: Meow!\n"
   ]
  },
  {
   "cell_type": "markdown",
   "metadata": {},
   "source": [
    "# Method overloading\n",
    "# When a class contains two or more methods with the same name but different behaviour is called as method overloading."
   ]
  },
  {
   "cell_type": "code",
   "execution_count": 17,
   "metadata": {},
   "outputs": [
    {
     "name": "stdout",
     "output_type": "stream",
     "text": [
      "6\n",
      "6.0\n",
      "Hello World\n",
      "[1, 2, 3, 4, 5, 6]\n"
     ]
    }
   ],
   "source": [
    "# Method Overloading\n",
    "from typing import overload ,Union\n",
    "class Addition:\n",
    "    @overload\n",
    "    def add(self,x: int, y: int) -> int:\n",
    "        ...\n",
    "    @overload\n",
    "    def add(self,x: float, y: float) -> float:\n",
    "        ...    \n",
    "    # concatenate two strings\n",
    "    @overload\n",
    "    def add(self,x: str, y: str) ->str:\n",
    "        ...\n",
    "    # Extend the list    \n",
    "    @overload\n",
    "    def add(self,x: list[int],y: list[int]) ->list[int]:\n",
    "        ...\n",
    "        \n",
    "    def add(self,x:str|int|float|list[int],y:str|int|float|list[int])->int|list[int]|str|float|None:\n",
    "        if isinstance(x, int) and isinstance(y, int):\n",
    "            return x + y\n",
    "        elif isinstance(x, float) and isinstance(y, float):\n",
    "            return x + y\n",
    "        elif isinstance(x, str) and isinstance(y, str):\n",
    "            return x + y\n",
    "        elif isinstance(x, list) and isinstance(y, list):\n",
    "            return x + y\n",
    "        else:\n",
    "            raise TypeError(\"Unsupported operand types\")\n",
    "\n",
    "# Test cases\n",
    "funcall =Addition()\n",
    "a_int =funcall.add(3,3)\n",
    "print(a_int)  # Output: 6\n",
    "\n",
    "a_float = funcall.add(3.5, 2.5)\n",
    "print(a_float)  # Output: 6.0\n",
    "\n",
    "a_str = add(\"Hello\", \" World\")\n",
    "print(a_str)  # Output: Hello World\n",
    "\n",
    "a_list = add([1, 2, 3], [4, 5, 6])\n",
    "print(a_list)  # Output: [1, 2, 3, 4, 5, 6]\n",
    "#print(add(3,'3') ) # Error message"
   ]
  },
  {
   "cell_type": "code",
   "execution_count": null,
   "metadata": {},
   "outputs": [],
   "source": [
    "# polymorphism\n",
    "# same thing behaviour differently in different circumstance."
   ]
  }
 ],
 "metadata": {
  "kernelspec": {
   "display_name": "Python 3",
   "language": "python",
   "name": "python3"
  },
  "language_info": {
   "codemirror_mode": {
    "name": "ipython",
    "version": 3
   },
   "file_extension": ".py",
   "mimetype": "text/x-python",
   "name": "python",
   "nbconvert_exporter": "python",
   "pygments_lexer": "ipython3",
   "version": "3.12.1"
  }
 },
 "nbformat": 4,
 "nbformat_minor": 2
}
