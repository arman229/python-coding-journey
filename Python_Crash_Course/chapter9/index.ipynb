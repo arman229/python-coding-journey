{
 "cells": [
  {
   "cell_type": "markdown",
   "metadata": {},
   "source": [
    "# Making an object from a class is called instantiation"
   ]
  },
  {
   "cell_type": "code",
   "execution_count": 8,
   "metadata": {},
   "outputs": [
    {
     "name": "stdout",
     "output_type": "stream",
     "text": [
      "1\n",
      "Dog is very beautiful\n"
     ]
    }
   ],
   "source": [
    "# Creating the Dog Class\n",
    "# The name of the class must be in capitalized for PIP rule.\n",
    "# The __init__ method is a special method called a constructor, which is called when \n",
    "#a new instance of the class is created. It initializes the object with the provided name and age.\n",
    "# sit are methods of the DogClass\n",
    "# we create a instance of the DogClass \n",
    "class DogClass():\n",
    "    def __init__(self,dname,dage) ->None:\n",
    "        self.name:str = dname\n",
    "        self.age:int = dage\n",
    "    def sit(self,beaut:str)->None:\n",
    "        print(f'{self.name} is very {beaut}')  \n",
    "        \n",
    "first_obj=DogClass('Dog',1)\n",
    "print(first_obj.age)    \n",
    "first_obj.sit('beautiful')          "
   ]
  },
  {
   "cell_type": "markdown",
   "metadata": {},
   "source": [
    "Classes, Methods, and Attributes\n",
    "Class: A blueprint for creating objects.\n",
    "Method: A function defined inside a class.\n",
    "Attribute: A variable that belongs to an object."
   ]
  },
  {
   "cell_type": "code",
   "execution_count": 1,
   "metadata": {},
   "outputs": [
    {
     "name": "stdout",
     "output_type": "stream",
     "text": [
      "['__class__', '__delattr__', '__dict__', '__dir__', '__doc__', '__eq__', '__format__', '__ge__', '__getattribute__', '__getstate__', '__gt__', '__hash__', '__init__', '__init_subclass__', '__le__', '__lt__', '__module__', '__ne__', '__new__', '__reduce__', '__reduce_ex__', '__repr__', '__setattr__', '__sizeof__', '__str__', '__subclasshook__', '__weakref__', 'age', 'bark', 'name', 'species']\n"
     ]
    }
   ],
   "source": [
    "# Class attributes are shared among all instances of the class.    \n",
    "\n",
    "class Dog:\n",
    "    species = \"Canis familiaris\"  \n",
    "    def __init__(self, name, age):\n",
    "        self.name = name\n",
    "        self.age = age   # Instance attribute\n",
    "dog=Dog('ali','2')\n",
    "print(dog.species)\n",
    "print(dog.name)\n",
    "        "
   ]
  },
  {
   "cell_type": "markdown",
   "metadata": {},
   "source": [
    "# inheritance in Python\n"
   ]
  },
  {
   "cell_type": "code",
   "execution_count": 4,
   "metadata": {},
   "outputs": [
    {
     "name": "stdout",
     "output_type": "stream",
     "text": [
      "Arman\n",
      "Father Arman has a height of 3 feet\n"
     ]
    },
    {
     "ename": "TypeError",
     "evalue": "'str' object is not callable",
     "output_type": "error",
     "traceback": [
      "\u001b[1;31m---------------------------------------------------------------------------\u001b[0m",
      "\u001b[1;31mTypeError\u001b[0m                                 Traceback (most recent call last)",
      "Cell \u001b[1;32mIn[4], line 22\u001b[0m\n\u001b[0;32m     20\u001b[0m child\u001b[38;5;241m=\u001b[39mChild(\u001b[38;5;124m'\u001b[39m\u001b[38;5;124mArman\u001b[39m\u001b[38;5;124m'\u001b[39m)\n\u001b[0;32m     21\u001b[0m child\u001b[38;5;241m.\u001b[39mheight(\u001b[38;5;241m3\u001b[39m)\n\u001b[1;32m---> 22\u001b[0m \u001b[43mchild\u001b[49m\u001b[38;5;241;43m.\u001b[39;49m\u001b[43mtitle\u001b[49m\u001b[43m(\u001b[49m\u001b[38;5;124;43m'\u001b[39;49m\u001b[38;5;124;43mMr\u001b[39;49m\u001b[38;5;124;43m'\u001b[39;49m\u001b[43m)\u001b[49m\n",
      "\u001b[1;31mTypeError\u001b[0m: 'str' object is not callable"
     ]
    }
   ],
   "source": [
    "class Father:\n",
    "    age: int = 60\n",
    "    \n",
    "    def __init__(self, name: str)->None:\n",
    "        self.name = name\n",
    "        print(self.name)\n",
    "        \n",
    "    def height(self, height: int) -> None:\n",
    "        print(f'Father {self.name} has a height of {height} feet')\n",
    "\n",
    "\n",
    "class Child(Father):\n",
    "    def __init__(self, title: str) -> None:\n",
    "        super().__init__(title)\n",
    "        self.title=title\n",
    "        \n",
    "# father = Father('Muhammad Ashraf')\n",
    "# print(father.age)\n",
    "# father.height(6)\n",
    "child=Child('Arman')\n",
    "child.height(3)\n",
    "child.title('Mr')\n",
    "\n"
   ]
  },
  {
   "cell_type": "code",
   "execution_count": 6,
   "metadata": {},
   "outputs": [
    {
     "name": "stdout",
     "output_type": "stream",
     "text": [
      "Parking fees of cycle is 10 Rupees\n",
      "all teacher age are more than 20 year old and my favorite teacher is  m ali\n",
      "all teacher age are more than 20 year old and my favorite teacher is ali\n"
     ]
    }
   ],
   "source": [
    "class Teacher:\n",
    "    def __init__(self,name:str):\n",
    "        self.Name=name\n",
    "    def teacherage(self):\n",
    "        print(f'all teacher age are more than 20 year old and my favorite teacher is {self.Name}')\n",
    "class School(Teacher):\n",
    "    def __init__(self,name:str): # it overrides the default teacherage\n",
    "        self.Name=' m ali'\n",
    "        self.newName='my teacher'\n",
    "    def cyclStand(self):\n",
    "        print('Parking fees of cycle is 10 Rupees')\n",
    "        \n",
    "school=School('ali')\n",
    "school.cyclStand()\n",
    "school.teacherage()\n",
    "school.newName\n",
    "teacher=Teacher('ali')\n",
    "teacher.teacherage()\n",
    "\n",
    "                "
   ]
  },
  {
   "cell_type": "code",
   "execution_count": 8,
   "metadata": {},
   "outputs": [
    {
     "name": "stdout",
     "output_type": "stream",
     "text": [
      "dog1\n",
      "dog2\n",
      "dog3\n",
      "dog4\n"
     ]
    }
   ],
   "source": [
    "class Animal:\n",
    "    def __init__(self, species, sound):\n",
    "        self.species = species\n",
    "        self.sound = sound\n",
    "\n",
    "     \n",
    "\n",
    "class Dog(Animal):\n",
    "    def __init__(self, breed, name,species, sound):\n",
    "        super().__init__(species, sound)\n",
    "        self.breed = breed\n",
    "        self.name = name\n",
    " \n",
    "dog=Dog('dog1','dog2','dog3','dog4')\n",
    "print(dog.breed)\n",
    "print(dog.name)\n",
    "print(dog.species)\n",
    "print(dog.sound)"
   ]
  }
 ],
 "metadata": {
  "kernelspec": {
   "display_name": "Python 3",
   "language": "python",
   "name": "python3"
  },
  "language_info": {
   "codemirror_mode": {
    "name": "ipython",
    "version": 3
   },
   "file_extension": ".py",
   "mimetype": "text/x-python",
   "name": "python",
   "nbconvert_exporter": "python",
   "pygments_lexer": "ipython3",
   "version": "3.12.1"
  }
 },
 "nbformat": 4,
 "nbformat_minor": 2
}
