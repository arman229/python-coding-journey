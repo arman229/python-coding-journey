{
 "cells": [
  {
   "cell_type": "code",
   "execution_count": null,
   "metadata": {},
   "outputs": [],
   "source": [
    "# how we can install packages in jupyter notebook \n",
    "# %pip install nptyping beartype  \n",
    "# %pip install package_name  --upgrade --force  (if the package is already installed and we want to upgrade it)"
   ]
  },
  {
   "cell_type": "markdown",
   "metadata": {},
   "source": [
    "# Scalar:\n",
    "A scalar in NumPy is simply a single numerical value, such as an integer or a floating-point number. Scalars in NumPy are represented by arrays with zero dimensions."
   ]
  },
  {
   "cell_type": "code",
   "execution_count": null,
   "metadata": {},
   "outputs": [],
   "source": [
    "# Scalar Value\n",
    "import numpy as np\n",
    "scalar = np.array(5)\n",
    "print(scalar)\n",
    "print(scalar.size) # total items\n",
    "print(scalar.itemsize) # item size\n",
    "print(scalar.ndim) #  dimenstion  (Trick:no of brackets [[]])\n",
    "print(scalar.shape) # It tells no of rows and columns\n",
    "print(scalar.dtype)\n",
    "print(type(scalar))"
   ]
  },
  {
   "cell_type": "markdown",
   "metadata": {},
   "source": [
    "# Vector:\n",
    "A vector in NumPy is a one-dimensional array that contains a sequence of numerical values."
   ]
  },
  {
   "cell_type": "code",
   "execution_count": null,
   "metadata": {},
   "outputs": [],
   "source": [
    "# Vector Value\n",
    "import numpy  as np\n",
    "vector :np.ndarray= np.array([1, 2, 3, 4, 5])\n",
    "print(vector)\n",
    "print(vector.size) # total items\n",
    "print(vector.itemsize) # item size\n",
    "print(vector.ndim) #  dimenstion  (Trick:no of brackets [[]])\n",
    "print(vector.shape) # It tells no of rows and columns\n",
    "print(vector.dtype)\n",
    "print(type(vector))"
   ]
  },
  {
   "cell_type": "code",
   "execution_count": null,
   "metadata": {},
   "outputs": [],
   "source": [
    " # Matrix\n",
    "import numpy  as np\n",
    "vector :np.ndarray=np.array([[2,4],[5,5]])\n",
    "print(vector)\n",
    "print(vector.size) # total items\n",
    "print(vector.itemsize) # item size\n",
    "print(vector.ndim) #  dimenstion  (Trick:no of brackets [[]])\n",
    "print(vector.shape) # It tells no of rows and columns\n",
    "print(vector.dtype)\n",
    "print(type(vector))"
   ]
  },
  {
   "cell_type": "code",
   "execution_count": null,
   "metadata": {},
   "outputs": [],
   "source": [
    "from typing import Any\n",
    "from nptyping import NDArray,Shape,UInt64\n",
    "import numpy as np\n",
    "data:NDArray[Shape['10'],Any]=np.arange(1,11)\n",
    "print(data)"
   ]
  },
  {
   "cell_type": "code",
   "execution_count": null,
   "metadata": {},
   "outputs": [],
   "source": [
    "# list in Python\n",
    "list1:list[int] = [1, 2, 3, 4, 5, 6, 7, 8, 9, 10]\n",
    "print(list1)\n",
    "# we can't add 5  directly into the list1\n",
    "# list1+5\n",
    "# print(list1)\n",
    "\n",
    "newlist1:list[int] =[i +5  for i in list1]\n",
    "print(newlist1)\n"
   ]
  },
  {
   "cell_type": "code",
   "execution_count": null,
   "metadata": {},
   "outputs": [],
   "source": [
    "# Array in Python\n",
    "\n",
    "import numpy as np\n",
    "array1:np.ndarray = np.array([1, 2, 3, 4, 5, 6, 7, 8, 9, 10])\n",
    "print(array1)\n",
    "a=array1 + 5  \n",
    "print(a)\n",
    "\n"
   ]
  },
  {
   "cell_type": "code",
   "execution_count": null,
   "metadata": {},
   "outputs": [],
   "source": [
    "%%time\n",
    "\n",
    "import numpy as np\n",
    "array1:np.ndarray = np.arange(1,10000000)\n",
    "a=array1 + 5  \n",
    " "
   ]
  },
  {
   "cell_type": "code",
   "execution_count": null,
   "metadata": {},
   "outputs": [],
   "source": [
    "%%time\n",
    "original_list = list(range(1, 10000000))\n",
    "\n",
    "new_list = [i + 5 for i in original_list]\n"
   ]
  },
  {
   "cell_type": "code",
   "execution_count": null,
   "metadata": {},
   "outputs": [],
   "source": [
    " \n",
    " \n",
    "from nptyping import Bool\n",
    "\n",
    "state_bank : NDArray[Shape[\"10\"],Any] = np.array([1,7,8,10])\n",
    "#[1,      7,      8,     10]\n",
    "#[True,  False, False, True]\n",
    "#variable[[True,  False, False, True]]\n",
    "#[1,10]\n",
    "select : NDArray[Shape[\"10\"],Bool]= np.array([True, False, False, True])\n",
    "\n",
    "state_bank[select]"
   ]
  },
  {
   "cell_type": "code",
   "execution_count": null,
   "metadata": {},
   "outputs": [],
   "source": [
    "# Boolean operatioins in NumPy\n",
    "from nptyping import Bool\n",
    "\n",
    "import numpy as np\n",
    "array1: NDArray[Shape[\"10\"],Any] = np.array([1, 2, 3, 4, 5, 6, 7, 8, 9, 10])\n",
    "compare:NDArray[Shape['10'],Bool] =np.array([True,False,True,False,True,False,True,False,True,False])\n",
    "array1[compare]\n",
    "array1%3==0"
   ]
  },
  {
   "cell_type": "code",
   "execution_count": null,
   "metadata": {},
   "outputs": [],
   "source": [
    "from nptyping import Bool\n",
    "\n",
    "import numpy as np\n",
    "array1: NDArray[Shape[\"10\"],Any] = np.array([1, 2,1,11, 3, 4, 5, 6, 7, 8, 9, 10])\n",
    "search_item:NDArray[Shape['1'],Any]=np.array([1,2,11])\n",
    "# array1[np.in1d(array1,search_item )]\n",
    "search_item[np.in1d(search_item ,array1)]\n",
    " \n",
    "# np.intersect1d(search_item ,array1)"
   ]
  },
  {
   "cell_type": "code",
   "execution_count": null,
   "metadata": {},
   "outputs": [],
   "source": [
    "# where \n",
    "x : NDArray[Shape[\"5\"],Any] = np.array([1,3,4,5,7])\n",
    "y : NDArray[Shape[\"5\"],Any] = np.array([6,3,2,5,100])\n",
    " \n",
    "np.where(x > y, x, y)"
   ]
  },
  {
   "cell_type": "code",
   "execution_count": null,
   "metadata": {},
   "outputs": [],
   "source": [
    "import numpy as np\n",
    "from typing import Any\n",
    "from nptyping import NDArray, Shape, UInt64\n",
    "a : NDArray[Shape[\"Size, Size\"], Any] = np.array([[1, 2, 3],[4, 5, 6]])\n",
    "b : NDArray[Shape[\"*, *\"], Any] = np.array([[1, 2, 3],[4, 5, 6]])\n",
    "print(a)\n",
    "print(b)\n",
    "np.who()\n",
    "%who"
   ]
  },
  {
   "cell_type": "code",
   "execution_count": null,
   "metadata": {},
   "outputs": [],
   "source": [
    "# Create any dimenstional array\n",
    "import numpy as np\n",
    "from typing import Any\n",
    "from nptyping import NDArray, Shape, UInt64\n",
    "a:NDArray[Shape['Size'],Any]=np.arange(6*6*6).reshape(6,6,6)\n",
    "# Slicing in array same as Slicing in List in Python \n",
    "print(a[0:1:,4:5:,0:1:] )"
   ]
  },
  {
   "cell_type": "code",
   "execution_count": null,
   "metadata": {},
   "outputs": [],
   "source": [
    "import numpy as np\n",
    "from typing import Any\n",
    "from nptyping import NDArray, Shape, UInt64\n",
    "math_operations : NDArray[Shape[\"10\"], Any] = np.arange(1,11)\n",
    "\n",
    "print(math_operations)\n",
    "print(math_operations.min())\n",
    "print(math_operations.max())\n",
    "print(math_operations.argmax())\n",
    "print(math_operations.argmin())\n",
    "print(math_operations.mean())\n",
    "print(math_operations.std())\n",
    "print(math_operations.sum())\n",
    "print(math_operations.cumsum())"
   ]
  },
  {
   "cell_type": "code",
   "execution_count": 4,
   "metadata": {},
   "outputs": [
    {
     "data": {
      "text/plain": [
       "array([1., 1., 1., 1., 1., 1., 1., 1., 1., 1.])"
      ]
     },
     "execution_count": 4,
     "metadata": {},
     "output_type": "execute_result"
    }
   ],
   "source": [
    "import numpy as np\n",
    "np.asarray([1,2,3])\n",
    "a=np.zeros(10) \n",
    "np.ones((2,2))\n",
    "np.ones_like(a) # make a array such as a but its all the items are ones."
   ]
  }
 ],
 "metadata": {
  "kernelspec": {
   "display_name": "Python 3",
   "language": "python",
   "name": "python3"
  },
  "language_info": {
   "codemirror_mode": {
    "name": "ipython",
    "version": 3
   },
   "file_extension": ".py",
   "mimetype": "text/x-python",
   "name": "python",
   "nbconvert_exporter": "python",
   "pygments_lexer": "ipython3",
   "version": "3.12.1"
  }
 },
 "nbformat": 4,
 "nbformat_minor": 2
}
