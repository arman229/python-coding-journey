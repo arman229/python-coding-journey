{
 "cells": [
  {
   "cell_type": "markdown",
   "metadata": {},
   "source": [
    "4-1. Pizzas: Think of at least three kinds of your favorite pizza. Store these\n",
    "pizza names in a list, and then use a for loop to print the name of each pizza.\n",
    "* Modify your for loop to print a sentence using the name of the pizza,\n",
    "instead of printing just the name of the pizza. For each pizza, you should\n",
    "have one line of output containing a simple statement like I like pepperoni pizza.\n",
    "* Add a line at the end of your program, outside the for loop, that states\n",
    "how much you like pizza. The output should consist of three or more lines\n",
    "about the kinds of pizza you like and then an additional sentence, such as\n",
    "I really love pizza!"
   ]
  },
  {
   "cell_type": "code",
   "execution_count": null,
   "metadata": {},
   "outputs": [],
   "source": [
    "my_favorite_pizza:list[str] = ['pizza1','pizza2', 'pizza3']\n",
    "for pizza in my_favorite_pizza:\n",
    "     print(f' {pizza}')\n",
    "     print(f'My favourite pizza {pizza} and i like it very much')\n",
    "print(\"\\nI really love pizza!\")   "
   ]
  },
  {
   "cell_type": "markdown",
   "metadata": {},
   "source": [
    "4-2. Animals: Think of at least three different animals that have a common characteristic. Store the names of these animals in a list, and then use a for loop to\n",
    "print out the name of each animal.\n",
    "* Modify your program to print a statement about each animal, such as A\n",
    "dog would make a great pet.\n",
    "* Add a line at the end of your program, stating what these animals have in\n",
    "common. You could print a sentence, such as Any of these animals would\n",
    "make a great pet!"
   ]
  },
  {
   "cell_type": "code",
   "execution_count": null,
   "metadata": {},
   "outputs": [],
   "source": [
    "animals_list = ['cat', 'dog', 'bear']\n",
    "\n",
    "for animal in animals_list:\n",
    "    print(animal)\n",
    "    print(f'A {animal} would make a great pet.')\n",
    "\n",
    "print('Any of these animals would make a great pet!')\n"
   ]
  },
  {
   "cell_type": "markdown",
   "metadata": {},
   "source": [
    "4-3. Counting to Twenty: Use a for loop to print the numbers from 1 to 20,\n",
    "inclusive."
   ]
  },
  {
   "cell_type": "code",
   "execution_count": null,
   "metadata": {},
   "outputs": [],
   "source": [
    "for num in range(1,21):\n",
    "    print(num)"
   ]
  },
  {
   "cell_type": "markdown",
   "metadata": {},
   "source": [
    "4-4. One Million: Make a list of the numbers from one to one million, and then\n",
    "use a for loop to print the numbers. (If the output is taking too long, stop it by\n",
    "pressing CTRL-C or by closing the output window.)\n"
   ]
  },
  {
   "cell_type": "code",
   "execution_count": null,
   "metadata": {},
   "outputs": [],
   "source": [
    "for one_million in range(1,1000001):\n",
    "    print(one_million)"
   ]
  },
  {
   "cell_type": "markdown",
   "metadata": {},
   "source": [
    "4-5. Summing a Million: Make a list of the numbers from one to one million, and\n",
    "then use min() and max() to make sure your list actually starts at one and ends\n",
    "at one million. Also, use the sum() function to see how quickly Python can add\n",
    "a million numbers.\n"
   ]
  },
  {
   "cell_type": "code",
   "execution_count": null,
   "metadata": {},
   "outputs": [],
   "source": [
    "list_of_one_million:list[int] = list(range(1, 1000001))\n",
    "total = sum(list_of_one_million)\n",
    "minimum = min(list_of_one_million)\n",
    "maximum = max(list_of_one_million)\n",
    "\n",
    "print(f'The sum of the numbers from 1 to 1,000,000 is {total}.')\n",
    "print(f'The minimum number in the range 1 to 1,000,000 is {minimum}.')\n",
    "print(f'The maximum number in the range 1 to 1,000,000 is {maximum}.')\n"
   ]
  },
  {
   "cell_type": "markdown",
   "metadata": {},
   "source": [
    "4-6. Odd Numbers: Use the third argument of the range() function to make a list\n",
    "of the odd numbers from 1 to 20. Use a for loop to print each number."
   ]
  },
  {
   "cell_type": "code",
   "execution_count": null,
   "metadata": {},
   "outputs": [],
   "source": [
    "odd_list:list[int] = list(range(1,21,2))\n",
    "for odd_num in odd_list:\n",
    "    print(f'Odd number is {odd_num}')"
   ]
  },
  {
   "cell_type": "markdown",
   "metadata": {},
   "source": [
    "4-7. Threes: Make a list of the multiples of 3, from 3 to 30. Use a for loop to\n",
    "print the numbers in your list.\n"
   ]
  },
  {
   "cell_type": "code",
   "execution_count": null,
   "metadata": {},
   "outputs": [],
   "source": [
    "multiple_of_three: list[int] = list(range(3,31,3))\n",
    "for i in multiple_of_three:\n",
    "    print(i)"
   ]
  },
  {
   "cell_type": "markdown",
   "metadata": {},
   "source": [
    "4-8. Cubes: A number raised to the third power is called a cube. For example,\n",
    "the cube of 2 is written as 2**3 in Python. Make a list of the first 10 cubes (that\n",
    "is, the cube of each integer from 1 through 10), and use a for loop to print out\n",
    "the value of each cube.\n"
   ]
  },
  {
   "cell_type": "code",
   "execution_count": null,
   "metadata": {},
   "outputs": [],
   "source": [
    "for cube in range(1,11):\n",
    "    print(f'Cube of {cube} is {cube**3}')\n"
   ]
  },
  {
   "cell_type": "markdown",
   "metadata": {},
   "source": [
    "4-9. Cube Comprehension: Use a list comprehension to generate a list of the first\n",
    "10 cubes."
   ]
  },
  {
   "cell_type": "code",
   "execution_count": null,
   "metadata": {},
   "outputs": [],
   "source": [
    "list_of_cubes :list[int] = [cube**3 for cube in range(1,11)]\n",
    "print(list_of_cubes)"
   ]
  },
  {
   "cell_type": "markdown",
   "metadata": {},
   "source": [
    "4-10. Slices: Using one of the programs you wrote in this chapter, add several\n",
    "lines to the end of the program that do the following:\n",
    "* Print the message The first three items in the list are:. Then use a slice to\n",
    "print the first three items from that program’s list.\n",
    "* Print the message Three items from the middle of the list are:. Then use a\n",
    "slice to print three items from the middle of the list.\n",
    "* Print the message The last three items in the list are:. Then use a slice to\n",
    "print the last three items in the list.\n"
   ]
  },
  {
   "cell_type": "code",
   "execution_count": null,
   "metadata": {},
   "outputs": [],
   "source": [
    "list_of_even : list[int]=list(range(2,28,2))\n",
    "print(list_of_even)\n",
    "print(f'First three items  {list_of_even[:3]}')\n",
    " \n",
    "print(f'Middle of the three items {list_of_even[len(list_of_even)//2-1:len(list_of_even)//2+2]}')\n",
    "print(f'Last of the three items {list_of_even[len(list_of_even)-3:len(list_of_even)]}')\n",
    "\n",
    " \n",
    " \n"
   ]
  },
  {
   "cell_type": "markdown",
   "metadata": {},
   "source": [
    "4-11. My Pizzas, Your Pizzas: Start with your program from Exercise 4-1 (page 56).\n",
    "Make a copy of the list of pizzas, and call it friend_pizzas. Then, do the\n",
    "following:\n",
    "* Add a new pizza to the original list.\n",
    "* Add a different pizza to the list friend_pizzas.\n",
    "* Prove that you have two separate lists. Print the message My favorite pizzas are:, and then use a for loop to print the first list. Print the message My\n",
    "friend’s favorite pizzas are:, and then use a for loop to print the second list.\n",
    "Make sure each new pizza is stored in the appropriate list.\n"
   ]
  },
  {
   "cell_type": "code",
   "execution_count": null,
   "metadata": {},
   "outputs": [],
   "source": [
    "my_foods:list[str] = ['pizza', 'falafel', 'carrot cake']\n",
    "friend_pizzas:list[str] = my_foods[:]\n",
    "my_foods.append('new pizza')\n",
    "friend_pizzas.append('friend new pizza')\n",
    "print('\\nmy favorite pizzas are:')\n",
    "for my_food in my_foods:\n",
    "    print(f'-{my_food}')\n",
    "print(\"\\nMy friend's favorite pizzas are:\")\n",
    "for friend_pizza in friend_pizzas:\n",
    "    print(f'-{friend_pizza}')    \n",
    "\n"
   ]
  },
  {
   "cell_type": "markdown",
   "metadata": {},
   "source": [
    "4-12. More Loops: All versions of foods.py in this section have avoided using\n",
    "for loops when printing, to save space. Choose a version of foods.py, and\n",
    "write two for loops to print each list of foods."
   ]
  },
  {
   "cell_type": "code",
   "execution_count": null,
   "metadata": {},
   "outputs": [],
   "source": [
    "fruits:list[str] = [\"apple\", \"banana\", \"cherry\"]\n",
    "vegetables = [\"carrot\", \"lettuce\", \"onion\"]\n",
    "print(\"Fruits:\")\n",
    "for fruit in fruits:\n",
    "    print(fruit)\n",
    "\n",
    "print(\"\\nVegetables:\")\n",
    "for vegetable in vegetables:\n",
    "    print(vegetable)\n"
   ]
  },
  {
   "cell_type": "markdown",
   "metadata": {},
   "source": [
    "4-13. Buffet: A buffet-style restaurant offers only five basic foods. Think of five\n",
    "simple foods, and store them in a tuple.\n",
    "• Use a for loop to print each food the restaurant offers.\n",
    "• Try to modify one of the items, and make sure that Python rejects the\n",
    "change.\n",
    "• The restaurant changes its menu, replacing two of the items with different\n",
    "foods. Add a line that rewrites the tuple, and then use a for loop to print\n",
    "each of the items on the revised menu."
   ]
  },
  {
   "cell_type": "code",
   "execution_count": null,
   "metadata": {},
   "outputs": [],
   "source": [
    " \n",
    "menu1:tuple[str,str,str,str,str] = ('burger', 'pizza', 'pasta', 'salad', 'ice cream')\n",
    "\n",
    "print(\"Original Menu:\")\n",
    "for food in menu1:\n",
    "    print(food)\n",
    "# menu[2] = 'sushi'\n",
    "\n",
    "menu2:tuple[str,str,str,str,str] = ('burger', 'pizza', 'sushi', 'fruit salad', 'cake')\n",
    "\n",
    "print(\"\\nRevised Menu:\")\n",
    "for food in menu2:\n",
    "    print(food)\n"
   ]
  }
 ],
 "metadata": {
  "kernelspec": {
   "display_name": "mypython12",
   "language": "python",
   "name": "python3"
  },
  "language_info": {
   "codemirror_mode": {
    "name": "ipython",
    "version": 3
   },
   "file_extension": ".py",
   "mimetype": "text/x-python",
   "name": "python",
   "nbconvert_exporter": "python",
   "pygments_lexer": "ipython3",
   "version": "3.12.0"
  }
 },
 "nbformat": 4,
 "nbformat_minor": 2
}
