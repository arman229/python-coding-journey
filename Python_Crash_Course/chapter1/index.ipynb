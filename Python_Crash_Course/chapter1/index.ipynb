{
 "cells": [
  {
   "cell_type": "markdown",
   "metadata": {},
   "source": [
    "# print hello  world"
   ]
  },
  {
   "cell_type": "code",
   "execution_count": 1,
   "metadata": {},
   "outputs": [
    {
     "name": "stdout",
     "output_type": "stream",
     "text": [
      "hello world!\n",
      "33\n"
     ]
    }
   ],
   "source": [
    "print('hello world!')\n",
    "name:int=33\n",
    "print(name)"
   ]
  },
  {
   "cell_type": "markdown",
   "metadata": {},
   "source": [
    "* Memory Allocation: The memory manager might allocate memory differently each time the program runs, depending on factors like the available memory, memory fragmentation, and other system-level considerations.\n",
    "* Jupyter notebooks maintain a persistent Python kernel across multiple code executions within the same session, while Python scripts start a new Python process with each execution.\n",
    "* String interning is a process where Python optimizes memory usage by reusing the same memory address for identical string literals.\n",
    "* In Python, a \"physical address\" typically refers to the memory address where an object is stored in the computer's memory. Every object in Python, whether it's a variable, a function, or any other data structure, resides in memory, and each object has a unique memory address."
   ]
  },
  {
   "cell_type": "code",
   "execution_count": 7,
   "metadata": {},
   "outputs": [
    {
     "name": "stdout",
     "output_type": "stream",
     "text": [
      "2426070746608\n",
      "2426070746608\n"
     ]
    }
   ],
   "source": [
    "name:str='pakistan'\n",
    "name1:str = 'pakistan'\n",
    "print(id(name)) \n",
    "print(id(name1)) # physcial address"
   ]
  },
  {
   "cell_type": "markdown",
   "metadata": {},
   "source": [
    "* In Python, the dir() function returns a list of all attributes and methods of an object. "
   ]
  },
  {
   "cell_type": "code",
   "execution_count": 4,
   "metadata": {},
   "outputs": [
    {
     "name": "stdout",
     "output_type": "stream",
     "text": [
      "arman----ashraf\n",
      "arman----ashraf\n",
      "arman  ashraf\n",
      "Mathemstics\n"
     ]
    }
   ],
   "source": [
    "print('arman','ashraf',sep='----')\n",
    "print('arman','ashraf',sep='----')\n",
    "print('arman',end='  ')\n",
    "print('ashraf')\n",
    "print('Mathemstics')"
   ]
  },
  {
   "cell_type": "code",
   "execution_count": null,
   "metadata": {},
   "outputs": [],
   "source": []
  },
  {
   "cell_type": "code",
   "execution_count": 8,
   "metadata": {},
   "outputs": [
    {
     "name": "stdout",
     "output_type": "stream",
     "text": [
      "3.3\n",
      "<class 'float'>\n",
      "2027659115568\n",
      "[6, 5]\n"
     ]
    }
   ],
   "source": [
    "from typing import Union\n",
    "name:Union[str,int] = \"Arman\"\n",
    "fname:Union[str,int,bool] = False\n",
    "\n",
    "\n",
    "# name = 700\n",
    "\n",
    "name=False\n",
    "name=3.3\n",
    "print(name) # print\n",
    "print(type(name)) # type\n",
    "print(id(name)) # physcial address\n",
    "a=[1,2,3,5,6]\n",
    "print(a[:2:-1]) # print"
   ]
  },
  {
   "cell_type": "code",
   "execution_count": null,
   "metadata": {},
   "outputs": [],
   "source": [
    "fruits:tuple[str,str]=('arman','ashraf')"
   ]
  },
  {
   "cell_type": "code",
   "execution_count": 2,
   "metadata": {},
   "outputs": [
    {
     "name": "stdout",
     "output_type": "stream",
     "text": [
      "3.3\n"
     ]
    }
   ],
   "source": [
    "x:int|str=False\n",
    "print(x)"
   ]
  }
 ],
 "metadata": {
  "kernelspec": {
   "display_name": "mypython12",
   "language": "python",
   "name": "python3"
  },
  "language_info": {
   "codemirror_mode": {
    "name": "ipython",
    "version": 3
   },
   "file_extension": ".py",
   "mimetype": "text/x-python",
   "name": "python",
   "nbconvert_exporter": "python",
   "pygments_lexer": "ipython3",
   "version": "3.12.1"
  }
 },
 "nbformat": 4,
 "nbformat_minor": 2
}
