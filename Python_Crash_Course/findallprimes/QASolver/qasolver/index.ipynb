{
 "cells": [
  {
   "cell_type": "code",
   "execution_count": 3,
   "metadata": {},
   "outputs": [
    {
     "name": "stdout",
     "output_type": "stream",
     "text": [
      "# 2-2 Simple Messages: Assign a message to a variable, and print that message. Then change the value of the variable to a new message, and print the new message. \n",
      "# Solution:\n",
      "message:str='I have completed Bachelor\\'s degree in Mathematics.'\n",
      "print(message)\n",
      "new_message:str=f'My name is Arman.{message}'\n",
      "print(new_message)\n",
      "\n"
     ]
    }
   ],
   "source": [
    "from typing import List \n",
    "from questions import questions\n",
    "from solutions import solutions\n",
    "\n",
    "class BookSolutions:\n",
    "    def __init__(self):\n",
    "        self.questions = questions\n",
    "        self.solutions = solutions\n",
    "\n",
    "    def find_solution(self, query: str) -> List[tuple[str, str, str]] | str|None:\n",
    "        query_lower = query.lower().strip()\n",
    "        matching_solutions: List[tuple[str, str, str]] = []\n",
    "        for key, value in self.questions.items():\n",
    "            if len(query_lower) > 10 and query_lower in value.lower():\n",
    "                matching_solutions.append((key, value, self.solutions[key]))\n",
    "            elif query_lower == key:\n",
    "                matching_solutions.append((key, value, self.solutions[key]))\n",
    "\n",
    "        if matching_solutions:\n",
    "            for key, question, value in matching_solutions:\n",
    "                print(f\"# {key} {question} \\n# Solution:\\n{value}\\n\")\n",
    "        return \"Solution not found\" if not matching_solutions else None\n",
    "\n",
    "book_solutions = BookSolutions()\n",
    " \n",
    "\n",
    " \n",
    "book_solutions.find_solution('2-2')\n",
    " \n",
    " "
   ]
  }
 ],
 "metadata": {
  "kernelspec": {
   "display_name": "Python 3",
   "language": "python",
   "name": "python3"
  },
  "language_info": {
   "codemirror_mode": {
    "name": "ipython",
    "version": 3
   },
   "file_extension": ".py",
   "mimetype": "text/x-python",
   "name": "python",
   "nbconvert_exporter": "python",
   "pygments_lexer": "ipython3",
   "version": "3.12.1"
  }
 },
 "nbformat": 4,
 "nbformat_minor": 2
}
