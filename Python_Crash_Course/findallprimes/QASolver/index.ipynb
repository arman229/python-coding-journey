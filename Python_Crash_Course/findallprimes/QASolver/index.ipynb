{
 "cells": [
  {
   "cell_type": "code",
   "execution_count": 14,
   "metadata": {},
   "outputs": [
    {
     "name": "stdout",
     "output_type": "stream",
     "text": [
      "Question: 4-1 Pizzas: Think of at least three kinds of your favorite pizza. Store these pizza names in a list, and then use a for loop to print the name of each pizza.\n",
      "Modify your for loop to print a sentence using the name of the pizza, instead of printing just the name of the pizza. For each pizza, you should have one line of output containing a simple statement like I like pepperoni pizza.\n",
      "Add a line at the end of your program, outside the for loop, that states how much you like pizza. The output should consist of three or more lines about the kinds of pizza you like and then an additional sentence, such as I really love pizza! \n",
      "Solution:\n",
      "my_favorite_pizza:list[str] = ['pizza1','pizza2', 'pizza3']\n",
      "for pizza in my_favorite_pizza:\n",
      "     print(f' {pizza}')\n",
      "     print(f'My favourite pizza {pizza} and i like it very much')\n",
      "print(\"\\nI really love pizza!\")\n",
      "\n"
     ]
    }
   ],
   "source": [
    "from typing import List \n",
    "from questions import questions\n",
    "from solutions import solutions\n",
    "\n",
    "class BookSolutions:\n",
    "    def __init__(self):\n",
    "        self.questions = questions\n",
    "        self.solutions = solutions\n",
    "\n",
    "    def find_solution(self, query: str) -> List[tuple[str, str, str]] | str|None:\n",
    "        query_lower = query.lower()\n",
    "        matching_solutions: List[tuple[str, str, str]] = []\n",
    "        for key, value in self.questions.items():\n",
    "            if len(query_lower) > 10 and query_lower in value.lower():\n",
    "                matching_solutions.append((key, value, self.solutions[key]))\n",
    "            elif query_lower == key:\n",
    "                matching_solutions.append((key, value, self.solutions[key]))\n",
    "\n",
    "        if matching_solutions:\n",
    "            for key, question, value in matching_solutions:\n",
    "                print(f\"Question: {key} {question} \\nSolution:\\n{value}\\n\")\n",
    "        return \"Solution not found\" if not matching_solutions else None\n",
    "\n",
    "book_solutions = BookSolutions()\n",
    "book_solutions.find_solution('4-1')\n"
   ]
  }
 ],
 "metadata": {
  "kernelspec": {
   "display_name": "Python 3",
   "language": "python",
   "name": "python3"
  },
  "language_info": {
   "codemirror_mode": {
    "name": "ipython",
    "version": 3
   },
   "file_extension": ".py",
   "mimetype": "text/x-python",
   "name": "python",
   "nbconvert_exporter": "python",
   "pygments_lexer": "ipython3",
   "version": "3.12.1"
  }
 },
 "nbformat": 4,
 "nbformat_minor": 2
}
