{
 "cells": [
  {
   "cell_type": "markdown",
   "metadata": {},
   "source": [
    "7-1. Rental Car: Write a program that asks the user what kind of rental car they\n",
    "would like. Print a message about that car, such as “Let me see if I can find you\n",
    "a Subaru.”"
   ]
  },
  {
   "cell_type": "code",
   "execution_count": null,
   "metadata": {},
   "outputs": [],
   "source": [
    "rental_car:str = input('What kind of car would you like?')\n",
    "print(f\"Let me see if I can find you a {rental_car.title()}.\")"
   ]
  },
  {
   "cell_type": "markdown",
   "metadata": {},
   "source": [
    "7-2. Restaurant Seating: Write a program that asks the user how many people\n",
    "are in their dinner group. If the answer is more than eight, print a message saying they’ll have to wait for a table. Otherwise, report that their table is ready.\n"
   ]
  },
  {
   "cell_type": "code",
   "execution_count": 2,
   "metadata": {},
   "outputs": [
    {
     "name": "stdout",
     "output_type": "stream",
     "text": [
      "I'm sorry, you'll have to wait for a table.\n"
     ]
    }
   ],
   "source": [
    "seating:int = int(input('How many people are in your dinner party tonight?'))\n",
    "if seating > 8:\n",
    "    print(\"I'm sorry, you'll have to wait for a table.\")\n",
    "else:\n",
    "    print(\"Your table is ready.\")\n",
    "     \n",
    " "
   ]
  },
  {
   "cell_type": "markdown",
   "metadata": {},
   "source": [
    "7-3. Multiples of Ten: Ask the user for a number, and then report whether the\n",
    "number is a multiple of 10 or not."
   ]
  },
  {
   "cell_type": "code",
   "execution_count": 3,
   "metadata": {},
   "outputs": [
    {
     "name": "stdout",
     "output_type": "stream",
     "text": [
      "3 is not a multiple of 10.\n"
     ]
    }
   ],
   "source": [
    "multiples:int = int(input('Give me a number, please:'))\n",
    "if (multiples % 10==0):\n",
    "    print(f\"{multiples} is a multiple of 10.\")\n",
    "else:\n",
    "    print(f\"{multiples} is not a multiple of 10.\")\n",
    "\n",
    " "
   ]
  },
  {
   "cell_type": "markdown",
   "metadata": {},
   "source": [
    "7-4. Pizza Toppings: Write a loop that prompts the user to enter a series of\n",
    "pizza toppings until they enter a 'quit' value. As they enter each topping, print\n",
    "a message saying you’ll add that topping to their pizza."
   ]
  },
  {
   "cell_type": "code",
   "execution_count": 1,
   "metadata": {},
   "outputs": [
    {
     "name": "stdout",
     "output_type": "stream",
     "text": [
      " I'll add  to your pizza.\n",
      " I'll add ss to your pizza.\n",
      " I'll add sss to your pizza.\n",
      " I'll add  ss   to your pizza.\n",
      " I'll add  to your pizza.\n",
      " I'll add  to your pizza.\n",
      "Successfull close the programe\n"
     ]
    }
   ],
   "source": [
    "prompt = \"\\nWhat topping would you like on your pizza?\"\n",
    "prompt += \"\\nEnter 'quit' when you are finished: \"\n",
    "flag:bool = True\n",
    "while flag :\n",
    "    pizza_toppings:str = input(prompt)\n",
    "    if pizza_toppings !='quit':\n",
    "        print(f' I\\'ll add {pizza_toppings} to your pizza.')\n",
    "       \n",
    "    else: \n",
    "        flag=False    \n",
    "        print('Successfull close the programe')\n",
    "        break\n",
    " "
   ]
  },
  {
   "cell_type": "markdown",
   "metadata": {},
   "source": [
    "7-5. Movie Tickets: A movie theater charges different ticket prices depending on\n",
    "a person’s age. If a person is under the age of 3, the ticket is free; if they are\n",
    "between 3 and 12, the ticket is $10; and if they are over age 12, the ticket is\n",
    "$15. Write a loop in which you ask users their age, and then tell them the cost\n",
    "of their movie ticket."
   ]
  },
  {
   "cell_type": "code",
   "execution_count": 9,
   "metadata": {},
   "outputs": [
    {
     "name": "stdout",
     "output_type": "stream",
     "text": [
      "Program is close\n"
     ]
    }
   ],
   "source": [
    "prompt = \"How old are you?\"\n",
    "prompt += \"\\nEnter 'quit' when you are finished. \"\n",
    "flag : bool = True\n",
    "while flag:\n",
    "    find_age : str = input(prompt)\n",
    "    if find_age.isdigit():\n",
    "        number_age:int = int(find_age)\n",
    "        if number_age < 3:\n",
    "            print(\"  You get in free!\")\n",
    "        elif number_age < 13:\n",
    "            print(\"  Your ticket is $10.\")\n",
    "        else:\n",
    "            print(\"  Your ticket is $15.\") \n",
    "    elif (find_age.lower()=='quit'):\n",
    "       print('Program is close')\n",
    "       flag=False \n",
    "    else:\n",
    "        print('Please enter the correct age input')     "
   ]
  },
  {
   "cell_type": "markdown",
   "metadata": {},
   "source": [
    "7-6. Three Exits: Write different versions of either Exercise 7-4 or 7-5 that do\n",
    "each of the following at least once:\n",
    "• Use a conditional test in the while statement to stop the loop.\n",
    "• Use an active variable to control how long the loop runs.\n",
    "• Use a break statement to exit the loop when the user enters a 'quit' value."
   ]
  },
  {
   "cell_type": "code",
   "execution_count": 11,
   "metadata": {},
   "outputs": [
    {
     "name": "stdout",
     "output_type": "stream",
     "text": [
      " your pizza with topping e  is ready\n",
      " your pizza with topping dfdf  is ready\n",
      "Successfull close the programe\n"
     ]
    }
   ],
   "source": [
    "flag:bool = True\n",
    "while flag :\n",
    "    pizza_toppings:str = input('plz enter the series of tooping in pizza ')\n",
    "    if pizza_toppings !='quit':\n",
    "        print(f' your pizza with topping {pizza_toppings}  is ready')\n",
    "       \n",
    "    else: \n",
    "        flag=False    \n",
    "        print('Successfull close the programe')\n",
    "        break\n",
    " "
   ]
  },
  {
   "cell_type": "markdown",
   "metadata": {},
   "source": [
    "7-7. Infinity: Write a loop that never ends, and run it. (To end the loop, press\n",
    "CTRL-C or close the window displaying the output.)"
   ]
  },
  {
   "cell_type": "code",
   "execution_count": null,
   "metadata": {},
   "outputs": [],
   "source": [
    "n:int = 2\n",
    "while n< 4:\n",
    "    print(n)"
   ]
  },
  {
   "cell_type": "markdown",
   "metadata": {},
   "source": [
    "7-8. Deli: Make a list called sandwich_orders and fill it with the names of various\n",
    "sandwiches. Then make an empty list called finished_sandwiches. Loop through\n",
    "the list of sandwich orders and print a message for each order, such as I made\n",
    "your tuna sandwich. As each sandwich is made, move it to the list of finished\n",
    "sandwiches. After all the sandwiches have been made, print a message listing\n",
    "each sandwich that was made."
   ]
  },
  {
   "cell_type": "code",
   "execution_count": 16,
   "metadata": {},
   "outputs": [
    {
     "name": "stdout",
     "output_type": "stream",
     "text": [
      "I'm working on your sandwiches_3 sandwich.\n",
      "I'm working on your sandwiches_2 sandwich.\n",
      "I'm working on your sandwiches_1 sandwich.\n",
      "I made a sandwiches_3\n",
      "I made a sandwiches_2\n",
      "I made a sandwiches_1\n"
     ]
    }
   ],
   "source": [
    "from typing import Optional\n",
    "sandwich_orders :list[str] = ['sandwiches_1','sandwiches_2','sandwiches_3']\n",
    "finished_sandwiches:list[Optional[str]] = []\n",
    "\n",
    "while sandwich_orders:\n",
    "    remvod =sandwich_orders.pop()\n",
    "    print(f\"I'm working on your {remvod} sandwich.\")\n",
    "    finished_sandwiches.append(remvod)\n",
    "for sandwich in finished_sandwiches:\n",
    "    print(f'I made a {sandwich}')     \n",
    "\n"
   ]
  },
  {
   "cell_type": "markdown",
   "metadata": {},
   "source": [
    "7-9. No Pastrami: Using the list sandwich_orders from Exercise 7-8, make sure\n",
    "the sandwich 'pastrami' appears in the list at least three times. Add code\n",
    "near the beginning of your program to print a message saying the deli has\n",
    "run out of pastrami, and then use a while loop to remove all occurrences of\n",
    "'pastrami' from sandwich_orders. Make sure no pastrami sandwiches end up\n",
    "in finished_sandwiches."
   ]
  },
  {
   "cell_type": "code",
   "execution_count": 4,
   "metadata": {},
   "outputs": [
    {
     "name": "stdout",
     "output_type": "stream",
     "text": [
      "Sorry, the deli has run out of pastrami.\n",
      "\n",
      "List of Finished Sandwiches:\n",
      "chicken\n",
      "roast beef\n",
      "ham\n",
      "turkey\n"
     ]
    }
   ],
   "source": [
    "from typing import Optional \n",
    "sandwich_orders:list[str] = ['pastrami', 'turkey', 'pastrami', 'ham', 'pastrami', 'roast beef', 'chicken', 'pastrami']\n",
    "sandwich_finished:list[str] = []\n",
    "\n",
    "print(\"Sorry, the deli has run out of pastrami.\")\n",
    "\n",
    "while 'pastrami' in sandwich_orders:\n",
    "    sandwich_orders.remove('pastrami')\n",
    "while sandwich_orders:\n",
    "    removed = sandwich_orders.pop()\n",
    "    sandwich_finished.append(removed)\n",
    "\n",
    "print(\"\\nList of Finished Sandwiches:\")\n",
    "for sandwich in sandwich_finished:\n",
    "    print(sandwich)\n"
   ]
  },
  {
   "cell_type": "markdown",
   "metadata": {},
   "source": [
    "7-10. Dream Vacation: Write a program that polls users about their dream vacation. Write a prompt similar to If you could visit one place in the world, where\n",
    "would you go? Include a block of code that prints the results of the poll"
   ]
  },
  {
   "cell_type": "code",
   "execution_count": 21,
   "metadata": {},
   "outputs": [
    {
     "name": "stdout",
     "output_type": "stream",
     "text": [
      "\n",
      "--- Results ---\n",
      "Aa would like to visit Dd.\n"
     ]
    }
   ],
   "source": [
    "from typing import Dict\n",
    "name_prompt:str = \"\\nWhat's your name? \"\n",
    "place_prompt:str = \"If you could visit one place in the world, where would it be? \"\n",
    "continue_prompt:str = \"\\nWould you like to let someone else respond? (yes/no) \"\n",
    "responses:Dict[str,str] = {}\n",
    "while True: \n",
    "    name:str = input(name_prompt)\n",
    "    place:str = input(place_prompt) \n",
    "    responses[name] = place \n",
    "    repeat:str = input(continue_prompt)\n",
    "    if repeat != 'yes':\n",
    "        break \n",
    "print(\"\\n--- Results ---\")\n",
    "for name, place in responses.items():\n",
    "    print(f\"{name.title()} would like to visit {place.title()}.\")"
   ]
  }
 ],
 "metadata": {
  "kernelspec": {
   "display_name": "mypython12",
   "language": "python",
   "name": "python3"
  },
  "language_info": {
   "codemirror_mode": {
    "name": "ipython",
    "version": 3
   },
   "file_extension": ".py",
   "mimetype": "text/x-python",
   "name": "python",
   "nbconvert_exporter": "python",
   "pygments_lexer": "ipython3",
   "version": "3.12.0"
  }
 },
 "nbformat": 4,
 "nbformat_minor": 2
}
