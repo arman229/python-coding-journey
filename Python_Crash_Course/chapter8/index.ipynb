{
 "cells": [
  {
   "cell_type": "markdown",
   "metadata": {},
   "source": [
    "# module\n",
    "functions in separate files called modules to help organize your main program files."
   ]
  },
  {
   "cell_type": "markdown",
   "metadata": {},
   "source": [
    "# function parameters and function arguments\n",
    "Function parameters are the names listed in the  function definition\n",
    "Function arguments are the real values passed to (and received by ) the function."
   ]
  },
  {
   "cell_type": "markdown",
   "metadata": {},
   "source": [
    "# Keyword Arguments\n",
    "A keyword argument is a name-value pair that you pass to a function. You\n",
    "directly associate the name and the value within the argument, so when you\n",
    "pass the argument to the function"
   ]
  },
  {
   "cell_type": "code",
   "execution_count": 1,
   "metadata": {},
   "outputs": [
    {
     "data": {
      "text/plain": [
       "3"
      ]
     },
     "execution_count": 1,
     "metadata": {},
     "output_type": "execute_result"
    }
   ],
   "source": [
    "# Default Values\n",
    "def add_two(num1:int,num2:int=4)->int:\n",
    "    return num1 +num2\n",
    "add_two(num2=2,num1=1)"
   ]
  },
  {
   "cell_type": "markdown",
   "metadata": {},
   "source": [
    "# Please understand the following code attentively:\n",
    "The program will raise an error if we quit it during the first execution without providing the correct input. However, if we successfully provide the correct input, Python will retain the value of the last name. Subsequently, if we quit the program in the next execution, Python will utilize the previously saved value of the last name."
   ]
  },
  {
   "cell_type": "code",
   "execution_count": 19,
   "metadata": {},
   "outputs": [
    {
     "name": "stdout",
     "output_type": "stream",
     "text": [
      "\n",
      "Please tell me your name:\n",
      "Enter 'q' at any time to quit\n"
     ]
    },
    {
     "ename": "NameError",
     "evalue": "name 'l_names' is not defined",
     "output_type": "error",
     "traceback": [
      "\u001b[1;31m---------------------------------------------------------------------------\u001b[0m",
      "\u001b[1;31mNameError\u001b[0m                                 Traceback (most recent call last)",
      "Cell \u001b[1;32mIn[19], line 14\u001b[0m\n\u001b[0;32m     10\u001b[0m     \u001b[38;5;28;01mif\u001b[39;00m l_names \u001b[38;5;241m==\u001b[39m \u001b[38;5;124m'\u001b[39m\u001b[38;5;124mq\u001b[39m\u001b[38;5;124m'\u001b[39m:\n\u001b[0;32m     11\u001b[0m         \u001b[38;5;28;01mbreak\u001b[39;00m\n\u001b[1;32m---> 14\u001b[0m \u001b[38;5;28mprint\u001b[39m(\u001b[38;5;124mf\u001b[39m\u001b[38;5;124m\"\u001b[39m\u001b[38;5;130;01m\\n\u001b[39;00m\u001b[38;5;124mHello, \u001b[39m\u001b[38;5;132;01m{\u001b[39;00mf_name\u001b[38;5;132;01m}\u001b[39;00m\u001b[38;5;124m and \u001b[39m\u001b[38;5;132;01m{\u001b[39;00m\u001b[43ml_names\u001b[49m\u001b[38;5;132;01m}\u001b[39;00m\u001b[38;5;124m!\u001b[39m\u001b[38;5;124m\"\u001b[39m) \n",
      "\u001b[1;31mNameError\u001b[0m: name 'l_names' is not defined"
     ]
    }
   ],
   "source": [
    "flag=True\n",
    "while flag:\n",
    "    print(\"\\nPlease tell me your name:\\nEnter 'q' at any time to quit\")\n",
    " \n",
    "    f_name = input(\"Enter Your First name: \")\n",
    "    if f_name == 'q':\n",
    "        break\n",
    "         \n",
    "    l_names = input(\"Enter Your Last name: \")\n",
    "    if l_names == 'q':\n",
    "        break\n",
    "        \n",
    "  \n",
    "print(f\"\\nHello, {f_name} and {l_names}!\") "
   ]
  },
  {
   "cell_type": "code",
   "execution_count": 20,
   "metadata": {},
   "outputs": [
    {
     "name": "stdout",
     "output_type": "stream",
     "text": [
      "Printing model: dodecahedron\n",
      "Printing model: robot pendant\n",
      "Printing model: phone case\n",
      "\n",
      "The following models have been printed:\n",
      "dodecahedron\n",
      "robot pendant\n",
      "phone case\n"
     ]
    }
   ],
   "source": [
    "unprinted_designs = ['phone case', 'robot pendant', 'dodecahedron']\n",
    "completed_models = []\n",
    "# Simulate printing each design, until none are left.\n",
    "# Move each design to completed_models after printing.\n",
    "while unprinted_designs:\n",
    "    current_design = unprinted_designs.pop()\n",
    "    print(f\"Printing model: {current_design}\")\n",
    "    completed_models.append(current_design)\n",
    "    # Display all completed models.\n",
    "print(\"\\nThe following models have been printed:\")\n",
    "for completed_model in completed_models:\n",
    "    print(completed_model)"
   ]
  },
  {
   "cell_type": "code",
   "execution_count": 23,
   "metadata": {},
   "outputs": [
    {
     "name": "stdout",
     "output_type": "stream",
     "text": [
      "Printing model: dodecahedron\n",
      "Printing model: robot pendant\n",
      "Printing model: phone case\n",
      "\n",
      "The following models have been printed:\n",
      "dodecahedron\n",
      "robot pendant\n",
      "phone case\n",
      "['phone case', 'robot pendant', 'dodecahedron']\n"
     ]
    }
   ],
   "source": [
    "def print_models(unprinted_designs:list[str], completed_models:list[str])->None:\n",
    " \n",
    "    while unprinted_designs:\n",
    "        current_design = unprinted_designs.pop()\n",
    "        print(f\"Printing model: {current_design}\")\n",
    "        completed_models.append(current_design)\n",
    "def show_completed_models(completed_models):\n",
    " \n",
    "    print(\"\\nThe following models have been printed:\")\n",
    "    for completed_model in completed_models:\n",
    "        print(completed_model)\n",
    "unprinted_designs = ['phone case', 'robot pendant', 'dodecahedron']\n",
    "completed_models = []\n",
    "print_models(unprinted_designs[:], completed_models)\n",
    "show_completed_models(completed_models)\n",
    "print(unprinted_designs)"
   ]
  },
  {
   "cell_type": "code",
   "execution_count": 27,
   "metadata": {},
   "outputs": [
    {
     "name": "stdout",
     "output_type": "stream",
     "text": [
      "<class 'tuple'>\n"
     ]
    },
    {
     "data": {
      "text/plain": [
       "23"
      ]
     },
     "execution_count": 27,
     "metadata": {},
     "output_type": "execute_result"
    }
   ],
   "source": [
    "# Passing an Arbitrary Number of Arguments\n",
    "# Note that Python packs the arguments into a tuple, even if the function receives only one value:\n",
    "# Mixing Positional and Arbitrary Arguments\n",
    "# arbitray arguments always pass at the end\n",
    "def sum_fun(par1,*num:int)->int:\n",
    "    print(type(num))\n",
    "    return sum(list(num),par1)\n",
    "sum_fun(9,2,3,4,5)\n",
    "\n"
   ]
  },
  {
   "cell_type": "code",
   "execution_count": 28,
   "metadata": {},
   "outputs": [
    {
     "name": "stdout",
     "output_type": "stream",
     "text": [
      "{'location': 'princeton', 'field': 'physics', 'first_name': 'albert', 'last_name': 'einstein'}\n"
     ]
    }
   ],
   "source": [
    "from typing import Dict\n",
    "# Using Arbitrary Keyword Arguments\n",
    "\n",
    "\n",
    "def build_profile(first:str, last:str, **user_info:Dict[str,str]):\n",
    " \n",
    "    user_info['first_name'] = first\n",
    "    user_info['last_name'] = last\n",
    "    return user_info\n",
    "user_profile = build_profile('arman', 'ashraf',\n",
    "location='pakistn',\n",
    "field='mathematics')\n",
    "print(user_profile)"
   ]
  },
  {
   "cell_type": "code",
   "execution_count": 2,
   "metadata": {},
   "outputs": [
    {
     "name": "stdout",
     "output_type": "stream",
     "text": [
      "5\n"
     ]
    }
   ],
   "source": [
    "# Lambda Function\n",
    "from typing import Callable\n",
    "add:Callable[[int,int],int] = lambda x,y:x+y\n",
    "result=add(2,3)\n",
    "print(result)\n"
   ]
  },
  {
   "cell_type": "code",
   "execution_count": 13,
   "metadata": {},
   "outputs": [
    {
     "name": "stdout",
     "output_type": "stream",
     "text": [
      "[1, 4, 9, 16, 25, 36, 49, 64, 81, 100]\n"
     ]
    }
   ],
   "source": [
    "# map function\n",
    "data : list[int] = [1,2,3,4,5,6,7,8,9,10]\n",
    "\n",
    "data = list(map(lambda x:x**2 , data))\n",
    "print(data)"
   ]
  },
  {
   "cell_type": "code",
   "execution_count": 16,
   "metadata": {},
   "outputs": [
    {
     "name": "stdout",
     "output_type": "stream",
     "text": [
      "[0, 2, 4, 6, 8, 10, 12, 14, 16, 18]\n"
     ]
    }
   ],
   "source": [
    "data:list[int] = list(range(0,20,1))\n",
    " \n",
    "filter_data=list(filter(lambda x:x%2==0 ,data))\n",
    "print(filter_data)"
   ]
  },
  {
   "cell_type": "markdown",
   "metadata": {},
   "source": [
    " # Generator Function\n",
    " A generator function in Python is a special type of function that allows you to generate a sequence of values lazily, on-the-fly, without storing the entire sequence in memory. Generator functions use the yield keyword to yield values one at a time, instead of returning them all at once like a regular function."
   ]
  },
  {
   "cell_type": "code",
   "execution_count": 23,
   "metadata": {},
   "outputs": [
    {
     "name": "stdout",
     "output_type": "stream",
     "text": [
      "1\n"
     ]
    }
   ],
   "source": [
    "from typing import Iterator\n",
    "def square_numbers(n:int)->Iterator[int]:\n",
    "    for i in range(1, n + 1):\n",
    "        yield i ** 2\n",
    " \n",
    "generator = square_numbers(5)\n",
    "print(next(generator))  \n",
    "# print(next(generator))  \n",
    "# print(next(generator))  \n",
    "\n",
    " \n"
   ]
  },
  {
   "cell_type": "code",
   "execution_count": 24,
   "metadata": {},
   "outputs": [
    {
     "name": "stdout",
     "output_type": "stream",
     "text": [
      "1\n",
      "2\n"
     ]
    }
   ],
   "source": [
    "from collections.abc import Iterator\n",
    "\n",
    "def my_range(start:int , end:int , step: int=1)->Iterator[int]:\n",
    "    for i in range(start,end+1,step):\n",
    "        yield i # Generator fucntion\n",
    "\n",
    "\n",
    "iterator_variable = my_range(1,10)\n",
    "\n",
    "print(next(iterator_variable))\n",
    "print(next(iterator_variable))"
   ]
  },
  {
   "cell_type": "code",
   "execution_count": 1,
   "metadata": {},
   "outputs": [
    {
     "name": "stdout",
     "output_type": "stream",
     "text": [
      "(1, 2, 3, 3, 5, 6) <class 'tuple'>\n"
     ]
    },
    {
     "data": {
      "text/plain": [
       "20"
      ]
     },
     "execution_count": 1,
     "metadata": {},
     "output_type": "execute_result"
    }
   ],
   "source": [
    "def abc(*nums:tuple[int,int,int,int]):\n",
    "    print(nums, type(nums))\n",
    "    total = 0\n",
    "    for n in nums:\n",
    "        total += n\n",
    "\n",
    "    return total\n",
    "\n",
    "\n",
    "abc(1,2,3,3,5,6)"
   ]
  },
  {
   "cell_type": "code",
   "execution_count": 10,
   "metadata": {},
   "outputs": [
    {
     "name": "stdout",
     "output_type": "stream",
     "text": [
      "Calling add function with arguments: a=5, b=3\n",
      "Result: 8\n",
      "Calling subtract function with arguments: a=8, b=2\n",
      "Result: 6\n"
     ]
    }
   ],
   "source": [
    "# Without Decorotor\n",
    "def add(a:int, b:int):\n",
    "    print(f\"Calling add function with arguments: a={a}, b={b}\")\n",
    "    result:int = a + b\n",
    "    print(\"Result:\", result)\n",
    "    return result\n",
    "\n",
    "def subtract(a:int, b:int):\n",
    "    print(f\"Calling subtract function with arguments: a={a}, b={b}\")\n",
    "    result:int = a - b\n",
    "    print(\"Result:\", result)\n",
    "    return result\n",
    "\n",
    "# Calling the functions\n",
    "add_result = add(5, 3)\n",
    "subtract_result = subtract(8, 2)\n"
   ]
  },
  {
   "cell_type": "markdown",
   "metadata": {},
   "source": [
    "When we call add_fun(4, 2), Python executes the function wrapper, which was returned by the decoratorfun decorator.\n",
    "\n",
    "Inside the wrapper function, fun(val1, val2) is called, where fun refers to the original undecorated add_fun function.\n",
    "\n",
    "So, add_fun(4, 2) effectively becomes wrapper(4, 2).\n",
    "\n",
    "Inside wrapper, after fun(val1, val2) is executed, the result is printed.\n",
    "\n",
    "Thus, the wrapper function is called implicitly when you call the decorated function (add_fun in this case).\n",
    "* some features of the decorator function\n",
    "Code Reusability: Decorators allow you to encapsulate common functionalities and apply them to multiple functions or methods without duplicating code.\n",
    "DRY Principle (Don't Repeat Yourself): Decorators help adhere to the DRY principle by avoiding the repetition of code. Instead of adding the same functionality to multiple functions, you can create a decorator and apply it where needed."
   ]
  },
  {
   "cell_type": "code",
   "execution_count": 2,
   "metadata": {},
   "outputs": [
    {
     "name": "stdout",
     "output_type": "stream",
     "text": [
      "13\n",
      "2\n"
     ]
    }
   ],
   "source": [
    "# Decorator is a function that takes another function as argument and returns a function\n",
    "from typing import Callable\n",
    "def decoratorfun(fun:Callable[[int,int],int])->Callable[[int],None]:\n",
    "    def wrapper(val1:int,val2:int)->None:\n",
    "        fincal_result=fun(val1,val2)\n",
    "        print(fincal_result)\n",
    "    return wrapper    \n",
    "\n",
    "@decoratorfun\n",
    "def add_fun(x:int,y:int)->int:\n",
    "      return x+y\n",
    "@decoratorfun\n",
    "def sub_fun(x:int,y:int)->int:\n",
    "      return x-y\n",
    "add_find=add_fun(4,2)\n",
    "sub_find=sub_fun(4,2)  "
   ]
  },
  {
   "cell_type": "markdown",
   "metadata": {},
   "source": [
    "# Without using the decorator function "
   ]
  },
  {
   "cell_type": "code",
   "execution_count": 9,
   "metadata": {},
   "outputs": [
    {
     "name": "stdout",
     "output_type": "stream",
     "text": [
      "True\n",
      "About us page.\n",
      "Authentication failed. Please log in.\n",
      "Welcome to the home page!\n",
      "Authentication failed. Please log in.\n"
     ]
    }
   ],
   "source": [
    "# Without using the decorator function \n",
    "def authenticate(username:str, password:str)->str:\n",
    "    # This is a dummy authentication function\n",
    "    return username == \"admin\" and password == \"admin\"\n",
    "def home(username:str, password:str)->str:\n",
    "    if authenticate(username, password):\n",
    "        return \"Welcome to the home page!\"\n",
    "    else:\n",
    "        return \"Authentication failed. Please log in.\"\n",
    "\n",
    "def about(username:str, password:str)->str:\n",
    "    if authenticate(username, password):\n",
    "        return \"About us page.\"\n",
    "    else:\n",
    "        return \"Authentication failed. Please log in.\"\n",
    "\n",
    "def contact(username:str, password:str)->str:\n",
    "    if authenticate(username, password):\n",
    "        return \"Contact us page.\"\n",
    "    else:\n",
    "        return \"Authentication failed. Please log in.\"\n",
    "print(authenticate('admin', 'admin'))\n",
    "print(about('admin','admin'))\n",
    "print(about('Aadmin','admin'))\n",
    "print(home('admin','admin'))\n",
    "print(home('Aadmin','admin'))\n"
   ]
  },
  {
   "cell_type": "markdown",
   "metadata": {},
   "source": [
    "# By using the decorators function"
   ]
  },
  {
   "cell_type": "code",
   "execution_count": 13,
   "metadata": {},
   "outputs": [
    {
     "name": "stdout",
     "output_type": "stream",
     "text": [
      "False\n",
      "About us page.\n",
      "Authentication failed. Please log in.\n",
      "Welcome to the home page!\n",
      "Authentication failed. Please log in.\n"
     ]
    }
   ],
   "source": [
    "# By using the decorators function\n",
    "def authenticate(username, password):\n",
    "    # Your authentication logic here\n",
    "    # This function should return True if the username and password are valid, and False otherwise\n",
    "    if username == 'admin' and password == 'admin':\n",
    "        return True\n",
    "    else:\n",
    "        return False\n",
    "from typing import Callable\n",
    "def authentication_required(func:Callable[[str,str],str]):\n",
    "    def wrapper(username:str, password:str)->str:\n",
    "        if authenticate(username, password):\n",
    "            return func(username, password)\n",
    "        else:\n",
    "            return \"Authentication failed. Please log in.\"\n",
    "    return wrapper\n",
    "\n",
    "@authentication_required\n",
    "def home(username, password):\n",
    "    return \"Welcome to the home page!\"\n",
    "\n",
    "@authentication_required\n",
    "def about(username:str, password:str)->str:\n",
    "    return \"About us page.\"\n",
    "\n",
    "@authentication_required\n",
    "def contact(username:str, password:str)->str:\n",
    "    return \"Contact us page.\"\n",
    "\n",
    "print(authenticate('sadmin', 'admin'))\n",
    "print(about('admin','admin'))\n",
    "print(about('Aadmin','admin'))\n",
    "print(home('admin','admin'))\n",
    "print(home('Aadmin','admin'))\n",
    "\n"
   ]
  }
 ],
 "metadata": {
  "kernelspec": {
   "display_name": "mypython12",
   "language": "python",
   "name": "python3"
  },
  "language_info": {
   "codemirror_mode": {
    "name": "ipython",
    "version": 3
   },
   "file_extension": ".py",
   "mimetype": "text/x-python",
   "name": "python",
   "nbconvert_exporter": "python",
   "pygments_lexer": "ipython3",
   "version": "3.12.1"
  }
 },
 "nbformat": 4,
 "nbformat_minor": 2
}
