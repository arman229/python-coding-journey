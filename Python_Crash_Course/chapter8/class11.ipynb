{
 "cells": [
  {
   "cell_type": "code",
   "execution_count": 32,
   "metadata": {},
   "outputs": [
    {
     "name": "stdout",
     "output_type": "stream",
     "text": [
      "1620432565632\n",
      "1620433054720\n"
     ]
    }
   ],
   "source": [
    "a : list[str] = ['a','b'] # mutable\n",
    "b : list[str] = ['c','d'] # mutable\n",
    "\n",
    "print(id(a))\n",
    "print(id(b))"
   ]
  },
  {
   "cell_type": "code",
   "execution_count": 48,
   "metadata": {},
   "outputs": [
    {
     "name": "stdout",
     "output_type": "stream",
     "text": [
      "<class 'NameError'>\n"
     ]
    }
   ],
   "source": [
    "l1 : list[int] = [1,2,3]\n",
    "try:\n",
    "   # print(5/0) # error\n",
    "   # print(l1[110]) # error\n",
    "    print(xyz) # error\n",
    "except (ZeroDivisionError,IndexError,NameError):\n",
    "    print(NameError)\n"
   ]
  },
  {
   "cell_type": "markdown",
   "metadata": {},
   "source": [
    "Example: Pass by Value (with Immutable Types)"
   ]
  },
  {
   "cell_type": "code",
   "execution_count": 51,
   "metadata": {},
   "outputs": [
    {
     "name": "stdout",
     "output_type": "stream",
     "text": [
      "Before function call: 140711536589368\n",
      "Inside function (before modification): 140711536589368\n",
      "Inside function (after modification): 140711536589528\n",
      "After function call: 140711536589368\n"
     ]
    }
   ],
   "source": [
    "def modify_value(x: int):\n",
    "    print(\"Inside function (before modification):\", id(x))\n",
    "    x = 10\n",
    "    print(\"Inside function (after modification):\", id(x))\n",
    "\n",
    "x = 5\n",
    "print(\"Before function call:\", id(x))\n",
    "modify_value(x)\n",
    "print(\"After function call:\", id(x))"
   ]
  },
  {
   "cell_type": "markdown",
   "metadata": {},
   "source": [
    "Pass by Reference (with Mutable Types)"
   ]
  },
  {
   "cell_type": "code",
   "execution_count": 52,
   "metadata": {},
   "outputs": [
    {
     "name": "stdout",
     "output_type": "stream",
     "text": [
      "Before function call: 1620439640256\n",
      "Inside function (before modification): 1620439640256\n",
      "Inside function (after modification): 1620439640256\n",
      "After function call: 1620439640256\n"
     ]
    }
   ],
   "source": [
    "def modify_list(lst: list):\n",
    "    print(\"Inside function (before modification):\", id(lst))\n",
    "    lst.append(4)\n",
    "    print(\"Inside function (after modification):\", id(lst))\n",
    "\n",
    "my_list = [1, 2, 3]\n",
    "print(\"Before function call:\", id(my_list))\n",
    "modify_list(my_list)\n",
    "print(\"After function call:\", id(my_list))"
   ]
  },
  {
   "cell_type": "code",
   "execution_count": 53,
   "metadata": {},
   "outputs": [
    {
     "name": "stdout",
     "output_type": "stream",
     "text": [
      "Before modification: [1, 2, 3] id: 1620439340608\n",
      "After modification: [1, 2, 3, 4] id: 1620439340608\n"
     ]
    }
   ],
   "source": [
    "# Mutable Type\n",
    "my_list = [1, 2, 3]\n",
    "print(\"Before modification:\", my_list, \"id:\", id(my_list))\n",
    "my_list.append(4)\n",
    "print(\"After modification:\", my_list, \"id:\", id(my_list))"
   ]
  },
  {
   "cell_type": "code",
   "execution_count": 54,
   "metadata": {},
   "outputs": [
    {
     "name": "stdout",
     "output_type": "stream",
     "text": [
      "Before modification: hello id: 1620412212944\n",
      "After modification: hello world id: 1620439716656\n"
     ]
    }
   ],
   "source": [
    "# Immutable Type\n",
    "my_string = \"hello\"\n",
    "print(\"Before modification:\", my_string, \"id:\", id(my_string))\n",
    "my_string = my_string + \" world\"\n",
    "print(\"After modification:\", my_string, \"id:\", id(my_string))"
   ]
  },
  {
   "cell_type": "code",
   "execution_count": 55,
   "metadata": {},
   "outputs": [
    {
     "name": "stdout",
     "output_type": "stream",
     "text": [
      "index out of range list index out of range\n"
     ]
    }
   ],
   "source": [
    "# index error\n",
    "my_list:list[int] = [1,2,3,4,5]\n",
    "try:\n",
    "    my_list[9]\n",
    "except IndexError as e:\n",
    "    print(f'index out of range {e}')    "
   ]
  },
  {
   "cell_type": "markdown",
   "metadata": {},
   "source": [
    " # Try-Except-Else-Finally Block\n",
    "The try-except-else-finally block in Python is used for exception handling.\n",
    "\n",
    "* The try block contains the code that may raise an exception.\n",
    "* The except block contains the code that is executed if an exception is raised.\n",
    "* The else block contains the code that is executed if no exceptions are raised.\n",
    "* The finally block contains the code that is always executed, regardless of whether an exception is raised."
   ]
  },
  {
   "cell_type": "code",
   "execution_count": 57,
   "metadata": {},
   "outputs": [
    {
     "name": "stdout",
     "output_type": "stream",
     "text": [
      "Caught a ZeroDivisionError: division by zero\n",
      "This block is always executed\n"
     ]
    }
   ],
   "source": [
    "try:\n",
    "    numerator = 10\n",
    "    denominator = 0\n",
    "    result = numerator / denominator\n",
    "except ZeroDivisionError as e:\n",
    "    print(\"Caught a ZeroDivisionError:\", str(e))\n",
    "else:\n",
    "    print(\"Division successful:\", result)\n",
    "finally:\n",
    "    print(\"This block is always executed\")"
   ]
  },
  {
   "cell_type": "code",
   "execution_count": 61,
   "metadata": {},
   "outputs": [
    {
     "name": "stdout",
     "output_type": "stream",
     "text": [
      "1620439736320\n",
      "1620439628704\n"
     ]
    }
   ],
   "source": [
    "tup = (1, 2, 3)\n",
    "print(id(tup))\n",
    "new_tup = tup + (4,)\n",
    "print(id(new_tup))"
   ]
  },
  {
   "cell_type": "code",
   "execution_count": 62,
   "metadata": {},
   "outputs": [
    {
     "name": "stdout",
     "output_type": "stream",
     "text": [
      "1620439647744\n",
      "\tValue of start of function [1, 2, 3, 4] address 1620439647744\n",
      "num1 value is [1, 2, 3, 4, 200] address 1620439647744\n",
      "1620439647744\n"
     ]
    }
   ],
   "source": [
    "a : list[int] = [1,2,3,4]\n",
    "\n",
    "print(id(a))\n",
    "\n",
    "def abc(num1:list[int])->None:\n",
    "    print(f\"\\tValue of start of function {num1} address {id(num1)}\")\n",
    "    num1.append(200)# added on element\n",
    "    print(f\"num1 value is {num1} address {id(num1)}\")\n",
    "\n",
    "abc(a)# pass by refference (mutable data type)\n",
    "\n",
    "print(id(a))"
   ]
  },
  {
   "cell_type": "code",
   "execution_count": 65,
   "metadata": {},
   "outputs": [
    {
     "name": "stdout",
     "output_type": "stream",
     "text": [
      "1620439204224\n",
      "1620439645248\n",
      "1620439645312\n"
     ]
    }
   ],
   "source": [
    "a=[2,2,2,3]\n",
    "b=[2,2,2,3]\n",
    "print(id(a))\n",
    "print(id(b))\n",
    "print(id([2,2,2,3]))"
   ]
  }
 ],
 "metadata": {
  "kernelspec": {
   "display_name": "mypython12",
   "language": "python",
   "name": "python3"
  },
  "language_info": {
   "codemirror_mode": {
    "name": "ipython",
    "version": 3
   },
   "file_extension": ".py",
   "mimetype": "text/x-python",
   "name": "python",
   "nbconvert_exporter": "python",
   "pygments_lexer": "ipython3",
   "version": "3.12.0"
  }
 },
 "nbformat": 4,
 "nbformat_minor": 2
}
