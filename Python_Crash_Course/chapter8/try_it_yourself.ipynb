{
 "cells": [
  {
   "cell_type": "markdown",
   "metadata": {},
   "source": [
    "8-1. Message: Write a function called display_message() that prints one sentence telling everyone what you are learning about in this chapter. Call the\n",
    "function, and make sure the message displays correctly."
   ]
  },
  {
   "cell_type": "code",
   "execution_count": 1,
   "metadata": {},
   "outputs": [
    {
     "name": "stdout",
     "output_type": "stream",
     "text": [
      "I am learning python\n"
     ]
    }
   ],
   "source": [
    "def display_message(par1:str)->None:\n",
    "    print(f'{par1}')\n",
    "    \n",
    "display_message('I am learning python')    "
   ]
  },
  {
   "cell_type": "markdown",
   "metadata": {},
   "source": [
    "8-2. Favorite Book: Write a function called favorite_book() that accepts one\n",
    "parameter, title. The function should print a message, such as One of my\n",
    "favorite books is Alice in Wonderland. Call the function, making sure to\n",
    "include a book title as an argument in the function call."
   ]
  },
  {
   "cell_type": "code",
   "execution_count": null,
   "metadata": {},
   "outputs": [],
   "source": [
    "# Values matched up this way are called positional arguments\n",
    "def favorite_book(par1:str)->None:\n",
    "    print(f'One of my favorite books is {par1}')\n",
    "print('Alice in Wonderland')    "
   ]
  },
  {
   "cell_type": "markdown",
   "metadata": {},
   "source": [
    "8-3. T-Shirt: Write a function called make_shirt() that accepts a size and the\n",
    "text of a message that should be printed on the shirt. The function should print a\n",
    "sentence summarizing the size of the shirt and the message printed on it.\n",
    "Call the function once using positional arguments to make a shirt. Call the\n",
    "function a second time using keyword arguments."
   ]
  },
  {
   "cell_type": "code",
   "execution_count": 4,
   "metadata": {},
   "outputs": [
    {
     "name": "stdout",
     "output_type": "stream",
     "text": [
      "I have a very nice shirt whose size is 36\n",
      "I have a very nice shirt whose size is 36\n",
      "I have a very nice shirt whose size is 36\n"
     ]
    }
   ],
   "source": [
    "def make_shsirt(size:int,msg:str)->None:\n",
    "    print(f'I have a {msg} shirt whose size is {size}')\n",
    "make_shsirt(36,'very nice')   \n",
    "make_shsirt(size=36,msg='very nice') \n",
    "make_shsirt(msg='very nice',size=36)    "
   ]
  },
  {
   "cell_type": "markdown",
   "metadata": {},
   "source": [
    "8-4. Large Shirts: Modify the make_shirt() function so that shirts are large\n",
    "by default with a message that reads I love Python. Make a large shirt and a\n",
    "medium shirt with the default message, and a shirt of any size with a different\n",
    "message"
   ]
  },
  {
   "cell_type": "code",
   "execution_count": 5,
   "metadata": {},
   "outputs": [
    {
     "name": "stdout",
     "output_type": "stream",
     "text": [
      "I love Python shirt whose size is large\n",
      "I love Python shirt whose size is medium\n",
      "I love so mush Python shirt whose size is Normal\n"
     ]
    }
   ],
   "source": [
    "def make_shsirt(size:str='large', msg:str='I love Python')->None:\n",
    "    print(f'{msg} shirt whose size is {size}')\n",
    "make_shsirt( )   \n",
    "make_shsirt(size='medium') \n",
    "make_shsirt(msg='I love so mush Python',size='Normal') "
   ]
  },
  {
   "cell_type": "markdown",
   "metadata": {},
   "source": [
    "8-5. Cities: Write a function called describe_city() that accepts the name of\n",
    "a city and its country. The function should print a simple sentence, such as\n",
    "Reykjavik is in Iceland. Give the parameter for the country a default value.\n",
    "Call your function for three different cities, at least one of which is not in the\n",
    "default country."
   ]
  },
  {
   "cell_type": "code",
   "execution_count": null,
   "metadata": {},
   "outputs": [],
   "source": [
    "def describe_city(name:str='lahore',country:str='pakistan')->None:\n",
    "    print(f'{name} is in {country}')\n",
    "describe_city('Sialkot')\n",
    "describe_city('Karachi')\n",
    "describe_city('Islambad')    "
   ]
  },
  {
   "cell_type": "markdown",
   "metadata": {},
   "source": [
    "8-6. City Names: Write a function called city_country() that takes in the name\n",
    "of a city and its country. The function should return a string formatted like this:\n",
    "\"Santiago, Chile\"\n",
    "Call your function with at least three city-country pairs, and print the values\n",
    "that are returned."
   ]
  },
  {
   "cell_type": "markdown",
   "metadata": {},
   "source": [
    "8-7. Album: Write a function called make_album() that builds a dictionary\n",
    "describing a music album. The function should take in an artist name and an\n",
    "album title, and it should return a dictionary containing these two pieces of\n",
    "information. Use the function to make three dictionaries representing different\n",
    "albums. Print each return value to show that the dictionaries are storing the\n",
    "album information correctly.\n",
    "Use None to add an optional parameter to make_album() that allows you to\n",
    "store the number of songs on an album. If the calling line includes a value for\n",
    "the number of songs, add that value to the album’s dictionary. Make at least\n",
    "one new function call that includes the number of songs on an album"
   ]
  },
  {
   "cell_type": "markdown",
   "metadata": {},
   "source": [
    "8-8. User Albums: Start with your program from Exercise 8-7. Write a while\n",
    "loop that allows users to enter an album’s artist and title. Once you have that\n",
    "information, call make_album() with the user’s input and print the dictionary\n",
    "that’s created. Be sure to include a quit value in the while loop."
   ]
  },
  {
   "cell_type": "markdown",
   "metadata": {},
   "source": [
    "8-9. Messages: Make a list containing a series of short text messages. Pass the\n",
    "list to a function called show_messages(), which prints each text message"
   ]
  },
  {
   "cell_type": "markdown",
   "metadata": {},
   "source": [
    "8-10. Sending Messages: Start with a copy of your program from Exercise 8-9.\n",
    "Write a function called send_messages() that prints each text message and\n",
    "moves each message to a new list called sent_messages as it’s printed. After\n",
    "calling the function, print both of your lists to make sure the messages were\n",
    "moved correctly."
   ]
  },
  {
   "cell_type": "markdown",
   "metadata": {},
   "source": [
    "8-11. Archived Messages: Start with your work from Exercise 8-10. Call the function send_messages() with a copy of the list of messages. After calling the function, print both of your lists to show that the original list has retained its messages."
   ]
  },
  {
   "cell_type": "code",
   "execution_count": null,
   "metadata": {},
   "outputs": [],
   "source": []
  }
 ],
 "metadata": {
  "kernelspec": {
   "display_name": "mypython12",
   "language": "python",
   "name": "python3"
  },
  "language_info": {
   "codemirror_mode": {
    "name": "ipython",
    "version": 3
   },
   "file_extension": ".py",
   "mimetype": "text/x-python",
   "name": "python",
   "nbconvert_exporter": "python",
   "pygments_lexer": "ipython3",
   "version": "3.12.0"
  }
 },
 "nbformat": 4,
 "nbformat_minor": 2
}
