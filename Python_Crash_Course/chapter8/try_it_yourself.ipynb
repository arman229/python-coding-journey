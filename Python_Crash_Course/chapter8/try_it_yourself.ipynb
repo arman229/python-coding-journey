{
 "cells": [
  {
   "cell_type": "markdown",
   "metadata": {},
   "source": [
    "8-1. Message: Write a function called display_message() that prints one sentence telling everyone what you are learning about in this chapter. Call the\n",
    "function, and make sure the message displays correctly."
   ]
  },
  {
   "cell_type": "code",
   "execution_count": 1,
   "metadata": {},
   "outputs": [
    {
     "name": "stdout",
     "output_type": "stream",
     "text": [
      "I am learning python\n"
     ]
    }
   ],
   "source": [
    "def display_message()->None:\n",
    "    print(f'I am learning python')\n",
    "    \n",
    "display_message()    "
   ]
  },
  {
   "cell_type": "markdown",
   "metadata": {},
   "source": [
    "8-2. Favorite Book: Write a function called favorite_book() that accepts one\n",
    "parameter, title. The function should print a message, such as One of my\n",
    "favorite books is Alice in Wonderland. Call the function, making sure to\n",
    "include a book title as an argument in the function call."
   ]
  },
  {
   "cell_type": "code",
   "execution_count": null,
   "metadata": {},
   "outputs": [],
   "source": [
    "# Values matched up this way are called positional arguments\n",
    "def favorite_book(par1:str)->None:\n",
    "    print(f'One of my favorite books is {par1}')\n",
    "print('Alice in Wonderland')    "
   ]
  },
  {
   "cell_type": "markdown",
   "metadata": {},
   "source": [
    "8-3. T-Shirt: Write a function called make_shirt() that accepts a size and the\n",
    "text of a message that should be printed on the shirt. The function should print a\n",
    "sentence summarizing the size of the shirt and the message printed on it.\n",
    "Call the function once using positional arguments to make a shirt. Call the\n",
    "function a second time using keyword arguments."
   ]
  },
  {
   "cell_type": "code",
   "execution_count": 4,
   "metadata": {},
   "outputs": [
    {
     "name": "stdout",
     "output_type": "stream",
     "text": [
      "I have a very nice shirt whose size is 36\n",
      "I have a very nice shirt whose size is 36\n",
      "I have a very nice shirt whose size is 36\n"
     ]
    }
   ],
   "source": [
    "def make_shsirt(size:int,msg:str)->None:\n",
    "    print(f'I have a {msg} shirt whose size is {size}')\n",
    "make_shsirt(36,'very nice')   \n",
    "make_shsirt(size=36,msg='very nice') \n",
    "make_shsirt(msg='very nice',size=36)    "
   ]
  },
  {
   "cell_type": "markdown",
   "metadata": {},
   "source": [
    "8-4. Large Shirts: Modify the make_shirt() function so that shirts are large\n",
    "by default with a message that reads I love Python. Make a large shirt and a\n",
    "medium shirt with the default message, and a shirt of any size with a different\n",
    "message"
   ]
  },
  {
   "cell_type": "code",
   "execution_count": 7,
   "metadata": {},
   "outputs": [
    {
     "name": "stdout",
     "output_type": "stream",
     "text": [
      "I love Python shirt whose size is large\n",
      "I love Python shirt whose size is medium\n",
      "I love so mush Python shirt whose size is Normal\n"
     ]
    }
   ],
   "source": [
    "def make_shsirt(size:str='large', msg:str='I love Python')->None:\n",
    "    print(f'{msg} shirt whose size is {size}')\n",
    "make_shsirt( )   \n",
    "make_shsirt(size='medium') \n",
    "make_shsirt('Normal','I love so mush Python') "
   ]
  },
  {
   "cell_type": "markdown",
   "metadata": {},
   "source": [
    "8-5. Cities: Write a function called describe_city() that accepts the name of\n",
    "a city and its country. The function should print a simple sentence, such as\n",
    "Reykjavik is in Iceland. Give the parameter for the country a default value.\n",
    "Call your function for three different cities, at least one of which is not in the\n",
    "default country."
   ]
  },
  {
   "cell_type": "code",
   "execution_count": 8,
   "metadata": {},
   "outputs": [
    {
     "name": "stdout",
     "output_type": "stream",
     "text": [
      "Sialkot is in pakistan\n",
      "Karachi is in Ismlamic repoblic of Pakisan\n",
      "Islambad is in pakistan\n"
     ]
    }
   ],
   "source": [
    "def describe_city(name:str,country:str='pakistan')->None:\n",
    "    print(f'{name} is in {country}')\n",
    "describe_city('Sialkot')\n",
    "describe_city('Karachi','Ismlamic repoblic of Pakisan')\n",
    "describe_city('Islambad')    "
   ]
  },
  {
   "cell_type": "markdown",
   "metadata": {},
   "source": [
    "8-6: City Names\n",
    "Write a function called city_country() that takes in the name of a city and its country. The function should return a string formatted like this:\n",
    "\n",
    "“Santiago, Chile”\n",
    "\n",
    "Call your function with at least three city-country pairs, and print the value that’s returned."
   ]
  },
  {
   "cell_type": "code",
   "execution_count": null,
   "metadata": {},
   "outputs": [],
   "source": [
    "def city_country(city_name:str,country:str)->str:\n",
    "    return f'{city_name} is the captial of {country}'\n",
    "pak:str=city_country('Islambad','Pakistan')\n",
    "fran:str=city_country('paris','france')\n",
    "print(pak)\n",
    "print(fran)"
   ]
  },
  {
   "cell_type": "markdown",
   "metadata": {},
   "source": [
    "8-7. Album: Write a function called make_album() that builds a dictionary\n",
    "describing a music album. The function should take in an artist name and an\n",
    "album title, and it should return a dictionary containing these two pieces of\n",
    "information. Use the function to make three dictionaries representing different\n",
    "albums. Print each return value to show that the dictionaries are storing the\n",
    "album information correctly.\n",
    "Use None to add an optional parameter to make_album() that allows you to\n",
    "store the number of songs on an album. If the calling line includes a value for\n",
    "the number of songs, add that value to the album’s dictionary. Make at least\n",
    "one new function call that includes the number of songs on an album"
   ]
  },
  {
   "cell_type": "code",
   "execution_count": 15,
   "metadata": {},
   "outputs": [
    {
     "name": "stdout",
     "output_type": "stream",
     "text": [
      "{'artist': 'ali', 'title': 'i am ali'}\n",
      "{'artist': 'zain', 'title': 'i am zain'}\n",
      "{'artist': 'saad', 'title': 'i am saad', 'tracks': 20}\n"
     ]
    }
   ],
   "source": [
    "from typing import Dict\n",
    "\n",
    "empty_dict: Dict[str, str] = {}\n",
    "\n",
    "def make_album(artist_name:str,album_title:str,tracks:int=0)->Dict[str,str]:\n",
    "\n",
    "    empty_dict={'artist':artist_name,'title':album_title}\n",
    "    if tracks:\n",
    "        empty_dict['tracks']=tracks\n",
    "    return empty_dict\n",
    "album1:Dict[str, str]=make_album('ali','i am ali')\n",
    "print(album1)\n",
    "album2:Dict[str, str]=make_album('zain','i am zain')\n",
    "print(album2)\n",
    "album3:Dict[str, str]=make_album('saad','i am saad',20)\n",
    "print(album3)"
   ]
  },
  {
   "cell_type": "markdown",
   "metadata": {},
   "source": [
    "8-8. User Albums: Start with your program from Exercise 8-7. Write a while\n",
    "loop that allows users to enter an album’s artist and title. Once you have that\n",
    "information, call make_album() with the user’s input and print the dictionary\n",
    "that’s created. Be sure to include a quit value in the while loop."
   ]
  },
  {
   "cell_type": "code",
   "execution_count": 3,
   "metadata": {},
   "outputs": [
    {
     "name": "stdout",
     "output_type": "stream",
     "text": [
      "Enter 'quit' at any time to stop.\n",
      "{'artist': 'a', 'title': 'f'}\n",
      "\n",
      "Thanks for responding!\n"
     ]
    }
   ],
   "source": [
    "from typing import Dict\n",
    "\n",
    "empty_dict: Dict[str, str] = {}\n",
    "\n",
    "def make_album(artist_name: str, album_title: str, tracks: int = 0) -> Dict[str, str]:\n",
    "    empty_dict = {'artist': artist_name, 'title': album_title}\n",
    "    if tracks:\n",
    "        empty_dict['tracks'] = tracks\n",
    "    return empty_dict\n",
    "print(\"Enter 'quit' at any time to stop.\")\n",
    "\n",
    "while True:\n",
    "    artist_input = input('Please enter the name of the artist: ')\n",
    "    if artist_input.lower() == 'quit':\n",
    "        break\n",
    "    title_input = input('Please enter the title of the album: ')\n",
    "    if title_input.lower() == 'quit':\n",
    "        break\n",
    "    output = make_album(artist_input, title_input)\n",
    "    print(output)\n",
    "\n",
    "print(\"\\nThanks for responding!\")\n"
   ]
  },
  {
   "cell_type": "markdown",
   "metadata": {},
   "source": [
    "8-9. Messages: Make a list containing a series of short text messages. Pass the\n",
    "list to a function called show_messages(), which prints each text message"
   ]
  },
  {
   "cell_type": "code",
   "execution_count": 4,
   "metadata": {},
   "outputs": [
    {
     "name": "stdout",
     "output_type": "stream",
     "text": [
      "My name is arman\n",
      "I am 22 year old\n"
     ]
    }
   ],
   "source": [
    "def show_messages(messages:list[str])->str:\n",
    "    for msg in messages:\n",
    "        print(msg)\n",
    "messages:list[str]=['My name is arman','I am 22 year old'] \n",
    "show_messages(messages) \n",
    "\n",
    " "
   ]
  },
  {
   "cell_type": "markdown",
   "metadata": {},
   "source": [
    "8-10. Sending Messages: Start with a copy of your program from Exercise 8-9.\n",
    "Write a function called send_messages() that prints each text message and\n",
    "moves each message to a new list called sent_messages as it’s printed. After\n",
    "calling the function, print both of your lists to make sure the messages were\n",
    "moved correctly."
   ]
  },
  {
   "cell_type": "code",
   "execution_count": 13,
   "metadata": {},
   "outputs": [
    {
     "name": "stdout",
     "output_type": "stream",
     "text": [
      "My name is arman\n",
      "I am 22 year old\n",
      "I am from Pakistan\n",
      "sending message I am from Pakistan\n",
      "sending message I am 22 year old\n",
      "sending message My name is arman\n",
      "['I am from Pakistan', 'I am 22 year old', 'My name is arman']\n",
      "[]\n"
     ]
    }
   ],
   "source": [
    "\n",
    "\n",
    "def show_messages(messages:list[str])->str:\n",
    "    for msg in messages:\n",
    "        print(msg)\n",
    "        \n",
    "        \n",
    "        \n",
    "def send_messages(messages:list[str])->list[str]:\n",
    "    sent_messages :list[str]=[]\n",
    "    while messages:\n",
    "        msg=messages.pop()\n",
    "        sent_messages.append(msg)\n",
    "        print(f'sending message {msg}')\n",
    "    return sent_messages    \n",
    "        \n",
    "messages:list[str]=['My name is arman','I am 22 year old','I am from Pakistan']         \n",
    "show_messages(messages) \n",
    "sent_messages = send_messages(messages)\n",
    "print(sent_messages)\n",
    "print(messages) "
   ]
  },
  {
   "cell_type": "markdown",
   "metadata": {},
   "source": [
    "8-11. Archived Messages: Start with your work from Exercise 8-10. Call the function send_messages() with a copy of the list of messages. After calling the function, print both of your lists to show that the original list has retained its messages."
   ]
  },
  {
   "cell_type": "code",
   "execution_count": 15,
   "metadata": {},
   "outputs": [
    {
     "name": "stdout",
     "output_type": "stream",
     "text": [
      "My name is arman\n",
      "I am 22 year old\n",
      "I am from Pakistan\n",
      "sending message I am from Pakistan\n",
      "sending message I am 22 year old\n",
      "sending message My name is arman\n",
      "['I am from Pakistan', 'I am 22 year old', 'My name is arman']\n",
      "['My name is arman', 'I am 22 year old', 'I am from Pakistan']\n"
     ]
    }
   ],
   "source": [
    "\n",
    "def show_messages(messages:list[str])->str:\n",
    "    for msg in messages:\n",
    "        print(msg)        \n",
    "def send_messages(messages:list[str])->list[str]:\n",
    "    sent_messages :list[str]=[]\n",
    "    while messages:\n",
    "        msg=messages.pop()\n",
    "        sent_messages.append(msg)\n",
    "        print(f'sending message {msg}')\n",
    "    return sent_messages           \n",
    "messages:list[str]=['My name is arman','I am 22 year old','I am from Pakistan']         \n",
    "show_messages(messages) \n",
    "sent_messages = send_messages(messages[:])\n",
    "print(sent_messages)\n",
    "print(messages) "
   ]
  },
  {
   "cell_type": "markdown",
   "metadata": {},
   "source": [
    "8-12. Sandwiches: Write a function that accepts a list of items a person wants\n",
    "on a sandwich. The function should have one parameter that collects as many\n",
    "items as the function call provides, and it should print a summary of the sandwich that’s being ordered. Call the function three times, using a different number of arguments each time"
   ]
  },
  {
   "cell_type": "code",
   "execution_count": 16,
   "metadata": {},
   "outputs": [
    {
     "name": "stdout",
     "output_type": "stream",
     "text": [
      "\n",
      "I'll make you a great sandwich:\n",
      "  ...adding roast beef to your sandwich.\n",
      "  ...adding cheddar cheese to your sandwich.\n",
      "  ...adding lettuce to your sandwich.\n",
      "  ...adding honey dijon to your sandwich.\n",
      "Your sandwich is ready!\n",
      "\n",
      "I'll make you a great sandwich:\n",
      "  ...adding turkey to your sandwich.\n",
      "  ...adding apple slices to your sandwich.\n",
      "  ...adding honey mustard to your sandwich.\n",
      "Your sandwich is ready!\n",
      "\n",
      "I'll make you a great sandwich:\n",
      "  ...adding peanut butter to your sandwich.\n",
      "  ...adding strawberry jam to your sandwich.\n",
      "Your sandwich is ready!\n"
     ]
    }
   ],
   "source": [
    "def make_sandwich(*items:str)->None:\n",
    "    print(\"\\nI'll make you a great sandwich:\")\n",
    "    for item in items:\n",
    "        print(f\"  ...adding {item}  to your sandwich.\")\n",
    "    print(\"Your sandwich is ready!\")\n",
    "\n",
    "make_sandwich('roast beef', 'cheddar cheese', 'lettuce', 'honey dijon')\n",
    "make_sandwich('turkey', 'apple slices', 'honey mustard')\n",
    "make_sandwich('peanut butter', 'strawberry jam')"
   ]
  },
  {
   "cell_type": "markdown",
   "metadata": {},
   "source": [
    "8-13. User Profile: Start with a copy of user_profile.py from page 148. Build a\n",
    "profile of yourself by calling build_profile(), using your first and last names\n",
    "and three other key-value pairs that describe you"
   ]
  },
  {
   "cell_type": "code",
   "execution_count": null,
   "metadata": {},
   "outputs": [],
   "source": [
    "from typing import Dict\n",
    "# Using Arbitrary Keyword Arguments\n",
    "\n",
    "\n",
    "def build_profile(first:str, last:str, **user_info:Dict[str,str]):\n",
    " \n",
    "    user_info['first_name'] = first\n",
    "    user_info['last_name'] = last\n",
    "    return user_info\n",
    "user_profile = build_profile('arman', 'ashraf',\n",
    "location='pakistn',\n",
    "field='mathematics')\n",
    "print(user_profile)"
   ]
  },
  {
   "cell_type": "markdown",
   "metadata": {},
   "source": [
    "8-14. Cars: Write a function that stores information about a car in a dictionary. The function should always receive a manufacturer and a model name. It\n",
    "should then accept an arbitrary number of keyword arguments. Call the function with the required information and two other name-value pairs, such as a\n",
    "color or an optional feature. Your function should work for a call like this one:\n",
    "car = make_car('subaru', 'outback', color='blue', tow_package=True)\n",
    "Print the dictionary that’s returned to make sure all the information was\n",
    "stored correctly."
   ]
  },
  {
   "cell_type": "code",
   "execution_count": 19,
   "metadata": {},
   "outputs": [
    {
     "name": "stdout",
     "output_type": "stream",
     "text": [
      "{'manufacturer': 'subaru', 'model': 'outback', 'color': 'blue', 'tow_package': True}\n",
      "{'manufacturer': 'subaru', 'model': 'outback', 'color': 'white', 'tow_package': True}\n",
      "{'manufacturer': 'honda', 'model': 'accord', 'year': 1991, 'color': 'white', 'headlights': 'popup'}\n"
     ]
    }
   ],
   "source": [
    "from typing import Dict\n",
    "def make_car(manufacturer: str, model: str, **car_info) -> dict:\n",
    "     \n",
    "    car:Dict[str,str] = {'manufacturer': manufacturer, 'model': model}\n",
    "    for key, value in car_info.items():\n",
    "        car[key] = value\n",
    "    return car\n",
    " \n",
    "car:Dict[str,str] = make_car('subaru', 'outback', color='blue', tow_package=True)\n",
    "print(car)\n",
    "car1:Dict[str,str] = make_car('subaru', 'outback', color='white', tow_package=True)\n",
    "print(car1)\n",
    "car2:Dict[str,str] = make_car('honda', 'accord', year=1991, color='white',\n",
    "        headlights='popup')\n",
    "print(car2)\n",
    "\n",
    "\n"
   ]
  },
  {
   "cell_type": "markdown",
   "metadata": {},
   "source": [
    "8-15. Printing Models: Put the functions for the example printing_models.py in a\n",
    "separate file called printing_functions.py. Write an import statement at the top\n",
    "of printing_models.py, and modify the file to use the imported functions."
   ]
  },
  {
   "cell_type": "code",
   "execution_count": 22,
   "metadata": {},
   "outputs": [
    {
     "name": "stdout",
     "output_type": "stream",
     "text": [
      "Printing model: dodecahedron\n",
      "Printing model: robot pendant\n",
      "Printing model: iphone case\n",
      "\n",
      "The following models have been printed:\n",
      "dodecahedron\n",
      "robot pendant\n",
      "iphone case\n",
      "dodecahedron\n",
      "robot pendant\n",
      "iphone case\n"
     ]
    }
   ],
   "source": [
    "from typing import Optional\n",
    "import printing_functions as pf\n",
    "\n",
    "unprinted_designs:list[str] = ['iphone case', 'robot pendant', 'dodecahedron']\n",
    "completed_models:list[Optional[str]] = []\n",
    "\n",
    "pf.print_models(unprinted_designs, completed_models)\n",
    "pf.show_completed_models(completed_models)"
   ]
  },
  {
   "cell_type": "markdown",
   "metadata": {},
   "source": [
    "8-16. Imports: Using a program you wrote that has one function in it, store that\n",
    "function in a separate file. Import the function into your main program file, and\n",
    "call the function using each of these approaches:\n",
    "import module_name\n",
    "from module_name import function_name\n",
    "from module_name import function_name as fn\n",
    "import module_name as mn\n",
    "from module_name import *"
   ]
  },
  {
   "cell_type": "code",
   "execution_count": 31,
   "metadata": {},
   "outputs": [
    {
     "name": "stdout",
     "output_type": "stream",
     "text": [
      "5\n",
      "14\n",
      "5\n",
      "20\n",
      "5\n"
     ]
    }
   ],
   "source": [
    "import summodule    \n",
    "from summodule import sum_fun\n",
    "from summodule import this_function_find_the_minimum_value_in_the_list as minfun\n",
    "import multiplymodule as mp\n",
    "from summodule import *  #  we can use these functions directly without prefixing them with the module name.\n",
    "find_max:str=summodule.max_fun(2,3,4,5)\n",
    "print(find_max)\n",
    "\n",
    "find_sum:str=summodule.sum_fun(2,3,4,5)\n",
    "print(find_sum)\n",
    "\n",
    "min_funs:str=minfun(2,3,4,5)\n",
    "print(min_funs)\n",
    "\n",
    "min_funs:str=mp.mult_fun(4,5)\n",
    "print(min_funs)\n",
    "\n",
    "max_funs:str=max_fun(4,5)\n",
    "print(max_funs)\n"
   ]
  },
  {
   "cell_type": "markdown",
   "metadata": {},
   "source": [
    "8-17. Styling Functions: Choose any three programs you wrote for this chapter,\n",
    "and make sure they follow the styling guidelines described in this section."
   ]
  },
  {
   "cell_type": "markdown",
   "metadata": {},
   "source": [
    "Here are some general guidelines you can follow to ensure your programs adhere to styling conventions:\n",
    "\n",
    "* Indentation: Use 4 spaces for indentation. Avoid tabs.\n",
    "* Line Length: Limit lines to 79 characters to ensure readability.\n",
    "* Whitespace: Use whitespace appropriately to improve readability. Separate functions and classes with two blank lines. \n",
    "* Use  blank lines sparingly within functions to group related code.\n",
    "* Naming Conventions: Use snake_case for function and variable names. Use ALL_CAPS for constants. Use CamelCase for class names.\n",
    "* Comments: Use descriptive comments to explain the purpose of functions, classes, and complex code blocks. Keep comments  concise and up-to-date.\n",
    "* Imports: Group imports into three sections: standard library imports, related third-party imports, and local application/library specific imports. Separate each section with a blank line. Avoid using wildcard imports (from module import *).\n",
    "* Function Length: Aim for short and focused functions. If a function is too long or complex, consider breaking it up into smaller functions.\n",
    "* Docstrings: Include docstrings for all functions, classes, and modules to describe their purpose, arguments, and return values. Follow the Google Python Style Guide for docstring formatting."
   ]
  },
  {
   "cell_type": "markdown",
   "metadata": {},
   "source": [
    "\n",
    "Docstrings, short for \"documentation strings,\" are string literals that appear as the first statement in a module, function, class, or method definition. They are used to provide documentation about the purpose, usage, and behavior of the code entity they are associated with.\n",
    "\n",
    "Docstrings serve as a form of inline documentation that helps developers understand how to use and interact with the code. They provide a concise summary of what the code does, its parameters, return values, and any other relevant information."
   ]
  },
  {
   "cell_type": "code",
   "execution_count": null,
   "metadata": {},
   "outputs": [],
   "source": [
    "def add(a, b):\n",
    "    \"\"\"Return the sum of two numbers.\"\"\"\n",
    "    return a + b\n"
   ]
  }
 ],
 "metadata": {
  "kernelspec": {
   "display_name": "mypython12",
   "language": "python",
   "name": "python3"
  },
  "language_info": {
   "codemirror_mode": {
    "name": "ipython",
    "version": 3
   },
   "file_extension": ".py",
   "mimetype": "text/x-python",
   "name": "python",
   "nbconvert_exporter": "python",
   "pygments_lexer": "ipython3",
   "version": "3.12.0"
  }
 },
 "nbformat": 4,
 "nbformat_minor": 2
}
